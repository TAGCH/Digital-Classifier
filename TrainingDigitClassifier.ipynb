{
 "cells": [
  {
   "cell_type": "code",
   "execution_count": 1,
   "metadata": {},
   "outputs": [],
   "source": [
    "from fastai.vision.data import URLs, untar_data\n",
    "path = untar_data(URLs.MNIST)"
   ]
  },
  {
   "cell_type": "code",
   "execution_count": 2,
   "metadata": {},
   "outputs": [
    {
     "data": {
      "text/plain": [
       "(#2) [Path('C:/Users/TAGCH/.fastai/data/mnist_png/testing'),Path('C:/Users/TAGCH/.fastai/data/mnist_png/training')]"
      ]
     },
     "execution_count": 2,
     "metadata": {},
     "output_type": "execute_result"
    }
   ],
   "source": [
    "path.ls()"
   ]
  },
  {
   "cell_type": "code",
   "execution_count": 3,
   "metadata": {},
   "outputs": [
    {
     "data": {
      "text/plain": [
       "(#10) [Path('C:/Users/TAGCH/.fastai/data/mnist_png/training/0'),Path('C:/Users/TAGCH/.fastai/data/mnist_png/training/1'),Path('C:/Users/TAGCH/.fastai/data/mnist_png/training/2'),Path('C:/Users/TAGCH/.fastai/data/mnist_png/training/3'),Path('C:/Users/TAGCH/.fastai/data/mnist_png/training/4'),Path('C:/Users/TAGCH/.fastai/data/mnist_png/training/5'),Path('C:/Users/TAGCH/.fastai/data/mnist_png/training/6'),Path('C:/Users/TAGCH/.fastai/data/mnist_png/training/7'),Path('C:/Users/TAGCH/.fastai/data/mnist_png/training/8'),Path('C:/Users/TAGCH/.fastai/data/mnist_png/training/9')]"
      ]
     },
     "execution_count": 3,
     "metadata": {},
     "output_type": "execute_result"
    }
   ],
   "source": [
    "(path/'training').ls()"
   ]
  },
  {
   "cell_type": "code",
   "execution_count": 4,
   "metadata": {},
   "outputs": [
    {
     "data": {
      "text/plain": [
       "(#6131) [Path('C:/Users/TAGCH/.fastai/data/mnist_png/training/3/10.png'),Path('C:/Users/TAGCH/.fastai/data/mnist_png/training/3/10000.png'),Path('C:/Users/TAGCH/.fastai/data/mnist_png/training/3/10011.png'),Path('C:/Users/TAGCH/.fastai/data/mnist_png/training/3/10031.png'),Path('C:/Users/TAGCH/.fastai/data/mnist_png/training/3/10034.png'),Path('C:/Users/TAGCH/.fastai/data/mnist_png/training/3/10042.png'),Path('C:/Users/TAGCH/.fastai/data/mnist_png/training/3/10052.png'),Path('C:/Users/TAGCH/.fastai/data/mnist_png/training/3/1007.png'),Path('C:/Users/TAGCH/.fastai/data/mnist_png/training/3/10074.png'),Path('C:/Users/TAGCH/.fastai/data/mnist_png/training/3/10091.png')...]"
      ]
     },
     "execution_count": 4,
     "metadata": {},
     "output_type": "execute_result"
    }
   ],
   "source": [
    "ones = (path/'training'/'1').ls().sorted()\n",
    "twos = (path/'training'/'2').ls().sorted()\n",
    "threes = (path/'training'/'3').ls().sorted()\n",
    "fours = (path/'training'/'4').ls().sorted()\n",
    "fives = (path/'training'/'5').ls().sorted()\n",
    "sixes = (path/'training'/'6').ls().sorted()\n",
    "sevens = (path/'training'/'7').ls().sorted()\n",
    "eights = (path/'training'/'8').ls().sorted()\n",
    "nines = (path/'training'/'9').ls().sorted()\n",
    "zeros = (path/'training'/'0').ls().sorted()\n",
    "threes"
   ]
  },
  {
   "cell_type": "markdown",
   "metadata": {},
   "source": [
    "As we might expect, it’s full of image files. Let’s take a look at one now. Here’s an\n",
    "image of a handwritten number 3, taken from the famous MNIST dataset of hand‐\n",
    "written numbers:"
   ]
  },
  {
   "cell_type": "code",
   "execution_count": 5,
   "metadata": {},
   "outputs": [
    {
     "data": {
      "image/jpeg": "[encoded data removed]",
      "image/png": "[encoded data removed]",
      "text/plain": [
       "<PIL.PngImagePlugin.PngImageFile image mode=L size=28x28>"
      ]
     },
     "execution_count": 5,
     "metadata": {},
     "output_type": "execute_result"
    }
   ],
   "source": [
    "from PIL import Image\n",
    "\n",
    "im3_path = threes[1]\n",
    "im3 = Image.open(im3_path)\n",
    "im3"
   ]
  },
  {
   "cell_type": "markdown",
   "metadata": {},
   "source": [
    "In a computer, everything is represented as a number. To view the numbers that make\n",
    "up this image, we have to convert it to a NumPy array or a PyTorch tensor. For\n",
    "instance, here’s what a section of the image looks like converted to a NumPy array:"
   ]
  },
  {
   "cell_type": "code",
   "execution_count": 6,
   "metadata": {},
   "outputs": [
    {
     "data": {
      "text/plain": [
       "array([[  0,   0,   0,   0,   0,   0],\n",
       "       [  0,   0,   0,   0,   0,  29],\n",
       "       [  0,   0,   0,  48, 166, 224],\n",
       "       [  0,  93, 244, 249, 253, 187],\n",
       "       [  0, 107, 253, 253, 230,  48],\n",
       "       [  0,   3,  20,  20,  15,   0]], dtype=uint8)"
      ]
     },
     "execution_count": 6,
     "metadata": {},
     "output_type": "execute_result"
    }
   ],
   "source": [
    "import numpy as np\n",
    "\n",
    "np.array(im3)[4:10,4:10]"
   ]
  },
  {
   "cell_type": "markdown",
   "metadata": {},
   "source": [
    "The 4:10 indicates we requested the rows from index 4 (inclusive) to 10 (noninclu‐\n",
    "sive), and the same for the columns. NumPy indexes from top to bottom and from\n",
    "left to right, so this section is located near the top-left corner of the image. Here’s the\n",
    "same thing as a PyTorch tensor:"
   ]
  },
  {
   "cell_type": "code",
   "execution_count": 7,
   "metadata": {},
   "outputs": [
    {
     "data": {
      "text/plain": [
       "tensor([[  0,   0,   0,   0,   0,   0],\n",
       "        [  0,   0,   0,   0,   0,  29],\n",
       "        [  0,   0,   0,  48, 166, 224],\n",
       "        [  0,  93, 244, 249, 253, 187],\n",
       "        [  0, 107, 253, 253, 230,  48],\n",
       "        [  0,   3,  20,  20,  15,   0]], dtype=torch.uint8)"
      ]
     },
     "execution_count": 7,
     "metadata": {},
     "output_type": "execute_result"
    }
   ],
   "source": [
    "import torch\n",
    "\n",
    "im3_array = np.array(im3)\n",
    "\n",
    "# Convert the cropped array to a PyTorch tensor\n",
    "copy_tensor = torch.tensor(im3_array)\n",
    "copy_tensor[4:10,4:10]"
   ]
  },
  {
   "cell_type": "markdown",
   "metadata": {},
   "source": [
    "We can slice the array to pick just the part with the top of the digit in it, and then use\n",
    "a Pandas DataFrame to color-code the values using a gradient, which shows us clearly\n",
    "how the image is created from the pixel values:"
   ]
  },
  {
   "cell_type": "code",
   "execution_count": 8,
   "metadata": {},
   "outputs": [
    {
     "data": {
      "text/html": [
       "<style type=\"text/css\">\n",
       "#T_d3d8a_row0_col0, #T_d3d8a_row0_col1, #T_d3d8a_row0_col2, #T_d3d8a_row0_col3, #T_d3d8a_row0_col4, #T_d3d8a_row0_col5, #T_d3d8a_row0_col6, #T_d3d8a_row0_col7, #T_d3d8a_row0_col8, #T_d3d8a_row0_col9, #T_d3d8a_row0_col10, #T_d3d8a_row0_col11, #T_d3d8a_row0_col12, #T_d3d8a_row0_col13, #T_d3d8a_row0_col14, #T_d3d8a_row0_col15, #T_d3d8a_row0_col16, #T_d3d8a_row0_col17, #T_d3d8a_row1_col0, #T_d3d8a_row1_col1, #T_d3d8a_row1_col2, #T_d3d8a_row1_col3, #T_d3d8a_row1_col4, #T_d3d8a_row1_col15, #T_d3d8a_row1_col16, #T_d3d8a_row1_col17, #T_d3d8a_row2_col0, #T_d3d8a_row2_col1, #T_d3d8a_row2_col2, #T_d3d8a_row2_col15, #T_d3d8a_row2_col16, #T_d3d8a_row2_col17, #T_d3d8a_row3_col0, #T_d3d8a_row3_col15, #T_d3d8a_row3_col16, #T_d3d8a_row3_col17, #T_d3d8a_row4_col0, #T_d3d8a_row4_col6, #T_d3d8a_row4_col7, #T_d3d8a_row4_col8, #T_d3d8a_row4_col9, #T_d3d8a_row4_col10, #T_d3d8a_row4_col15, #T_d3d8a_row4_col16, #T_d3d8a_row4_col17, #T_d3d8a_row5_col0, #T_d3d8a_row5_col5, #T_d3d8a_row5_col6, #T_d3d8a_row5_col7, #T_d3d8a_row5_col8, #T_d3d8a_row5_col9, #T_d3d8a_row5_col15, #T_d3d8a_row5_col16, #T_d3d8a_row5_col17, #T_d3d8a_row6_col0, #T_d3d8a_row6_col1, #T_d3d8a_row6_col2, #T_d3d8a_row6_col3, #T_d3d8a_row6_col4, #T_d3d8a_row6_col5, #T_d3d8a_row6_col6, #T_d3d8a_row6_col7, #T_d3d8a_row6_col8, #T_d3d8a_row6_col9, #T_d3d8a_row6_col14, #T_d3d8a_row6_col15, #T_d3d8a_row6_col16, #T_d3d8a_row6_col17, #T_d3d8a_row7_col0, #T_d3d8a_row7_col1, #T_d3d8a_row7_col2, #T_d3d8a_row7_col3, #T_d3d8a_row7_col4, #T_d3d8a_row7_col5, #T_d3d8a_row7_col6, #T_d3d8a_row7_col13, #T_d3d8a_row7_col14, #T_d3d8a_row7_col15, #T_d3d8a_row7_col16, #T_d3d8a_row7_col17, #T_d3d8a_row8_col0, #T_d3d8a_row8_col1, #T_d3d8a_row8_col2, #T_d3d8a_row8_col3, #T_d3d8a_row8_col4, #T_d3d8a_row8_col13, #T_d3d8a_row8_col14, #T_d3d8a_row8_col15, #T_d3d8a_row8_col16, #T_d3d8a_row8_col17, #T_d3d8a_row9_col0, #T_d3d8a_row9_col1, #T_d3d8a_row9_col2, #T_d3d8a_row9_col3, #T_d3d8a_row9_col4, #T_d3d8a_row9_col16, #T_d3d8a_row9_col17, #T_d3d8a_row10_col0, #T_d3d8a_row10_col1, #T_d3d8a_row10_col2, #T_d3d8a_row10_col3, #T_d3d8a_row10_col4, #T_d3d8a_row10_col5, #T_d3d8a_row10_col6, #T_d3d8a_row10_col17 {\n",
       "  font-size: 6pt;\n",
       "  background-color: #ffffff;\n",
       "  color: #000000;\n",
       "}\n",
       "#T_d3d8a_row1_col5 {\n",
       "  font-size: 6pt;\n",
       "  background-color: #efefef;\n",
       "  color: #000000;\n",
       "}\n",
       "#T_d3d8a_row1_col6, #T_d3d8a_row1_col13 {\n",
       "  font-size: 6pt;\n",
       "  background-color: #7c7c7c;\n",
       "  color: #f1f1f1;\n",
       "}\n",
       "#T_d3d8a_row1_col7 {\n",
       "  font-size: 6pt;\n",
       "  background-color: #4a4a4a;\n",
       "  color: #f1f1f1;\n",
       "}\n",
       "#T_d3d8a_row1_col8, #T_d3d8a_row1_col9, #T_d3d8a_row1_col10, #T_d3d8a_row2_col5, #T_d3d8a_row2_col6, #T_d3d8a_row2_col7, #T_d3d8a_row2_col11, #T_d3d8a_row2_col12, #T_d3d8a_row2_col13, #T_d3d8a_row3_col4, #T_d3d8a_row3_col12, #T_d3d8a_row3_col13, #T_d3d8a_row4_col1, #T_d3d8a_row4_col2, #T_d3d8a_row4_col3, #T_d3d8a_row4_col12, #T_d3d8a_row4_col13, #T_d3d8a_row5_col12, #T_d3d8a_row6_col11, #T_d3d8a_row9_col11, #T_d3d8a_row10_col11, #T_d3d8a_row10_col12, #T_d3d8a_row10_col13, #T_d3d8a_row10_col14, #T_d3d8a_row10_col15, #T_d3d8a_row10_col16 {\n",
       "  font-size: 6pt;\n",
       "  background-color: #000000;\n",
       "  color: #f1f1f1;\n",
       "}\n",
       "#T_d3d8a_row1_col11 {\n",
       "  font-size: 6pt;\n",
       "  background-color: #606060;\n",
       "  color: #f1f1f1;\n",
       "}\n",
       "#T_d3d8a_row1_col12 {\n",
       "  font-size: 6pt;\n",
       "  background-color: #4d4d4d;\n",
       "  color: #f1f1f1;\n",
       "}\n",
       "#T_d3d8a_row1_col14 {\n",
       "  font-size: 6pt;\n",
       "  background-color: #bbbbbb;\n",
       "  color: #000000;\n",
       "}\n",
       "#T_d3d8a_row2_col3 {\n",
       "  font-size: 6pt;\n",
       "  background-color: #e4e4e4;\n",
       "  color: #000000;\n",
       "}\n",
       "#T_d3d8a_row2_col4, #T_d3d8a_row8_col6 {\n",
       "  font-size: 6pt;\n",
       "  background-color: #6b6b6b;\n",
       "  color: #f1f1f1;\n",
       "}\n",
       "#T_d3d8a_row2_col8, #T_d3d8a_row2_col14, #T_d3d8a_row3_col14 {\n",
       "  font-size: 6pt;\n",
       "  background-color: #171717;\n",
       "  color: #f1f1f1;\n",
       "}\n",
       "#T_d3d8a_row2_col9, #T_d3d8a_row3_col11 {\n",
       "  font-size: 6pt;\n",
       "  background-color: #4b4b4b;\n",
       "  color: #f1f1f1;\n",
       "}\n",
       "#T_d3d8a_row2_col10, #T_d3d8a_row7_col10, #T_d3d8a_row8_col8, #T_d3d8a_row8_col10, #T_d3d8a_row9_col8, #T_d3d8a_row9_col10 {\n",
       "  font-size: 6pt;\n",
       "  background-color: #010101;\n",
       "  color: #f1f1f1;\n",
       "}\n",
       "#T_d3d8a_row3_col1 {\n",
       "  font-size: 6pt;\n",
       "  background-color: #272727;\n",
       "  color: #f1f1f1;\n",
       "}\n",
       "#T_d3d8a_row3_col2 {\n",
       "  font-size: 6pt;\n",
       "  background-color: #0a0a0a;\n",
       "  color: #f1f1f1;\n",
       "}\n",
       "#T_d3d8a_row3_col3 {\n",
       "  font-size: 6pt;\n",
       "  background-color: #050505;\n",
       "  color: #f1f1f1;\n",
       "}\n",
       "#T_d3d8a_row3_col5 {\n",
       "  font-size: 6pt;\n",
       "  background-color: #333333;\n",
       "  color: #f1f1f1;\n",
       "}\n",
       "#T_d3d8a_row3_col6 {\n",
       "  font-size: 6pt;\n",
       "  background-color: #e6e6e6;\n",
       "  color: #000000;\n",
       "}\n",
       "#T_d3d8a_row3_col7, #T_d3d8a_row3_col10 {\n",
       "  font-size: 6pt;\n",
       "  background-color: #fafafa;\n",
       "  color: #000000;\n",
       "}\n",
       "#T_d3d8a_row3_col8 {\n",
       "  font-size: 6pt;\n",
       "  background-color: #fbfbfb;\n",
       "  color: #000000;\n",
       "}\n",
       "#T_d3d8a_row3_col9 {\n",
       "  font-size: 6pt;\n",
       "  background-color: #fdfdfd;\n",
       "  color: #000000;\n",
       "}\n",
       "#T_d3d8a_row4_col4 {\n",
       "  font-size: 6pt;\n",
       "  background-color: #1b1b1b;\n",
       "  color: #f1f1f1;\n",
       "}\n",
       "#T_d3d8a_row4_col5 {\n",
       "  font-size: 6pt;\n",
       "  background-color: #e0e0e0;\n",
       "  color: #000000;\n",
       "}\n",
       "#T_d3d8a_row4_col11 {\n",
       "  font-size: 6pt;\n",
       "  background-color: #4e4e4e;\n",
       "  color: #f1f1f1;\n",
       "}\n",
       "#T_d3d8a_row4_col14 {\n",
       "  font-size: 6pt;\n",
       "  background-color: #767676;\n",
       "  color: #f1f1f1;\n",
       "}\n",
       "#T_d3d8a_row5_col1 {\n",
       "  font-size: 6pt;\n",
       "  background-color: #fcfcfc;\n",
       "  color: #000000;\n",
       "}\n",
       "#T_d3d8a_row5_col2, #T_d3d8a_row5_col3 {\n",
       "  font-size: 6pt;\n",
       "  background-color: #f6f6f6;\n",
       "  color: #000000;\n",
       "}\n",
       "#T_d3d8a_row5_col4, #T_d3d8a_row7_col7 {\n",
       "  font-size: 6pt;\n",
       "  background-color: #f8f8f8;\n",
       "  color: #000000;\n",
       "}\n",
       "#T_d3d8a_row5_col10, #T_d3d8a_row10_col7 {\n",
       "  font-size: 6pt;\n",
       "  background-color: #e8e8e8;\n",
       "  color: #000000;\n",
       "}\n",
       "#T_d3d8a_row5_col11 {\n",
       "  font-size: 6pt;\n",
       "  background-color: #222222;\n",
       "  color: #f1f1f1;\n",
       "}\n",
       "#T_d3d8a_row5_col13, #T_d3d8a_row6_col12 {\n",
       "  font-size: 6pt;\n",
       "  background-color: #090909;\n",
       "  color: #f1f1f1;\n",
       "}\n",
       "#T_d3d8a_row5_col14 {\n",
       "  font-size: 6pt;\n",
       "  background-color: #d0d0d0;\n",
       "  color: #000000;\n",
       "}\n",
       "#T_d3d8a_row6_col10, #T_d3d8a_row7_col11, #T_d3d8a_row9_col6 {\n",
       "  font-size: 6pt;\n",
       "  background-color: #060606;\n",
       "  color: #f1f1f1;\n",
       "}\n",
       "#T_d3d8a_row6_col13 {\n",
       "  font-size: 6pt;\n",
       "  background-color: #979797;\n",
       "  color: #f1f1f1;\n",
       "}\n",
       "#T_d3d8a_row7_col8 {\n",
       "  font-size: 6pt;\n",
       "  background-color: #b6b6b6;\n",
       "  color: #000000;\n",
       "}\n",
       "#T_d3d8a_row7_col9 {\n",
       "  font-size: 6pt;\n",
       "  background-color: #252525;\n",
       "  color: #f1f1f1;\n",
       "}\n",
       "#T_d3d8a_row7_col12 {\n",
       "  font-size: 6pt;\n",
       "  background-color: #999999;\n",
       "  color: #f1f1f1;\n",
       "}\n",
       "#T_d3d8a_row8_col5 {\n",
       "  font-size: 6pt;\n",
       "  background-color: #f9f9f9;\n",
       "  color: #000000;\n",
       "}\n",
       "#T_d3d8a_row8_col7 {\n",
       "  font-size: 6pt;\n",
       "  background-color: #101010;\n",
       "  color: #f1f1f1;\n",
       "}\n",
       "#T_d3d8a_row8_col9, #T_d3d8a_row9_col9 {\n",
       "  font-size: 6pt;\n",
       "  background-color: #020202;\n",
       "  color: #f1f1f1;\n",
       "}\n",
       "#T_d3d8a_row8_col11 {\n",
       "  font-size: 6pt;\n",
       "  background-color: #545454;\n",
       "  color: #f1f1f1;\n",
       "}\n",
       "#T_d3d8a_row8_col12 {\n",
       "  font-size: 6pt;\n",
       "  background-color: #f1f1f1;\n",
       "  color: #000000;\n",
       "}\n",
       "#T_d3d8a_row9_col5 {\n",
       "  font-size: 6pt;\n",
       "  background-color: #f7f7f7;\n",
       "  color: #000000;\n",
       "}\n",
       "#T_d3d8a_row9_col7 {\n",
       "  font-size: 6pt;\n",
       "  background-color: #030303;\n",
       "  color: #f1f1f1;\n",
       "}\n",
       "#T_d3d8a_row9_col12 {\n",
       "  font-size: 6pt;\n",
       "  background-color: #181818;\n",
       "  color: #f1f1f1;\n",
       "}\n",
       "#T_d3d8a_row9_col13 {\n",
       "  font-size: 6pt;\n",
       "  background-color: #303030;\n",
       "  color: #f1f1f1;\n",
       "}\n",
       "#T_d3d8a_row9_col14 {\n",
       "  font-size: 6pt;\n",
       "  background-color: #a9a9a9;\n",
       "  color: #f1f1f1;\n",
       "}\n",
       "#T_d3d8a_row9_col15 {\n",
       "  font-size: 6pt;\n",
       "  background-color: #fefefe;\n",
       "  color: #000000;\n",
       "}\n",
       "#T_d3d8a_row10_col8, #T_d3d8a_row10_col9 {\n",
       "  font-size: 6pt;\n",
       "  background-color: #bababa;\n",
       "  color: #000000;\n",
       "}\n",
       "#T_d3d8a_row10_col10 {\n",
       "  font-size: 6pt;\n",
       "  background-color: #393939;\n",
       "  color: #f1f1f1;\n",
       "}\n",
       "</style>\n",
       "<table id=\"T_d3d8a_\">\n",
       "  <thead>\n",
       "    <tr>\n",
       "      <th class=\"blank level0\" >&nbsp;</th>\n",
       "      <th class=\"col_heading level0 col0\" >0</th>\n",
       "      <th class=\"col_heading level0 col1\" >1</th>\n",
       "      <th class=\"col_heading level0 col2\" >2</th>\n",
       "      <th class=\"col_heading level0 col3\" >3</th>\n",
       "      <th class=\"col_heading level0 col4\" >4</th>\n",
       "      <th class=\"col_heading level0 col5\" >5</th>\n",
       "      <th class=\"col_heading level0 col6\" >6</th>\n",
       "      <th class=\"col_heading level0 col7\" >7</th>\n",
       "      <th class=\"col_heading level0 col8\" >8</th>\n",
       "      <th class=\"col_heading level0 col9\" >9</th>\n",
       "      <th class=\"col_heading level0 col10\" >10</th>\n",
       "      <th class=\"col_heading level0 col11\" >11</th>\n",
       "      <th class=\"col_heading level0 col12\" >12</th>\n",
       "      <th class=\"col_heading level0 col13\" >13</th>\n",
       "      <th class=\"col_heading level0 col14\" >14</th>\n",
       "      <th class=\"col_heading level0 col15\" >15</th>\n",
       "      <th class=\"col_heading level0 col16\" >16</th>\n",
       "      <th class=\"col_heading level0 col17\" >17</th>\n",
       "    </tr>\n",
       "  </thead>\n",
       "  <tbody>\n",
       "    <tr>\n",
       "      <th id=\"T_d3d8a_level0_row0\" class=\"row_heading level0 row0\" >0</th>\n",
       "      <td id=\"T_d3d8a_row0_col0\" class=\"data row0 col0\" >0</td>\n",
       "      <td id=\"T_d3d8a_row0_col1\" class=\"data row0 col1\" >0</td>\n",
       "      <td id=\"T_d3d8a_row0_col2\" class=\"data row0 col2\" >0</td>\n",
       "      <td id=\"T_d3d8a_row0_col3\" class=\"data row0 col3\" >0</td>\n",
       "      <td id=\"T_d3d8a_row0_col4\" class=\"data row0 col4\" >0</td>\n",
       "      <td id=\"T_d3d8a_row0_col5\" class=\"data row0 col5\" >0</td>\n",
       "      <td id=\"T_d3d8a_row0_col6\" class=\"data row0 col6\" >0</td>\n",
       "      <td id=\"T_d3d8a_row0_col7\" class=\"data row0 col7\" >0</td>\n",
       "      <td id=\"T_d3d8a_row0_col8\" class=\"data row0 col8\" >0</td>\n",
       "      <td id=\"T_d3d8a_row0_col9\" class=\"data row0 col9\" >0</td>\n",
       "      <td id=\"T_d3d8a_row0_col10\" class=\"data row0 col10\" >0</td>\n",
       "      <td id=\"T_d3d8a_row0_col11\" class=\"data row0 col11\" >0</td>\n",
       "      <td id=\"T_d3d8a_row0_col12\" class=\"data row0 col12\" >0</td>\n",
       "      <td id=\"T_d3d8a_row0_col13\" class=\"data row0 col13\" >0</td>\n",
       "      <td id=\"T_d3d8a_row0_col14\" class=\"data row0 col14\" >0</td>\n",
       "      <td id=\"T_d3d8a_row0_col15\" class=\"data row0 col15\" >0</td>\n",
       "      <td id=\"T_d3d8a_row0_col16\" class=\"data row0 col16\" >0</td>\n",
       "      <td id=\"T_d3d8a_row0_col17\" class=\"data row0 col17\" >0</td>\n",
       "    </tr>\n",
       "    <tr>\n",
       "      <th id=\"T_d3d8a_level0_row1\" class=\"row_heading level0 row1\" >1</th>\n",
       "      <td id=\"T_d3d8a_row1_col0\" class=\"data row1 col0\" >0</td>\n",
       "      <td id=\"T_d3d8a_row1_col1\" class=\"data row1 col1\" >0</td>\n",
       "      <td id=\"T_d3d8a_row1_col2\" class=\"data row1 col2\" >0</td>\n",
       "      <td id=\"T_d3d8a_row1_col3\" class=\"data row1 col3\" >0</td>\n",
       "      <td id=\"T_d3d8a_row1_col4\" class=\"data row1 col4\" >0</td>\n",
       "      <td id=\"T_d3d8a_row1_col5\" class=\"data row1 col5\" >29</td>\n",
       "      <td id=\"T_d3d8a_row1_col6\" class=\"data row1 col6\" >150</td>\n",
       "      <td id=\"T_d3d8a_row1_col7\" class=\"data row1 col7\" >195</td>\n",
       "      <td id=\"T_d3d8a_row1_col8\" class=\"data row1 col8\" >254</td>\n",
       "      <td id=\"T_d3d8a_row1_col9\" class=\"data row1 col9\" >255</td>\n",
       "      <td id=\"T_d3d8a_row1_col10\" class=\"data row1 col10\" >254</td>\n",
       "      <td id=\"T_d3d8a_row1_col11\" class=\"data row1 col11\" >176</td>\n",
       "      <td id=\"T_d3d8a_row1_col12\" class=\"data row1 col12\" >193</td>\n",
       "      <td id=\"T_d3d8a_row1_col13\" class=\"data row1 col13\" >150</td>\n",
       "      <td id=\"T_d3d8a_row1_col14\" class=\"data row1 col14\" >96</td>\n",
       "      <td id=\"T_d3d8a_row1_col15\" class=\"data row1 col15\" >0</td>\n",
       "      <td id=\"T_d3d8a_row1_col16\" class=\"data row1 col16\" >0</td>\n",
       "      <td id=\"T_d3d8a_row1_col17\" class=\"data row1 col17\" >0</td>\n",
       "    </tr>\n",
       "    <tr>\n",
       "      <th id=\"T_d3d8a_level0_row2\" class=\"row_heading level0 row2\" >2</th>\n",
       "      <td id=\"T_d3d8a_row2_col0\" class=\"data row2 col0\" >0</td>\n",
       "      <td id=\"T_d3d8a_row2_col1\" class=\"data row2 col1\" >0</td>\n",
       "      <td id=\"T_d3d8a_row2_col2\" class=\"data row2 col2\" >0</td>\n",
       "      <td id=\"T_d3d8a_row2_col3\" class=\"data row2 col3\" >48</td>\n",
       "      <td id=\"T_d3d8a_row2_col4\" class=\"data row2 col4\" >166</td>\n",
       "      <td id=\"T_d3d8a_row2_col5\" class=\"data row2 col5\" >224</td>\n",
       "      <td id=\"T_d3d8a_row2_col6\" class=\"data row2 col6\" >253</td>\n",
       "      <td id=\"T_d3d8a_row2_col7\" class=\"data row2 col7\" >253</td>\n",
       "      <td id=\"T_d3d8a_row2_col8\" class=\"data row2 col8\" >234</td>\n",
       "      <td id=\"T_d3d8a_row2_col9\" class=\"data row2 col9\" >196</td>\n",
       "      <td id=\"T_d3d8a_row2_col10\" class=\"data row2 col10\" >253</td>\n",
       "      <td id=\"T_d3d8a_row2_col11\" class=\"data row2 col11\" >253</td>\n",
       "      <td id=\"T_d3d8a_row2_col12\" class=\"data row2 col12\" >253</td>\n",
       "      <td id=\"T_d3d8a_row2_col13\" class=\"data row2 col13\" >253</td>\n",
       "      <td id=\"T_d3d8a_row2_col14\" class=\"data row2 col14\" >233</td>\n",
       "      <td id=\"T_d3d8a_row2_col15\" class=\"data row2 col15\" >0</td>\n",
       "      <td id=\"T_d3d8a_row2_col16\" class=\"data row2 col16\" >0</td>\n",
       "      <td id=\"T_d3d8a_row2_col17\" class=\"data row2 col17\" >0</td>\n",
       "    </tr>\n",
       "    <tr>\n",
       "      <th id=\"T_d3d8a_level0_row3\" class=\"row_heading level0 row3\" >3</th>\n",
       "      <td id=\"T_d3d8a_row3_col0\" class=\"data row3 col0\" >0</td>\n",
       "      <td id=\"T_d3d8a_row3_col1\" class=\"data row3 col1\" >93</td>\n",
       "      <td id=\"T_d3d8a_row3_col2\" class=\"data row3 col2\" >244</td>\n",
       "      <td id=\"T_d3d8a_row3_col3\" class=\"data row3 col3\" >249</td>\n",
       "      <td id=\"T_d3d8a_row3_col4\" class=\"data row3 col4\" >253</td>\n",
       "      <td id=\"T_d3d8a_row3_col5\" class=\"data row3 col5\" >187</td>\n",
       "      <td id=\"T_d3d8a_row3_col6\" class=\"data row3 col6\" >46</td>\n",
       "      <td id=\"T_d3d8a_row3_col7\" class=\"data row3 col7\" >10</td>\n",
       "      <td id=\"T_d3d8a_row3_col8\" class=\"data row3 col8\" >8</td>\n",
       "      <td id=\"T_d3d8a_row3_col9\" class=\"data row3 col9\" >4</td>\n",
       "      <td id=\"T_d3d8a_row3_col10\" class=\"data row3 col10\" >10</td>\n",
       "      <td id=\"T_d3d8a_row3_col11\" class=\"data row3 col11\" >194</td>\n",
       "      <td id=\"T_d3d8a_row3_col12\" class=\"data row3 col12\" >253</td>\n",
       "      <td id=\"T_d3d8a_row3_col13\" class=\"data row3 col13\" >253</td>\n",
       "      <td id=\"T_d3d8a_row3_col14\" class=\"data row3 col14\" >233</td>\n",
       "      <td id=\"T_d3d8a_row3_col15\" class=\"data row3 col15\" >0</td>\n",
       "      <td id=\"T_d3d8a_row3_col16\" class=\"data row3 col16\" >0</td>\n",
       "      <td id=\"T_d3d8a_row3_col17\" class=\"data row3 col17\" >0</td>\n",
       "    </tr>\n",
       "    <tr>\n",
       "      <th id=\"T_d3d8a_level0_row4\" class=\"row_heading level0 row4\" >4</th>\n",
       "      <td id=\"T_d3d8a_row4_col0\" class=\"data row4 col0\" >0</td>\n",
       "      <td id=\"T_d3d8a_row4_col1\" class=\"data row4 col1\" >107</td>\n",
       "      <td id=\"T_d3d8a_row4_col2\" class=\"data row4 col2\" >253</td>\n",
       "      <td id=\"T_d3d8a_row4_col3\" class=\"data row4 col3\" >253</td>\n",
       "      <td id=\"T_d3d8a_row4_col4\" class=\"data row4 col4\" >230</td>\n",
       "      <td id=\"T_d3d8a_row4_col5\" class=\"data row4 col5\" >48</td>\n",
       "      <td id=\"T_d3d8a_row4_col6\" class=\"data row4 col6\" >0</td>\n",
       "      <td id=\"T_d3d8a_row4_col7\" class=\"data row4 col7\" >0</td>\n",
       "      <td id=\"T_d3d8a_row4_col8\" class=\"data row4 col8\" >0</td>\n",
       "      <td id=\"T_d3d8a_row4_col9\" class=\"data row4 col9\" >0</td>\n",
       "      <td id=\"T_d3d8a_row4_col10\" class=\"data row4 col10\" >0</td>\n",
       "      <td id=\"T_d3d8a_row4_col11\" class=\"data row4 col11\" >192</td>\n",
       "      <td id=\"T_d3d8a_row4_col12\" class=\"data row4 col12\" >253</td>\n",
       "      <td id=\"T_d3d8a_row4_col13\" class=\"data row4 col13\" >253</td>\n",
       "      <td id=\"T_d3d8a_row4_col14\" class=\"data row4 col14\" >156</td>\n",
       "      <td id=\"T_d3d8a_row4_col15\" class=\"data row4 col15\" >0</td>\n",
       "      <td id=\"T_d3d8a_row4_col16\" class=\"data row4 col16\" >0</td>\n",
       "      <td id=\"T_d3d8a_row4_col17\" class=\"data row4 col17\" >0</td>\n",
       "    </tr>\n",
       "    <tr>\n",
       "      <th id=\"T_d3d8a_level0_row5\" class=\"row_heading level0 row5\" >5</th>\n",
       "      <td id=\"T_d3d8a_row5_col0\" class=\"data row5 col0\" >0</td>\n",
       "      <td id=\"T_d3d8a_row5_col1\" class=\"data row5 col1\" >3</td>\n",
       "      <td id=\"T_d3d8a_row5_col2\" class=\"data row5 col2\" >20</td>\n",
       "      <td id=\"T_d3d8a_row5_col3\" class=\"data row5 col3\" >20</td>\n",
       "      <td id=\"T_d3d8a_row5_col4\" class=\"data row5 col4\" >15</td>\n",
       "      <td id=\"T_d3d8a_row5_col5\" class=\"data row5 col5\" >0</td>\n",
       "      <td id=\"T_d3d8a_row5_col6\" class=\"data row5 col6\" >0</td>\n",
       "      <td id=\"T_d3d8a_row5_col7\" class=\"data row5 col7\" >0</td>\n",
       "      <td id=\"T_d3d8a_row5_col8\" class=\"data row5 col8\" >0</td>\n",
       "      <td id=\"T_d3d8a_row5_col9\" class=\"data row5 col9\" >0</td>\n",
       "      <td id=\"T_d3d8a_row5_col10\" class=\"data row5 col10\" >43</td>\n",
       "      <td id=\"T_d3d8a_row5_col11\" class=\"data row5 col11\" >224</td>\n",
       "      <td id=\"T_d3d8a_row5_col12\" class=\"data row5 col12\" >253</td>\n",
       "      <td id=\"T_d3d8a_row5_col13\" class=\"data row5 col13\" >245</td>\n",
       "      <td id=\"T_d3d8a_row5_col14\" class=\"data row5 col14\" >74</td>\n",
       "      <td id=\"T_d3d8a_row5_col15\" class=\"data row5 col15\" >0</td>\n",
       "      <td id=\"T_d3d8a_row5_col16\" class=\"data row5 col16\" >0</td>\n",
       "      <td id=\"T_d3d8a_row5_col17\" class=\"data row5 col17\" >0</td>\n",
       "    </tr>\n",
       "    <tr>\n",
       "      <th id=\"T_d3d8a_level0_row6\" class=\"row_heading level0 row6\" >6</th>\n",
       "      <td id=\"T_d3d8a_row6_col0\" class=\"data row6 col0\" >0</td>\n",
       "      <td id=\"T_d3d8a_row6_col1\" class=\"data row6 col1\" >0</td>\n",
       "      <td id=\"T_d3d8a_row6_col2\" class=\"data row6 col2\" >0</td>\n",
       "      <td id=\"T_d3d8a_row6_col3\" class=\"data row6 col3\" >0</td>\n",
       "      <td id=\"T_d3d8a_row6_col4\" class=\"data row6 col4\" >0</td>\n",
       "      <td id=\"T_d3d8a_row6_col5\" class=\"data row6 col5\" >0</td>\n",
       "      <td id=\"T_d3d8a_row6_col6\" class=\"data row6 col6\" >0</td>\n",
       "      <td id=\"T_d3d8a_row6_col7\" class=\"data row6 col7\" >0</td>\n",
       "      <td id=\"T_d3d8a_row6_col8\" class=\"data row6 col8\" >0</td>\n",
       "      <td id=\"T_d3d8a_row6_col9\" class=\"data row6 col9\" >0</td>\n",
       "      <td id=\"T_d3d8a_row6_col10\" class=\"data row6 col10\" >249</td>\n",
       "      <td id=\"T_d3d8a_row6_col11\" class=\"data row6 col11\" >253</td>\n",
       "      <td id=\"T_d3d8a_row6_col12\" class=\"data row6 col12\" >245</td>\n",
       "      <td id=\"T_d3d8a_row6_col13\" class=\"data row6 col13\" >126</td>\n",
       "      <td id=\"T_d3d8a_row6_col14\" class=\"data row6 col14\" >0</td>\n",
       "      <td id=\"T_d3d8a_row6_col15\" class=\"data row6 col15\" >0</td>\n",
       "      <td id=\"T_d3d8a_row6_col16\" class=\"data row6 col16\" >0</td>\n",
       "      <td id=\"T_d3d8a_row6_col17\" class=\"data row6 col17\" >0</td>\n",
       "    </tr>\n",
       "    <tr>\n",
       "      <th id=\"T_d3d8a_level0_row7\" class=\"row_heading level0 row7\" >7</th>\n",
       "      <td id=\"T_d3d8a_row7_col0\" class=\"data row7 col0\" >0</td>\n",
       "      <td id=\"T_d3d8a_row7_col1\" class=\"data row7 col1\" >0</td>\n",
       "      <td id=\"T_d3d8a_row7_col2\" class=\"data row7 col2\" >0</td>\n",
       "      <td id=\"T_d3d8a_row7_col3\" class=\"data row7 col3\" >0</td>\n",
       "      <td id=\"T_d3d8a_row7_col4\" class=\"data row7 col4\" >0</td>\n",
       "      <td id=\"T_d3d8a_row7_col5\" class=\"data row7 col5\" >0</td>\n",
       "      <td id=\"T_d3d8a_row7_col6\" class=\"data row7 col6\" >0</td>\n",
       "      <td id=\"T_d3d8a_row7_col7\" class=\"data row7 col7\" >14</td>\n",
       "      <td id=\"T_d3d8a_row7_col8\" class=\"data row7 col8\" >101</td>\n",
       "      <td id=\"T_d3d8a_row7_col9\" class=\"data row7 col9\" >223</td>\n",
       "      <td id=\"T_d3d8a_row7_col10\" class=\"data row7 col10\" >253</td>\n",
       "      <td id=\"T_d3d8a_row7_col11\" class=\"data row7 col11\" >248</td>\n",
       "      <td id=\"T_d3d8a_row7_col12\" class=\"data row7 col12\" >124</td>\n",
       "      <td id=\"T_d3d8a_row7_col13\" class=\"data row7 col13\" >0</td>\n",
       "      <td id=\"T_d3d8a_row7_col14\" class=\"data row7 col14\" >0</td>\n",
       "      <td id=\"T_d3d8a_row7_col15\" class=\"data row7 col15\" >0</td>\n",
       "      <td id=\"T_d3d8a_row7_col16\" class=\"data row7 col16\" >0</td>\n",
       "      <td id=\"T_d3d8a_row7_col17\" class=\"data row7 col17\" >0</td>\n",
       "    </tr>\n",
       "    <tr>\n",
       "      <th id=\"T_d3d8a_level0_row8\" class=\"row_heading level0 row8\" >8</th>\n",
       "      <td id=\"T_d3d8a_row8_col0\" class=\"data row8 col0\" >0</td>\n",
       "      <td id=\"T_d3d8a_row8_col1\" class=\"data row8 col1\" >0</td>\n",
       "      <td id=\"T_d3d8a_row8_col2\" class=\"data row8 col2\" >0</td>\n",
       "      <td id=\"T_d3d8a_row8_col3\" class=\"data row8 col3\" >0</td>\n",
       "      <td id=\"T_d3d8a_row8_col4\" class=\"data row8 col4\" >0</td>\n",
       "      <td id=\"T_d3d8a_row8_col5\" class=\"data row8 col5\" >11</td>\n",
       "      <td id=\"T_d3d8a_row8_col6\" class=\"data row8 col6\" >166</td>\n",
       "      <td id=\"T_d3d8a_row8_col7\" class=\"data row8 col7\" >239</td>\n",
       "      <td id=\"T_d3d8a_row8_col8\" class=\"data row8 col8\" >253</td>\n",
       "      <td id=\"T_d3d8a_row8_col9\" class=\"data row8 col9\" >253</td>\n",
       "      <td id=\"T_d3d8a_row8_col10\" class=\"data row8 col10\" >253</td>\n",
       "      <td id=\"T_d3d8a_row8_col11\" class=\"data row8 col11\" >187</td>\n",
       "      <td id=\"T_d3d8a_row8_col12\" class=\"data row8 col12\" >30</td>\n",
       "      <td id=\"T_d3d8a_row8_col13\" class=\"data row8 col13\" >0</td>\n",
       "      <td id=\"T_d3d8a_row8_col14\" class=\"data row8 col14\" >0</td>\n",
       "      <td id=\"T_d3d8a_row8_col15\" class=\"data row8 col15\" >0</td>\n",
       "      <td id=\"T_d3d8a_row8_col16\" class=\"data row8 col16\" >0</td>\n",
       "      <td id=\"T_d3d8a_row8_col17\" class=\"data row8 col17\" >0</td>\n",
       "    </tr>\n",
       "    <tr>\n",
       "      <th id=\"T_d3d8a_level0_row9\" class=\"row_heading level0 row9\" >9</th>\n",
       "      <td id=\"T_d3d8a_row9_col0\" class=\"data row9 col0\" >0</td>\n",
       "      <td id=\"T_d3d8a_row9_col1\" class=\"data row9 col1\" >0</td>\n",
       "      <td id=\"T_d3d8a_row9_col2\" class=\"data row9 col2\" >0</td>\n",
       "      <td id=\"T_d3d8a_row9_col3\" class=\"data row9 col3\" >0</td>\n",
       "      <td id=\"T_d3d8a_row9_col4\" class=\"data row9 col4\" >0</td>\n",
       "      <td id=\"T_d3d8a_row9_col5\" class=\"data row9 col5\" >16</td>\n",
       "      <td id=\"T_d3d8a_row9_col6\" class=\"data row9 col6\" >248</td>\n",
       "      <td id=\"T_d3d8a_row9_col7\" class=\"data row9 col7\" >250</td>\n",
       "      <td id=\"T_d3d8a_row9_col8\" class=\"data row9 col8\" >253</td>\n",
       "      <td id=\"T_d3d8a_row9_col9\" class=\"data row9 col9\" >253</td>\n",
       "      <td id=\"T_d3d8a_row9_col10\" class=\"data row9 col10\" >253</td>\n",
       "      <td id=\"T_d3d8a_row9_col11\" class=\"data row9 col11\" >253</td>\n",
       "      <td id=\"T_d3d8a_row9_col12\" class=\"data row9 col12\" >232</td>\n",
       "      <td id=\"T_d3d8a_row9_col13\" class=\"data row9 col13\" >213</td>\n",
       "      <td id=\"T_d3d8a_row9_col14\" class=\"data row9 col14\" >111</td>\n",
       "      <td id=\"T_d3d8a_row9_col15\" class=\"data row9 col15\" >2</td>\n",
       "      <td id=\"T_d3d8a_row9_col16\" class=\"data row9 col16\" >0</td>\n",
       "      <td id=\"T_d3d8a_row9_col17\" class=\"data row9 col17\" >0</td>\n",
       "    </tr>\n",
       "    <tr>\n",
       "      <th id=\"T_d3d8a_level0_row10\" class=\"row_heading level0 row10\" >10</th>\n",
       "      <td id=\"T_d3d8a_row10_col0\" class=\"data row10 col0\" >0</td>\n",
       "      <td id=\"T_d3d8a_row10_col1\" class=\"data row10 col1\" >0</td>\n",
       "      <td id=\"T_d3d8a_row10_col2\" class=\"data row10 col2\" >0</td>\n",
       "      <td id=\"T_d3d8a_row10_col3\" class=\"data row10 col3\" >0</td>\n",
       "      <td id=\"T_d3d8a_row10_col4\" class=\"data row10 col4\" >0</td>\n",
       "      <td id=\"T_d3d8a_row10_col5\" class=\"data row10 col5\" >0</td>\n",
       "      <td id=\"T_d3d8a_row10_col6\" class=\"data row10 col6\" >0</td>\n",
       "      <td id=\"T_d3d8a_row10_col7\" class=\"data row10 col7\" >43</td>\n",
       "      <td id=\"T_d3d8a_row10_col8\" class=\"data row10 col8\" >98</td>\n",
       "      <td id=\"T_d3d8a_row10_col9\" class=\"data row10 col9\" >98</td>\n",
       "      <td id=\"T_d3d8a_row10_col10\" class=\"data row10 col10\" >208</td>\n",
       "      <td id=\"T_d3d8a_row10_col11\" class=\"data row10 col11\" >253</td>\n",
       "      <td id=\"T_d3d8a_row10_col12\" class=\"data row10 col12\" >253</td>\n",
       "      <td id=\"T_d3d8a_row10_col13\" class=\"data row10 col13\" >253</td>\n",
       "      <td id=\"T_d3d8a_row10_col14\" class=\"data row10 col14\" >253</td>\n",
       "      <td id=\"T_d3d8a_row10_col15\" class=\"data row10 col15\" >187</td>\n",
       "      <td id=\"T_d3d8a_row10_col16\" class=\"data row10 col16\" >22</td>\n",
       "      <td id=\"T_d3d8a_row10_col17\" class=\"data row10 col17\" >0</td>\n",
       "    </tr>\n",
       "  </tbody>\n",
       "</table>\n"
      ],
      "text/plain": [
       "<pandas.io.formats.style.Styler at 0x1c54e103d60>"
      ]
     },
     "execution_count": 8,
     "metadata": {},
     "output_type": "execute_result"
    }
   ],
   "source": [
    "import pandas as pd\n",
    "\n",
    "im3_t = copy_tensor\n",
    "df = pd.DataFrame(im3_t[4:15,4:22])\n",
    "df.style.set_properties(**{'font-size':'6pt'}).background_gradient('Greys')"
   ]
  },
  {
   "cell_type": "markdown",
   "metadata": {},
   "source": [
    "We will use Jupyter to do some little checks of our work along the way—in this case,\n",
    "making sure that the number of returned items seems reasonable:"
   ]
  },
  {
   "cell_type": "code",
   "execution_count": 9,
   "metadata": {},
   "outputs": [
    {
     "data": {
      "text/plain": [
       "(6742, 5958, 6131, 5842, 5421, 5918, 6265, 5851, 5949, 5923)"
      ]
     },
     "execution_count": 9,
     "metadata": {},
     "output_type": "execute_result"
    }
   ],
   "source": [
    "from PIL import Image\n",
    "import torch\n",
    "import numpy as np\n",
    "\n",
    "# Assuming `sevens` and `threes` are lists of file paths to images\n",
    "one_tensors = [torch.tensor(np.array(Image.open(o))) for o in ones]\n",
    "two_tensors = [torch.tensor(np.array(Image.open(o))) for o in twos]\n",
    "three_tensors = [torch.tensor(np.array(Image.open(o))) for o in threes]\n",
    "four_tensors = [torch.tensor(np.array(Image.open(o))) for o in fours]\n",
    "five_tensors = [torch.tensor(np.array(Image.open(o))) for o in fives]\n",
    "six_tensors = [torch.tensor(np.array(Image.open(o))) for o in sixes]\n",
    "seven_tensors = [torch.tensor(np.array(Image.open(o))) for o in sevens]\n",
    "eight_tensors = [torch.tensor(np.array(Image.open(o))) for o in eights]\n",
    "nine_tensors = [torch.tensor(np.array(Image.open(o))) for o in nines]\n",
    "zero_tensors = [torch.tensor(np.array(Image.open(o))) for o in zeros]\n",
    "len(one_tensors), len(two_tensors), len(three_tensors), len(four_tensors), len(five_tensors), len(six_tensors),len(seven_tensors), len(eight_tensors), len(nine_tensors), len(zero_tensors)\n"
   ]
  },
  {
   "cell_type": "markdown",
   "metadata": {},
   "source": [
    "We’ll also check that one of the images looks OK. Since we now have tensors (which\n",
    "Jupyter by default will print as values), rather than PIL images (which Jupyter by\n",
    "default will display images), we need to use fastai’s show_image function to display it:"
   ]
  },
  {
   "cell_type": "code",
   "execution_count": 10,
   "metadata": {},
   "outputs": [
    {
     "data": {
      "image/png": "[encoded data removed]",
      "text/plain": [
       "<Figure size 100x100 with 1 Axes>"
      ]
     },
     "metadata": {},
     "output_type": "display_data"
    },
    {
     "data": {
      "image/png": "[encoded data removed]",
      "text/plain": [
       "<Figure size 100x100 with 1 Axes>"
      ]
     },
     "metadata": {},
     "output_type": "display_data"
    },
    {
     "data": {
      "image/png": "[encoded data removed]",
      "text/plain": [
       "<Figure size 100x100 with 1 Axes>"
      ]
     },
     "metadata": {},
     "output_type": "display_data"
    },
    {
     "data": {
      "image/png": "[encoded data removed]",
      "text/plain": [
       "<Figure size 100x100 with 1 Axes>"
      ]
     },
     "metadata": {},
     "output_type": "display_data"
    },
    {
     "data": {
      "image/png": "[encoded data removed]",
      "text/plain": [
       "<Figure size 100x100 with 1 Axes>"
      ]
     },
     "metadata": {},
     "output_type": "display_data"
    },
    {
     "data": {
      "image/png": "[encoded data removed]",
      "text/plain": [
       "<Figure size 100x100 with 1 Axes>"
      ]
     },
     "metadata": {},
     "output_type": "display_data"
    },
    {
     "data": {
      "image/png": "[encoded data removed]",
      "text/plain": [
       "<Figure size 100x100 with 1 Axes>"
      ]
     },
     "metadata": {},
     "output_type": "display_data"
    },
    {
     "data": {
      "image/png": "[encoded data removed]",
      "text/plain": [
       "<Figure size 100x100 with 1 Axes>"
      ]
     },
     "metadata": {},
     "output_type": "display_data"
    },
    {
     "data": {
      "image/png": "[encoded data removed]",
      "text/plain": [
       "<Figure size 100x100 with 1 Axes>"
      ]
     },
     "metadata": {},
     "output_type": "display_data"
    },
    {
     "data": {
      "image/png": "[encoded data removed]",
      "text/plain": [
       "<Figure size 100x100 with 1 Axes>"
      ]
     },
     "metadata": {},
     "output_type": "display_data"
    }
   ],
   "source": [
    "from fastai.vision.core import show_image\n",
    "show_image(one_tensors[1]);\n",
    "show_image(two_tensors[1]);\n",
    "show_image(three_tensors[1]);\n",
    "show_image(four_tensors[1]);\n",
    "show_image(five_tensors[1]);\n",
    "show_image(six_tensors[1]);\n",
    "show_image(seven_tensors[1]);\n",
    "show_image(eight_tensors[1]);\n",
    "show_image(nine_tensors[1]);\n",
    "show_image(zero_tensors[1]);"
   ]
  },
  {
   "cell_type": "markdown",
   "metadata": {},
   "source": [
    "Generally, when images are floats, the pixel values are expected to be between 0 and 1,\n",
    "so we will also divide by 255 here:"
   ]
  },
  {
   "cell_type": "code",
   "execution_count": 11,
   "metadata": {},
   "outputs": [
    {
     "data": {
      "text/plain": [
       "torch.Size([6742, 28, 28])"
      ]
     },
     "execution_count": 11,
     "metadata": {},
     "output_type": "execute_result"
    }
   ],
   "source": [
    "import torch\n",
    "\n",
    "stacked_ones = torch.stack(one_tensors).float()/255\n",
    "stacked_twos = torch.stack(two_tensors).float()/255\n",
    "stacked_threes = torch.stack(three_tensors).float()/255\n",
    "stacked_fours = torch.stack(four_tensors).float()/255\n",
    "stacked_fives = torch.stack(five_tensors).float()/255\n",
    "stacked_sixs = torch.stack(six_tensors).float()/255\n",
    "stacked_sevens = torch.stack(seven_tensors).float()/255\n",
    "stacked_eights = torch.stack(eight_tensors).float()/255\n",
    "stacked_nines = torch.stack(nine_tensors).float()/255\n",
    "stacked_zeros = torch.stack(zero_tensors).float()/255\n",
    "\n",
    "stacked_ones.shape"
   ]
  },
  {
   "cell_type": "markdown",
   "metadata": {},
   "source": [
    "The length of a tensor’s shape is its rank:"
   ]
  },
  {
   "cell_type": "code",
   "execution_count": 12,
   "metadata": {},
   "outputs": [
    {
     "data": {
      "text/plain": [
       "3"
      ]
     },
     "execution_count": 12,
     "metadata": {},
     "output_type": "execute_result"
    }
   ],
   "source": [
    "len(stacked_threes.shape)"
   ]
  },
  {
   "cell_type": "markdown",
   "metadata": {},
   "source": [
    "We can also get a tensor’s rank directly with ndim:"
   ]
  },
  {
   "cell_type": "code",
   "execution_count": 13,
   "metadata": {},
   "outputs": [
    {
     "data": {
      "text/plain": [
       "3"
      ]
     },
     "execution_count": 13,
     "metadata": {},
     "output_type": "execute_result"
    }
   ],
   "source": [
    "stacked_threes.ndim"
   ]
  },
  {
   "cell_type": "code",
   "execution_count": 14,
   "metadata": {},
   "outputs": [
    {
     "data": {
      "image/png": "[encoded data removed]",
      "text/plain": [
       "<Figure size 100x100 with 1 Axes>"
      ]
     },
     "metadata": {},
     "output_type": "display_data"
    },
    {
     "data": {
      "image/png": "[encoded data removed]",
      "text/plain": [
       "<Figure size 100x100 with 1 Axes>"
      ]
     },
     "metadata": {},
     "output_type": "display_data"
    },
    {
     "data": {
      "image/png": "[encoded data removed]",
      "text/plain": [
       "<Figure size 100x100 with 1 Axes>"
      ]
     },
     "metadata": {},
     "output_type": "display_data"
    },
    {
     "data": {
      "image/png": "[encoded data removed]",
      "text/plain": [
       "<Figure size 100x100 with 1 Axes>"
      ]
     },
     "metadata": {},
     "output_type": "display_data"
    },
    {
     "data": {
      "image/png": "[encoded data removed]",
      "text/plain": [
       "<Figure size 100x100 with 1 Axes>"
      ]
     },
     "metadata": {},
     "output_type": "display_data"
    },
    {
     "data": {
      "image/png": "[encoded data removed]",
      "text/plain": [
       "<Figure size 100x100 with 1 Axes>"
      ]
     },
     "metadata": {},
     "output_type": "display_data"
    },
    {
     "data": {
      "image/png": "[encoded data removed]",
      "text/plain": [
       "<Figure size 100x100 with 1 Axes>"
      ]
     },
     "metadata": {},
     "output_type": "display_data"
    },
    {
     "data": {
      "image/png": "[encoded data removed]",
      "text/plain": [
       "<Figure size 100x100 with 1 Axes>"
      ]
     },
     "metadata": {},
     "output_type": "display_data"
    },
    {
     "data": {
      "image/png": "[encoded data removed]",
      "text/plain": [
       "<Figure size 100x100 with 1 Axes>"
      ]
     },
     "metadata": {},
     "output_type": "display_data"
    },
    {
     "data": {
      "image/png": "[encoded data removed]",
      "text/plain": [
       "<Figure size 100x100 with 1 Axes>"
      ]
     },
     "metadata": {},
     "output_type": "display_data"
    }
   ],
   "source": [
    "mean1 = stacked_ones.mean(0)\n",
    "mean2 = stacked_twos.mean(0)\n",
    "mean3 = stacked_threes.mean(0)\n",
    "mean4 = stacked_fours.mean(0)\n",
    "mean5 = stacked_fives.mean(0)\n",
    "mean6 = stacked_sixs.mean(0)\n",
    "mean7 = stacked_sevens.mean(0)\n",
    "mean8 = stacked_eights.mean(0)\n",
    "mean9 = stacked_nines.mean(0)\n",
    "mean0 = stacked_zeros.mean(0)\n",
    "\n",
    "show_image(mean1);\n",
    "show_image(mean2);\n",
    "show_image(mean3);\n",
    "show_image(mean4);\n",
    "show_image(mean5);\n",
    "show_image(mean6);\n",
    "show_image(mean7);\n",
    "show_image(mean8);\n",
    "show_image(mean9);\n",
    "show_image(mean0);"
   ]
  },
  {
   "cell_type": "code",
   "execution_count": 15,
   "metadata": {},
   "outputs": [
    {
     "data": {
      "image/png": "[encoded data removed]",
      "text/plain": [
       "<Figure size 100x100 with 1 Axes>"
      ]
     },
     "metadata": {},
     "output_type": "display_data"
    },
    {
     "data": {
      "image/png": "[encoded data removed]",
      "text/plain": [
       "<Figure size 100x100 with 1 Axes>"
      ]
     },
     "metadata": {},
     "output_type": "display_data"
    },
    {
     "data": {
      "image/png": "[encoded data removed]",
      "text/plain": [
       "<Figure size 100x100 with 1 Axes>"
      ]
     },
     "metadata": {},
     "output_type": "display_data"
    },
    {
     "data": {
      "image/png": "[encoded data removed]",
      "text/plain": [
       "<Figure size 100x100 with 1 Axes>"
      ]
     },
     "metadata": {},
     "output_type": "display_data"
    },
    {
     "data": {
      "image/png": "[encoded data removed]",
      "text/plain": [
       "<Figure size 100x100 with 1 Axes>"
      ]
     },
     "metadata": {},
     "output_type": "display_data"
    },
    {
     "data": {
      "image/png": "[encoded data removed]",
      "text/plain": [
       "<Figure size 100x100 with 1 Axes>"
      ]
     },
     "metadata": {},
     "output_type": "display_data"
    },
    {
     "data": {
      "image/png": "[encoded data removed]",
      "text/plain": [
       "<Figure size 100x100 with 1 Axes>"
      ]
     },
     "metadata": {},
     "output_type": "display_data"
    },
    {
     "data": {
      "image/png": "[encoded data removed]",
      "text/plain": [
       "<Figure size 100x100 with 1 Axes>"
      ]
     },
     "metadata": {},
     "output_type": "display_data"
    },
    {
     "data": {
      "image/png": "[encoded data removed]",
      "text/plain": [
       "<Figure size 100x100 with 1 Axes>"
      ]
     },
     "metadata": {},
     "output_type": "display_data"
    },
    {
     "data": {
      "image/png": "[encoded data removed]",
      "text/plain": [
       "<Figure size 100x100 with 1 Axes>"
      ]
     },
     "metadata": {},
     "output_type": "display_data"
    }
   ],
   "source": [
    "a_1 = stacked_ones[1]\n",
    "a_2 = stacked_twos[1]\n",
    "a_3 = stacked_threes[1]\n",
    "a_4 = stacked_fours[1]\n",
    "a_5 = stacked_fives[1]\n",
    "a_6 = stacked_sixs[1]\n",
    "a_7 = stacked_sevens[1]\n",
    "a_8 = stacked_eights[1]\n",
    "a_9 = stacked_nines[1]\n",
    "a_0 = stacked_zeros[1]\n",
    "\n",
    "show_image(a_1);\n",
    "show_image(a_2);\n",
    "show_image(a_3);\n",
    "show_image(a_4);\n",
    "show_image(a_5);\n",
    "show_image(a_6);\n",
    "show_image(a_7);\n",
    "show_image(a_8);\n",
    "show_image(a_9);\n",
    "show_image(a_0);"
   ]
  },
  {
   "cell_type": "markdown",
   "metadata": {},
   "source": [
    "- Take the mean of the absolute value of differences (absolute value is the function\n",
    "that replaces negative values with positive values). This is called the mean abso‐\n",
    "lute difference or L1 norm.\n",
    "- Take the mean of the square of differences (which makes everything positive) and\n",
    "then take the square root (which undoes the squaring). This is called the root\n",
    "mean squared error (RMSE) or L2 norm.\n",
    "\n",
    "Let’s try both of these now:"
   ]
  },
  {
   "cell_type": "code",
   "execution_count": 16,
   "metadata": {},
   "outputs": [
    {
     "data": {
      "text/plain": [
       "(tensor(0.1114), tensor(0.2021))"
      ]
     },
     "execution_count": 16,
     "metadata": {},
     "output_type": "execute_result"
    }
   ],
   "source": [
    "dist_3_abs = (a_3 - mean3).abs().mean()\n",
    "dist_3_sqr = ((a_3 - mean3)**2).mean().sqrt()\n",
    "dist_3_abs,dist_3_sqr"
   ]
  },
  {
   "cell_type": "code",
   "execution_count": 17,
   "metadata": {},
   "outputs": [
    {
     "data": {
      "text/plain": [
       "(tensor(0.1586), tensor(0.3021))"
      ]
     },
     "execution_count": 17,
     "metadata": {},
     "output_type": "execute_result"
    }
   ],
   "source": [
    "dist_7_abs = (a_3 - mean7).abs().mean()\n",
    "dist_7_sqr = ((a_3 - mean7)**2).mean().sqrt()\n",
    "dist_7_abs,dist_7_sqr"
   ]
  },
  {
   "cell_type": "markdown",
   "metadata": {},
   "source": [
    "PyTorch already provides both of these as loss functions. You’ll find these inside\n",
    "torch.nn.functional, which the PyTorch team recommends importing as F (and is\n",
    "available by default under that name in fastai):"
   ]
  },
  {
   "cell_type": "code",
   "execution_count": 18,
   "metadata": {},
   "outputs": [
    {
     "data": {
      "text/plain": [
       "(tensor(0.1586), tensor(0.3021))"
      ]
     },
     "execution_count": 18,
     "metadata": {},
     "output_type": "execute_result"
    }
   ],
   "source": [
    "import torch.nn.functional as F\n",
    "\n",
    "F.l1_loss(a_3.float(),mean7), F.mse_loss(a_3,mean7).sqrt()"
   ]
  },
  {
   "cell_type": "markdown",
   "metadata": {},
   "source": [
    "To create an array or tensor, pass a list (or list of lists, or list of lists of lists, etc.) to\n",
    "array or tensor:"
   ]
  },
  {
   "cell_type": "code",
   "execution_count": 19,
   "metadata": {},
   "outputs": [
    {
     "data": {
      "text/plain": [
       "tensor([[1, 2, 3],\n",
       "        [4, 5, 6]])"
      ]
     },
     "execution_count": 19,
     "metadata": {},
     "output_type": "execute_result"
    }
   ],
   "source": [
    "import numpy as np\n",
    "import torch\n",
    "\n",
    "data = [[1,2,3],[4,5,6]]\n",
    "arr = np.array(data)\n",
    "tns = torch.tensor(data)\n",
    "\n",
    "arr # numpy\n",
    "tns # pytorch"
   ]
  },
  {
   "cell_type": "markdown",
   "metadata": {},
   "source": [
    "You can select a row (note that, like lists in Python, tensors are 0-indexed, so 1 refers\n",
    "to the second row/column):"
   ]
  },
  {
   "cell_type": "code",
   "execution_count": 20,
   "metadata": {},
   "outputs": [
    {
     "data": {
      "text/plain": [
       "tensor([4, 5, 6])"
      ]
     },
     "execution_count": 20,
     "metadata": {},
     "output_type": "execute_result"
    }
   ],
   "source": [
    "tns[1]"
   ]
  },
  {
   "cell_type": "markdown",
   "metadata": {},
   "source": [
    "Or a column, by using : to indicate all of the first axis (we sometimes refer to the\n",
    "dimensions of tensors/arrays as axes):"
   ]
  },
  {
   "cell_type": "code",
   "execution_count": 21,
   "metadata": {},
   "outputs": [
    {
     "data": {
      "text/plain": [
       "tensor([2, 5])"
      ]
     },
     "execution_count": 21,
     "metadata": {},
     "output_type": "execute_result"
    }
   ],
   "source": [
    "tns[:,1]"
   ]
  },
  {
   "cell_type": "markdown",
   "metadata": {},
   "source": [
    "You can combine these with Python slice syntax ([start:end], with end being excluded) to select part of a row or column:"
   ]
  },
  {
   "cell_type": "code",
   "execution_count": 22,
   "metadata": {},
   "outputs": [
    {
     "data": {
      "text/plain": [
       "tensor([5, 6])"
      ]
     },
     "execution_count": 22,
     "metadata": {},
     "output_type": "execute_result"
    }
   ],
   "source": [
    "tns[1,1:3]"
   ]
  },
  {
   "cell_type": "markdown",
   "metadata": {},
   "source": [
    "And you can use the standard operators, such as +, -, *, and /:"
   ]
  },
  {
   "cell_type": "code",
   "execution_count": 23,
   "metadata": {},
   "outputs": [
    {
     "data": {
      "text/plain": [
       "tensor([[2, 3, 4],\n",
       "        [5, 6, 7]])"
      ]
     },
     "execution_count": 23,
     "metadata": {},
     "output_type": "execute_result"
    }
   ],
   "source": [
    "tns+1"
   ]
  },
  {
   "cell_type": "markdown",
   "metadata": {},
   "source": [
    "Tensors have a type:"
   ]
  },
  {
   "cell_type": "code",
   "execution_count": 24,
   "metadata": {},
   "outputs": [
    {
     "data": {
      "text/plain": [
       "'torch.LongTensor'"
      ]
     },
     "execution_count": 24,
     "metadata": {},
     "output_type": "execute_result"
    }
   ],
   "source": [
    "tns.type()"
   ]
  },
  {
   "cell_type": "markdown",
   "metadata": {},
   "source": [
    "And will automatically change that type as needed; for example, from int to float:"
   ]
  },
  {
   "cell_type": "code",
   "execution_count": 25,
   "metadata": {},
   "outputs": [
    {
     "data": {
      "text/plain": [
       "tensor([[1.5000, 3.0000, 4.5000],\n",
       "        [6.0000, 7.5000, 9.0000]])"
      ]
     },
     "execution_count": 25,
     "metadata": {},
     "output_type": "execute_result"
    }
   ],
   "source": [
    "tns*1.5"
   ]
  },
  {
   "cell_type": "markdown",
   "metadata": {},
   "source": [
    "# Computing Metrics Using Broadcasting"
   ]
  },
  {
   "cell_type": "code",
   "execution_count": 26,
   "metadata": {},
   "outputs": [
    {
     "data": {
      "text/plain": [
       "(torch.Size([1135, 28, 28]),\n",
       " torch.Size([1032, 28, 28]),\n",
       " torch.Size([1010, 28, 28]),\n",
       " torch.Size([982, 28, 28]),\n",
       " torch.Size([892, 28, 28]),\n",
       " torch.Size([958, 28, 28]),\n",
       " torch.Size([1028, 28, 28]),\n",
       " torch.Size([974, 28, 28]),\n",
       " torch.Size([1009, 28, 28]),\n",
       " torch.Size([980, 28, 28]))"
      ]
     },
     "execution_count": 26,
     "metadata": {},
     "output_type": "execute_result"
    }
   ],
   "source": [
    "from PIL import Image\n",
    "import torch\n",
    "import numpy as np\n",
    "\n",
    "valid_1_tens = torch.stack([torch.tensor(np.array(Image.open(o)))\n",
    " for o in (path/'testing'/'1').ls()])\n",
    "valid_1_tens = valid_1_tens.float()/255\n",
    "\n",
    "valid_2_tens = torch.stack([torch.tensor(np.array(Image.open(o)))\n",
    " for o in (path/'testing'/'2').ls()])\n",
    "valid_2_tens = valid_2_tens.float()/255\n",
    "\n",
    "valid_3_tens = torch.stack([torch.tensor(np.array(Image.open(o)))\n",
    " for o in (path/'testing'/'3').ls()])\n",
    "valid_3_tens = valid_3_tens.float()/255\n",
    "\n",
    "valid_4_tens = torch.stack([torch.tensor(np.array(Image.open(o)))\n",
    " for o in (path/'testing'/'4').ls()])\n",
    "valid_4_tens = valid_4_tens.float()/255\n",
    "\n",
    "valid_5_tens = torch.stack([torch.tensor(np.array(Image.open(o)))\n",
    " for o in (path/'testing'/'5').ls()])\n",
    "valid_5_tens = valid_5_tens.float()/255\n",
    "\n",
    "valid_6_tens = torch.stack([torch.tensor(np.array(Image.open(o)))\n",
    " for o in (path/'testing'/'6').ls()])\n",
    "valid_6_tens = valid_6_tens.float()/255\n",
    "\n",
    "valid_7_tens = torch.stack([torch.tensor(np.array(Image.open(o)))\n",
    " for o in (path/'testing'/'7').ls()])\n",
    "valid_7_tens = valid_7_tens.float()/255\n",
    "\n",
    "valid_8_tens = torch.stack([torch.tensor(np.array(Image.open(o)))\n",
    " for o in (path/'testing'/'8').ls()])\n",
    "valid_8_tens = valid_8_tens.float()/255\n",
    "\n",
    "valid_9_tens = torch.stack([torch.tensor(np.array(Image.open(o)))\n",
    " for o in (path/'testing'/'9').ls()])\n",
    "valid_9_tens = valid_9_tens.float()/255\n",
    "\n",
    "valid_0_tens = torch.stack([torch.tensor(np.array(Image.open(o)))\n",
    " for o in (path/'testing'/'0').ls()])\n",
    "valid_0_tens = valid_0_tens.float()/255\n",
    "\n",
    "valid_1_tens.shape, valid_2_tens.shape ,valid_3_tens.shape, valid_4_tens.shape, valid_5_tens.shape, valid_6_tens.shape, valid_7_tens.shape, valid_8_tens.shape, valid_9_tens.shape, valid_0_tens.shape\n"
   ]
  },
  {
   "cell_type": "markdown",
   "metadata": {},
   "source": [
    "We can write a simple function that calculates the mean absolute error using an\n",
    "expression very similar to the one we wrote in the last section:"
   ]
  },
  {
   "cell_type": "code",
   "execution_count": 27,
   "metadata": {},
   "outputs": [
    {
     "data": {
      "text/plain": [
       "'\\nmnist_distance(a_2, mean2)\\nmnist_distance(a_3, mean3)\\nmnist_distance(a_4, mean4)\\nmnist_distance(a_5, mean5)\\nmnist_distance(a_6, mean6)\\nmnist_distance(a_7, mean7)\\nmnist_distance(a_8, mean8)\\nmnist_distance(a_9, mean9)\\nmnist_distance(a_0, mean0)\\n'"
      ]
     },
     "execution_count": 27,
     "metadata": {},
     "output_type": "execute_result"
    }
   ],
   "source": [
    "def mnist_distance(a,b): return (a-b).abs().mean((-1,-2))\n",
    "mnist_distance(a_1, mean1)\n",
    "\"\"\"\n",
    "mnist_distance(a_2, mean2)\n",
    "mnist_distance(a_3, mean3)\n",
    "mnist_distance(a_4, mean4)\n",
    "mnist_distance(a_5, mean5)\n",
    "mnist_distance(a_6, mean6)\n",
    "mnist_distance(a_7, mean7)\n",
    "mnist_distance(a_8, mean8)\n",
    "mnist_distance(a_9, mean9)\n",
    "mnist_distance(a_0, mean0)\n",
    "\"\"\""
   ]
  },
  {
   "cell_type": "code",
   "execution_count": 28,
   "metadata": {},
   "outputs": [
    {
     "data": {
      "text/plain": [
       "(tensor([0.0809, 0.0651, 0.0661,  ..., 0.0853, 0.0603, 0.0520]),\n",
       " torch.Size([1135]))"
      ]
     },
     "execution_count": 28,
     "metadata": {},
     "output_type": "execute_result"
    }
   ],
   "source": [
    "valid_1_dist = mnist_distance(valid_1_tens, mean1)\n",
    "valid_1_dist, valid_1_dist.shape"
   ]
  },
  {
   "cell_type": "code",
   "execution_count": 29,
   "metadata": {},
   "outputs": [
    {
     "data": {
      "text/plain": [
       "(tensor([0.1670, 0.1256, 0.1352,  ..., 0.2008, 0.1505, 0.1435]),\n",
       " torch.Size([1032]))"
      ]
     },
     "execution_count": 29,
     "metadata": {},
     "output_type": "execute_result"
    }
   ],
   "source": [
    "valid_2_dist = mnist_distance(valid_2_tens, mean2)\n",
    "valid_2_dist, valid_2_dist.shape"
   ]
  },
  {
   "cell_type": "code",
   "execution_count": 30,
   "metadata": {},
   "outputs": [
    {
     "data": {
      "text/plain": [
       "(tensor([0.1280, 0.1623, 0.1242,  ..., 0.1508, 0.1263, 0.1260]),\n",
       " torch.Size([1010]))"
      ]
     },
     "execution_count": 30,
     "metadata": {},
     "output_type": "execute_result"
    }
   ],
   "source": [
    "valid_3_dist = mnist_distance(valid_3_tens, mean3)\n",
    "valid_3_dist, valid_3_dist.shape"
   ]
  },
  {
   "cell_type": "code",
   "execution_count": 31,
   "metadata": {},
   "outputs": [
    {
     "data": {
      "text/plain": [
       "(tensor([0.1393, 0.1122, 0.1455, 0.1219, 0.1223, 0.1087, 0.1367, 0.0997, 0.1281,\n",
       "         0.1799, 0.1102, 0.1166, 0.1016, 0.1093, 0.0961, 0.1533, 0.0994, 0.1085,\n",
       "         0.1155, 0.1435, 0.1529, 0.1067, 0.1111, 0.1327, 0.1264, 0.1018, 0.1071,\n",
       "         0.1034, 0.1097, 0.1252, 0.1385, 0.1207, 0.0999, 0.1032, 0.1164, 0.1636,\n",
       "         0.1728, 0.1037, 0.1074, 0.1021, 0.1000, 0.1213, 0.1098, 0.1038, 0.1047,\n",
       "         0.1087, 0.1405, 0.1001, 0.1311, 0.1244, 0.1130, 0.1347, 0.1163, 0.1634,\n",
       "         0.1216, 0.1614, 0.1570, 0.1501, 0.1191, 0.1158, 0.1163, 0.1199, 0.1234,\n",
       "         0.1555, 0.1379, 0.1304, 0.1024, 0.1771, 0.1028, 0.1017, 0.1384, 0.0960,\n",
       "         0.1108, 0.1136, 0.1085, 0.1215, 0.1022, 0.1099, 0.1030, 0.1140, 0.1104,\n",
       "         0.1152, 0.1285, 0.1274, 0.1129, 0.1098, 0.1130, 0.1108, 0.1047, 0.1367,\n",
       "         0.0992, 0.1013, 0.0996, 0.1129, 0.1239, 0.1734, 0.1441, 0.1013, 0.1251,\n",
       "         0.1115, 0.1183, 0.1034, 0.1089, 0.1002, 0.1023, 0.1063, 0.0993, 0.1314,\n",
       "         0.1020, 0.0927, 0.1076, 0.1191, 0.1054, 0.1284, 0.1263, 0.1171, 0.1010,\n",
       "         0.1235, 0.1019, 0.1000, 0.0967, 0.1307, 0.1531, 0.1209, 0.1016, 0.1029,\n",
       "         0.1354, 0.0980, 0.1287, 0.1250, 0.1438, 0.1208, 0.1043, 0.1229, 0.1138,\n",
       "         0.1083, 0.1292, 0.1285, 0.1879, 0.1211, 0.1116, 0.1047, 0.1053, 0.1525,\n",
       "         0.1256, 0.1511, 0.1151, 0.1088, 0.1009, 0.1133, 0.1057, 0.1140, 0.1369,\n",
       "         0.1548, 0.1219, 0.0994, 0.1032, 0.1024, 0.0988, 0.1738, 0.1051, 0.0989,\n",
       "         0.1445, 0.1288, 0.1401, 0.1043, 0.1603, 0.0937, 0.1454, 0.0971, 0.1291,\n",
       "         0.1283, 0.1006, 0.1076, 0.1010, 0.1479, 0.1777, 0.1354, 0.1086, 0.1200,\n",
       "         0.1638, 0.1321, 0.1243, 0.1464, 0.1211, 0.1182, 0.1271, 0.1051, 0.1121,\n",
       "         0.1042, 0.0993, 0.1168, 0.1005, 0.1471, 0.1019, 0.1239, 0.1145, 0.1202,\n",
       "         0.1114, 0.1119, 0.1011, 0.1010, 0.1023, 0.1107, 0.1158, 0.1168, 0.1054,\n",
       "         0.1076, 0.1185, 0.1073, 0.0999, 0.1218, 0.0929, 0.1132, 0.1071, 0.1317,\n",
       "         0.1182, 0.1695, 0.1216, 0.1186, 0.1189, 0.1466, 0.1202, 0.1489, 0.1079,\n",
       "         0.1389, 0.1137, 0.1129, 0.1040, 0.1462, 0.1194, 0.1214, 0.1543, 0.1105,\n",
       "         0.1314, 0.0968, 0.1455, 0.1098, 0.1063, 0.1236, 0.1315, 0.1088, 0.1610,\n",
       "         0.1135, 0.1127, 0.1100, 0.1173, 0.1365, 0.1059, 0.1248, 0.1081, 0.1232,\n",
       "         0.0986, 0.1033, 0.1374, 0.1385, 0.0980, 0.1002, 0.1293, 0.1116, 0.1179,\n",
       "         0.1364, 0.1270, 0.0912, 0.1107, 0.1184, 0.1154, 0.1089, 0.1324, 0.1193,\n",
       "         0.1124, 0.1606, 0.0995, 0.1419, 0.1339, 0.0959, 0.1350, 0.1154, 0.1172,\n",
       "         0.1251, 0.1178, 0.1197, 0.1150, 0.1262, 0.1301, 0.1375, 0.0981, 0.1256,\n",
       "         0.1249, 0.0980, 0.1103, 0.1290, 0.1802, 0.1145, 0.1134, 0.1154, 0.1441,\n",
       "         0.1253, 0.1697, 0.1467, 0.1157, 0.1042, 0.1020, 0.1119, 0.1026, 0.1452,\n",
       "         0.1603, 0.1132, 0.0998, 0.1324, 0.1092, 0.1301, 0.1034, 0.1102, 0.0988,\n",
       "         0.1089, 0.1377, 0.0963, 0.1119, 0.1143, 0.1166, 0.1030, 0.1648, 0.1072,\n",
       "         0.1108, 0.1451, 0.1653, 0.1042, 0.1135, 0.1044, 0.1350, 0.1570, 0.1956,\n",
       "         0.1083, 0.1541, 0.1035, 0.1039, 0.1467, 0.1301, 0.1419, 0.1111, 0.1288,\n",
       "         0.1362, 0.1190, 0.1117, 0.0989, 0.1429, 0.1299, 0.1011, 0.1040, 0.1293,\n",
       "         0.1119, 0.1655, 0.1081, 0.1261, 0.1018, 0.1096, 0.1116, 0.1082, 0.1060,\n",
       "         0.1113, 0.1265, 0.1191, 0.1734, 0.1342, 0.1332, 0.0995, 0.1201, 0.1101,\n",
       "         0.1219, 0.1468, 0.1114, 0.1259, 0.1174, 0.1193, 0.1149, 0.1021, 0.1184,\n",
       "         0.1039, 0.1070, 0.1218, 0.1108, 0.1036, 0.1325, 0.1098, 0.1190, 0.1387,\n",
       "         0.1157, 0.1117, 0.1391, 0.1181, 0.1072, 0.1190, 0.1161, 0.1142, 0.1048,\n",
       "         0.1089, 0.1723, 0.1187, 0.1383, 0.1025, 0.0966, 0.1023, 0.1030, 0.1051,\n",
       "         0.1080, 0.1119, 0.1099, 0.1207, 0.1185, 0.1813, 0.1318, 0.1805, 0.1041,\n",
       "         0.1124, 0.1254, 0.1297, 0.0973, 0.1123, 0.1247, 0.1230, 0.1022, 0.1506,\n",
       "         0.1228, 0.1274, 0.1052, 0.1272, 0.1214, 0.1208, 0.1180, 0.1216, 0.1070,\n",
       "         0.1051, 0.1056, 0.1183, 0.1172, 0.1077, 0.1121, 0.1107, 0.1130, 0.1135,\n",
       "         0.1074, 0.1075, 0.1061, 0.1111, 0.1154, 0.1102, 0.1208, 0.1043, 0.1216,\n",
       "         0.1200, 0.0982, 0.0994, 0.1107, 0.1220, 0.1143, 0.1096, 0.1134, 0.1095,\n",
       "         0.1045, 0.1057, 0.1002, 0.1127, 0.1499, 0.1164, 0.1045, 0.1449, 0.1176,\n",
       "         0.1045, 0.1264, 0.1085, 0.1072, 0.1172, 0.1284, 0.1050, 0.1116, 0.1133,\n",
       "         0.1023, 0.1218, 0.1144, 0.1017, 0.1173, 0.1419, 0.1157, 0.0899, 0.1086,\n",
       "         0.1100, 0.1613, 0.1114, 0.1128, 0.1160, 0.1168, 0.1172, 0.1004, 0.1174,\n",
       "         0.1034, 0.1420, 0.1264, 0.1213, 0.1316, 0.1116, 0.1204, 0.1282, 0.1046,\n",
       "         0.1359, 0.1273, 0.1580, 0.1331, 0.1295, 0.1278, 0.1171, 0.1229, 0.1115,\n",
       "         0.1194, 0.1154, 0.1249, 0.1153, 0.1153, 0.1293, 0.1170, 0.1155, 0.1261,\n",
       "         0.1042, 0.1197, 0.1164, 0.1395, 0.1168, 0.1077, 0.0971, 0.1425, 0.1288,\n",
       "         0.1247, 0.1075, 0.1173, 0.1532, 0.1241, 0.1175, 0.1404, 0.1877, 0.1117,\n",
       "         0.1108, 0.1236, 0.1133, 0.1275, 0.1335, 0.1284, 0.1163, 0.1257, 0.1192,\n",
       "         0.1338, 0.1263, 0.1201, 0.1127, 0.1201, 0.1203, 0.1353, 0.1294, 0.1388,\n",
       "         0.1554, 0.1350, 0.1325, 0.1484, 0.1320, 0.1249, 0.1249, 0.1279, 0.1189,\n",
       "         0.1426, 0.1220, 0.1341, 0.1070, 0.1189, 0.1172, 0.1108, 0.1051, 0.1020,\n",
       "         0.1057, 0.1049, 0.1116, 0.1044, 0.1230, 0.0999, 0.0983, 0.1181, 0.1119,\n",
       "         0.1177, 0.1249, 0.0970, 0.0998, 0.1046, 0.1175, 0.1234, 0.1112, 0.1088,\n",
       "         0.1052, 0.1059, 0.1087, 0.1452, 0.1163, 0.1190, 0.1111, 0.1105, 0.1068,\n",
       "         0.1160, 0.0928, 0.1187, 0.1283, 0.1288, 0.0996, 0.1199, 0.0912, 0.1217,\n",
       "         0.1012, 0.1040, 0.1037, 0.1052, 0.0947, 0.1107, 0.1217, 0.1042, 0.1079,\n",
       "         0.1046, 0.0930, 0.1154, 0.1140, 0.1243, 0.1215, 0.1186, 0.1326, 0.1294,\n",
       "         0.1285, 0.1648, 0.1335, 0.1399, 0.1446, 0.1496, 0.1414, 0.1372, 0.1327,\n",
       "         0.1072, 0.1122, 0.1196, 0.1079, 0.1115, 0.1025, 0.1135, 0.1310, 0.1075,\n",
       "         0.1275, 0.1164, 0.1052, 0.1017, 0.1072, 0.1088, 0.0945, 0.1005, 0.1289,\n",
       "         0.1078, 0.1215, 0.1140, 0.1240, 0.1099, 0.0988, 0.1108, 0.1075, 0.1163,\n",
       "         0.1110, 0.1264, 0.1194, 0.1117, 0.1169, 0.1052, 0.1055, 0.1182, 0.1177,\n",
       "         0.1056, 0.1114, 0.1145, 0.1107, 0.1164, 0.1429, 0.1211, 0.1045, 0.1045,\n",
       "         0.1659, 0.1175, 0.1179, 0.1282, 0.1128, 0.1219, 0.1342, 0.1062, 0.1200,\n",
       "         0.1145, 0.1099, 0.1288, 0.1212, 0.1333, 0.1086, 0.1591, 0.1209, 0.1131,\n",
       "         0.1307, 0.1279, 0.1293, 0.1265, 0.1175, 0.1215, 0.1280, 0.1163, 0.1133,\n",
       "         0.1097, 0.1150, 0.1267, 0.1187, 0.1354, 0.1117, 0.1165, 0.1283, 0.1077,\n",
       "         0.1126, 0.1017, 0.1188, 0.1137, 0.1116, 0.1017, 0.1229, 0.1044, 0.1074,\n",
       "         0.1085, 0.1464, 0.1224, 0.1184, 0.0985, 0.1235, 0.1076, 0.0918, 0.1403,\n",
       "         0.0981, 0.1102, 0.1207, 0.0971, 0.1064, 0.1302, 0.1052, 0.1343, 0.1458,\n",
       "         0.1157, 0.1280, 0.1276, 0.1315, 0.1423, 0.1006, 0.1084, 0.1180, 0.1285,\n",
       "         0.1275, 0.1239, 0.1198, 0.1130, 0.1473, 0.1199, 0.1104, 0.1145, 0.1072,\n",
       "         0.1301, 0.1180, 0.1227, 0.1547, 0.1230, 0.1179, 0.1301, 0.1044, 0.1159,\n",
       "         0.1180, 0.1077, 0.1583, 0.1344, 0.1710, 0.1370, 0.1537, 0.1418, 0.1082,\n",
       "         0.1069, 0.1310, 0.1065, 0.1025, 0.1467, 0.1190, 0.1212, 0.1444, 0.1271,\n",
       "         0.1066, 0.1056, 0.1284, 0.1244, 0.1433, 0.1202, 0.1123, 0.1189, 0.1427,\n",
       "         0.1231, 0.1365, 0.1210, 0.1204, 0.1257, 0.1192, 0.1355, 0.0982, 0.1105,\n",
       "         0.1188, 0.1034, 0.1072, 0.1188, 0.1129, 0.0986, 0.1092, 0.1219, 0.1285,\n",
       "         0.1168, 0.1300, 0.1339, 0.1282, 0.1300, 0.1290, 0.1207, 0.1303, 0.1355,\n",
       "         0.1258, 0.1410, 0.1543, 0.1690, 0.1293, 0.1255, 0.0998, 0.1084, 0.0944,\n",
       "         0.1039, 0.1103, 0.1105, 0.1040, 0.1019, 0.1148, 0.1045, 0.1020, 0.1051,\n",
       "         0.1049, 0.1141, 0.1187, 0.1046, 0.1285, 0.1157, 0.0985, 0.1065, 0.1108,\n",
       "         0.1097, 0.1029, 0.1280, 0.1387, 0.1043, 0.1312, 0.0992, 0.1054, 0.1130,\n",
       "         0.1012, 0.0939, 0.1081, 0.1026, 0.1028, 0.1235, 0.1207, 0.1102, 0.1073,\n",
       "         0.1231, 0.1172, 0.1099, 0.1106, 0.1045, 0.1504, 0.1394, 0.1190, 0.1222,\n",
       "         0.1118, 0.1102, 0.1176, 0.1322, 0.1509, 0.0968, 0.1332, 0.1363, 0.1475,\n",
       "         0.1065, 0.1304, 0.1397, 0.1366, 0.1564, 0.1106, 0.1343, 0.1224, 0.1395,\n",
       "         0.1496, 0.1189, 0.1233, 0.1347, 0.1202, 0.1462, 0.1327, 0.1208, 0.1070,\n",
       "         0.1036, 0.1040, 0.0959, 0.1021, 0.1039, 0.1075, 0.1113, 0.1381, 0.1373,\n",
       "         0.1033, 0.1320, 0.1202, 0.1236, 0.1305, 0.0967, 0.1192, 0.1491, 0.1372,\n",
       "         0.1395, 0.1313, 0.1351, 0.1378, 0.0993, 0.1256, 0.1235, 0.1098, 0.1190,\n",
       "         0.1013, 0.1483, 0.1255, 0.1260, 0.1095, 0.1451, 0.0978, 0.1110, 0.1119,\n",
       "         0.1213, 0.1184, 0.1120, 0.1045, 0.1251, 0.1165, 0.1173, 0.1254, 0.1268,\n",
       "         0.1235, 0.1286, 0.1359, 0.1199, 0.1194, 0.1276, 0.1184, 0.1248, 0.1040,\n",
       "         0.1026, 0.1007, 0.1257, 0.1248, 0.1318, 0.1032, 0.1408, 0.1168, 0.1241,\n",
       "         0.1201, 0.1113, 0.1228, 0.1359, 0.0997, 0.0969, 0.1013, 0.1153, 0.1015,\n",
       "         0.1170]),\n",
       " torch.Size([982]))"
      ]
     },
     "execution_count": 31,
     "metadata": {},
     "output_type": "execute_result"
    }
   ],
   "source": [
    "valid_4_dist = mnist_distance(valid_4_tens, mean4)\n",
    "valid_4_dist, valid_4_dist.shape"
   ]
  },
  {
   "cell_type": "code",
   "execution_count": 32,
   "metadata": {},
   "outputs": [
    {
     "data": {
      "text/plain": [
       "(tensor([0.1683, 0.1359, 0.1351, 0.1507, 0.1177, 0.1135, 0.1652, 0.1443, 0.1258,\n",
       "         0.1227, 0.1386, 0.1743, 0.1312, 0.1189, 0.1286, 0.1266, 0.1283, 0.1254,\n",
       "         0.1264, 0.1408, 0.1465, 0.1439, 0.1424, 0.1415, 0.1358, 0.1259, 0.1486,\n",
       "         0.1191, 0.1261, 0.1648, 0.1389, 0.1220, 0.1263, 0.1146, 0.1529, 0.1455,\n",
       "         0.1351, 0.1300, 0.1436, 0.1334, 0.1129, 0.1291, 0.1246, 0.1399, 0.1192,\n",
       "         0.1217, 0.1308, 0.1179, 0.1264, 0.1586, 0.1468, 0.1104, 0.1293, 0.1366,\n",
       "         0.1331, 0.1478, 0.1277, 0.1322, 0.1201, 0.1661, 0.1155, 0.1287, 0.1250,\n",
       "         0.1372, 0.1702, 0.1321, 0.1210, 0.1271, 0.1235, 0.1170, 0.1658, 0.1490,\n",
       "         0.1207, 0.1399, 0.1257, 0.1377, 0.1289, 0.1213, 0.1159, 0.1748, 0.1530,\n",
       "         0.1182, 0.1345, 0.1244, 0.1650, 0.1199, 0.1203, 0.1148, 0.1621, 0.1150,\n",
       "         0.1281, 0.1330, 0.1309, 0.1119, 0.1708, 0.1212, 0.1218, 0.1290, 0.1504,\n",
       "         0.1232, 0.1496, 0.1440, 0.1443, 0.1119, 0.1381, 0.1198, 0.1503, 0.1216,\n",
       "         0.1304, 0.1210, 0.1303, 0.1404, 0.1771, 0.1636, 0.1204, 0.1433, 0.1486,\n",
       "         0.1255, 0.1345, 0.1399, 0.1288, 0.1287, 0.1189, 0.1254, 0.1183, 0.1372,\n",
       "         0.1369, 0.1603, 0.1299, 0.1362, 0.1266, 0.1508, 0.1252, 0.1745, 0.1714,\n",
       "         0.1822, 0.1380, 0.1378, 0.1308, 0.1213, 0.1707, 0.1183, 0.1390, 0.1326,\n",
       "         0.1363, 0.1509, 0.1215, 0.1717, 0.1636, 0.1390, 0.1621, 0.1443, 0.1601,\n",
       "         0.1215, 0.1699, 0.1179, 0.1187, 0.1591, 0.1134, 0.1706, 0.1342, 0.1362,\n",
       "         0.1363, 0.1611, 0.1252, 0.1268, 0.1259, 0.1358, 0.1529, 0.1250, 0.1204,\n",
       "         0.1311, 0.1325, 0.1193, 0.1280, 0.1220, 0.1316, 0.1123, 0.1536, 0.1649,\n",
       "         0.1826, 0.1205, 0.1659, 0.1171, 0.1469, 0.1235, 0.1322, 0.1163, 0.1420,\n",
       "         0.1316, 0.1558, 0.1271, 0.1591, 0.1542, 0.1275, 0.1599, 0.1456, 0.1346,\n",
       "         0.1266, 0.1289, 0.1297, 0.1511, 0.1502, 0.1342, 0.1336, 0.1457, 0.1140,\n",
       "         0.1142, 0.1345, 0.1366, 0.1590, 0.1331, 0.1470, 0.1303, 0.1251, 0.1433,\n",
       "         0.1432, 0.1449, 0.1167, 0.1128, 0.1272, 0.1323, 0.1312, 0.1307, 0.1270,\n",
       "         0.1339, 0.1576, 0.1271, 0.1220, 0.1307, 0.1321, 0.1523, 0.1108, 0.1527,\n",
       "         0.1778, 0.1528, 0.1203, 0.1318, 0.1653, 0.1282, 0.1357, 0.1292, 0.1743,\n",
       "         0.1538, 0.1287, 0.1439, 0.1398, 0.1100, 0.1189, 0.1527, 0.1647, 0.1240,\n",
       "         0.1354, 0.1349, 0.1547, 0.1579, 0.1409, 0.1328, 0.1497, 0.1435, 0.1344,\n",
       "         0.1410, 0.1334, 0.1835, 0.1256, 0.1428, 0.1392, 0.1630, 0.1265, 0.1662,\n",
       "         0.1609, 0.1248, 0.1227, 0.1745, 0.1360, 0.1281, 0.1345, 0.1230, 0.1398,\n",
       "         0.1354, 0.1484, 0.1214, 0.1306, 0.1524, 0.1342, 0.1562, 0.1223, 0.1263,\n",
       "         0.1317, 0.1165, 0.1446, 0.1368, 0.1372, 0.1533, 0.1222, 0.1183, 0.1631,\n",
       "         0.1467, 0.1181, 0.1327, 0.1235, 0.1559, 0.1397, 0.1308, 0.1257, 0.1504,\n",
       "         0.1547, 0.1334, 0.1539, 0.1249, 0.1177, 0.1342, 0.1261, 0.1339, 0.1245,\n",
       "         0.1201, 0.1256, 0.1140, 0.1302, 0.1477, 0.1220, 0.1322, 0.1180, 0.1182,\n",
       "         0.1518, 0.1339, 0.1530, 0.1776, 0.1338, 0.1186, 0.1238, 0.1138, 0.1441,\n",
       "         0.1215, 0.1603, 0.1353, 0.1346, 0.1668, 0.1188, 0.1290, 0.1319, 0.1421,\n",
       "         0.1267, 0.1302, 0.1325, 0.1462, 0.1456, 0.1295, 0.1205, 0.1253, 0.1540,\n",
       "         0.1220, 0.1425, 0.1259, 0.1505, 0.1172, 0.1343, 0.1281, 0.1390, 0.1168,\n",
       "         0.1284, 0.1322, 0.1212, 0.1324, 0.1473, 0.1415, 0.1780, 0.1225, 0.1433,\n",
       "         0.1314, 0.1170, 0.1407, 0.1205, 0.1283, 0.1196, 0.1104, 0.1346, 0.1184,\n",
       "         0.1709, 0.1312, 0.1421, 0.1545, 0.1426, 0.1279, 0.1502, 0.1394, 0.1271,\n",
       "         0.1408, 0.1389, 0.1393, 0.1307, 0.1340, 0.1262, 0.1165, 0.1305, 0.1453,\n",
       "         0.1341, 0.1218, 0.1296, 0.1531, 0.1352, 0.1388, 0.1395, 0.1232, 0.1464,\n",
       "         0.1386, 0.1753, 0.1179, 0.1195, 0.1167, 0.1520, 0.1422, 0.1273, 0.1164,\n",
       "         0.1663, 0.1410, 0.1265, 0.1338, 0.1449, 0.1474, 0.1204, 0.1363, 0.1463,\n",
       "         0.1368, 0.1552, 0.1547, 0.1230, 0.1218, 0.1182, 0.1199, 0.1199, 0.1239,\n",
       "         0.1214, 0.1146, 0.1226, 0.1495, 0.1230, 0.1273, 0.1199, 0.1252, 0.1339,\n",
       "         0.1444, 0.1381, 0.1358, 0.1312, 0.1282, 0.1475, 0.1343, 0.1288, 0.1530,\n",
       "         0.1275, 0.1303, 0.1369, 0.1339, 0.1177, 0.1256, 0.1298, 0.1312, 0.1331,\n",
       "         0.1282, 0.1274, 0.1160, 0.1345, 0.1472, 0.1607, 0.1299, 0.1476, 0.1629,\n",
       "         0.1663, 0.1589, 0.1430, 0.1299, 0.1295, 0.1338, 0.1228, 0.1287, 0.1251,\n",
       "         0.1236, 0.1427, 0.1596, 0.1340, 0.1140, 0.1331, 0.1329, 0.1407, 0.1215,\n",
       "         0.1217, 0.1279, 0.1412, 0.1286, 0.1259, 0.1212, 0.1151, 0.1327, 0.1511,\n",
       "         0.1492, 0.1397, 0.1583, 0.1594, 0.1317, 0.1612, 0.1284, 0.1595, 0.1292,\n",
       "         0.1413, 0.1695, 0.1702, 0.1401, 0.1551, 0.1451, 0.1550, 0.1571, 0.1508,\n",
       "         0.1566, 0.1667, 0.1461, 0.1543, 0.1255, 0.2040, 0.1495, 0.1776, 0.1552,\n",
       "         0.1541, 0.1682, 0.1455, 0.1481, 0.1494, 0.1393, 0.1541, 0.1430, 0.1413,\n",
       "         0.1607, 0.1338, 0.1313, 0.1331, 0.1297, 0.1314, 0.1297, 0.1502, 0.1238,\n",
       "         0.1245, 0.1324, 0.1234, 0.1331, 0.1306, 0.1415, 0.1542, 0.1631, 0.1630,\n",
       "         0.1336, 0.1224, 0.1481, 0.1858, 0.1788, 0.1707, 0.1696, 0.1397, 0.1482,\n",
       "         0.1203, 0.1307, 0.1177, 0.1178, 0.1165, 0.1233, 0.1253, 0.1322, 0.1397,\n",
       "         0.1342, 0.1303, 0.1205, 0.1870, 0.1168, 0.1195, 0.1215, 0.1415, 0.1162,\n",
       "         0.1330, 0.1243, 0.1152, 0.1482, 0.1436, 0.1519, 0.1312, 0.1546, 0.1492,\n",
       "         0.1460, 0.1534, 0.1617, 0.1218, 0.1696, 0.1320, 0.1484, 0.1368, 0.1673,\n",
       "         0.1231, 0.1492, 0.1205, 0.1287, 0.1379, 0.1378, 0.1397, 0.1377, 0.1357,\n",
       "         0.1441, 0.1496, 0.1379, 0.1341, 0.1404, 0.1390, 0.1227, 0.1326, 0.1464,\n",
       "         0.1358, 0.1418, 0.1341, 0.1432, 0.1314, 0.1571, 0.1420, 0.1402, 0.1328,\n",
       "         0.1257, 0.1336, 0.1317, 0.1245, 0.1287, 0.1321, 0.1712, 0.1302, 0.1464,\n",
       "         0.1357, 0.1204, 0.1287, 0.1264, 0.1303, 0.1307, 0.1181, 0.1188, 0.1241,\n",
       "         0.1222, 0.1545, 0.1344, 0.1234, 0.1479, 0.1361, 0.1244, 0.1324, 0.1333,\n",
       "         0.1400, 0.1433, 0.1343, 0.1353, 0.1359, 0.1188, 0.1291, 0.1455, 0.1680,\n",
       "         0.1497, 0.1378, 0.1453, 0.1379, 0.1395, 0.1546, 0.1391, 0.1338, 0.1326,\n",
       "         0.1316, 0.1314, 0.1341, 0.1461, 0.1444, 0.1215, 0.1423, 0.1636, 0.1443,\n",
       "         0.1210, 0.1151, 0.1471, 0.1435, 0.1242, 0.1606, 0.1576, 0.1391, 0.1823,\n",
       "         0.1622, 0.1394, 0.1277, 0.1530, 0.1816, 0.1487, 0.1444, 0.1548, 0.1588,\n",
       "         0.1857, 0.1374, 0.1840, 0.1725, 0.1526, 0.1579, 0.1523, 0.1702, 0.1336,\n",
       "         0.1454, 0.1348, 0.1491, 0.1183, 0.1297, 0.1294, 0.1465, 0.1361, 0.1673,\n",
       "         0.1408, 0.1380, 0.1695, 0.1556, 0.1391, 0.1495, 0.1392, 0.1324, 0.1437,\n",
       "         0.1296, 0.1389, 0.1319, 0.1275, 0.1382, 0.1371, 0.1469, 0.1294, 0.1284,\n",
       "         0.1215, 0.1151, 0.1232, 0.1294, 0.1430, 0.1280, 0.1478, 0.1435, 0.1403,\n",
       "         0.1283, 0.1399, 0.1183, 0.1306, 0.1250, 0.1329, 0.1293, 0.1512, 0.1420,\n",
       "         0.1402, 0.1347, 0.1485, 0.1697, 0.1599, 0.1453, 0.1490, 0.1973, 0.1305,\n",
       "         0.1700, 0.1275, 0.1519, 0.1401, 0.1531, 0.1412, 0.1569, 0.1401, 0.1325,\n",
       "         0.1226, 0.1425, 0.1324, 0.1302, 0.1397, 0.1327, 0.1349, 0.1457, 0.1423,\n",
       "         0.1223, 0.1237, 0.1378, 0.1272, 0.1210, 0.1209, 0.1294, 0.1295, 0.1340,\n",
       "         0.1383, 0.1199, 0.1164, 0.1358, 0.1203, 0.1202, 0.1302, 0.1430, 0.1232,\n",
       "         0.1354, 0.1219, 0.1220, 0.1223, 0.1327, 0.1215, 0.1332, 0.1333, 0.1171,\n",
       "         0.1502, 0.1442, 0.1379, 0.1769, 0.1942, 0.1500, 0.1700, 0.1227, 0.1443,\n",
       "         0.1282, 0.1582, 0.1511, 0.1448, 0.1570, 0.1352, 0.1518, 0.1378, 0.1467,\n",
       "         0.1352, 0.1445, 0.1333, 0.1320, 0.1348, 0.1168, 0.1247, 0.1322, 0.1117,\n",
       "         0.1286, 0.1383, 0.1371, 0.1348, 0.1394, 0.1271, 0.1427, 0.1610, 0.1338,\n",
       "         0.1340, 0.1260, 0.1308, 0.1560, 0.1141, 0.1448, 0.1473, 0.1426, 0.1453,\n",
       "         0.1495, 0.1408, 0.1339, 0.1397, 0.1385, 0.1435, 0.1287, 0.1281, 0.1320,\n",
       "         0.1409, 0.1408, 0.1260, 0.1417, 0.1330, 0.1244, 0.1351, 0.1360, 0.1237,\n",
       "         0.1317, 0.1340, 0.1262, 0.1366, 0.1355, 0.1645, 0.1532, 0.1359, 0.1552,\n",
       "         0.1365, 0.1593, 0.1468, 0.1342, 0.1300, 0.1355, 0.1345, 0.1260, 0.1345,\n",
       "         0.1226, 0.1285, 0.1314, 0.1305, 0.1372, 0.1510, 0.1420, 0.1638, 0.1373,\n",
       "         0.1494]),\n",
       " torch.Size([892]))"
      ]
     },
     "execution_count": 32,
     "metadata": {},
     "output_type": "execute_result"
    }
   ],
   "source": [
    "valid_5_dist = mnist_distance(valid_5_tens, mean5)\n",
    "valid_5_dist, valid_5_dist.shape"
   ]
  },
  {
   "cell_type": "code",
   "execution_count": 33,
   "metadata": {},
   "outputs": [
    {
     "data": {
      "text/plain": [
       "(tensor([0.1264, 0.1408, 0.1741, 0.1351, 0.1281, 0.1282, 0.1058, 0.1192, 0.1527,\n",
       "         0.1366, 0.1088, 0.1372, 0.1168, 0.1340, 0.1154, 0.1743, 0.1407, 0.1366,\n",
       "         0.1268, 0.1282, 0.1382, 0.1164, 0.1073, 0.1225, 0.1410, 0.1223, 0.1359,\n",
       "         0.1180, 0.1059, 0.1217, 0.1195, 0.1675, 0.1319, 0.1638, 0.1003, 0.1740,\n",
       "         0.1200, 0.1039, 0.1465, 0.1080, 0.1149, 0.1069, 0.1369, 0.1839, 0.1664,\n",
       "         0.1156, 0.1458, 0.1196, 0.1182, 0.1235, 0.1313, 0.1528, 0.1128, 0.1286,\n",
       "         0.1632, 0.1071, 0.1038, 0.1278, 0.1276, 0.1099, 0.1084, 0.1162, 0.1526,\n",
       "         0.1179, 0.1032, 0.1270, 0.1111, 0.1282, 0.1086, 0.1189, 0.1469, 0.1207,\n",
       "         0.1753, 0.1092, 0.1508, 0.1140, 0.1252, 0.1353, 0.1108, 0.1135, 0.1641,\n",
       "         0.1502, 0.1033, 0.1395, 0.1322, 0.1162, 0.1065, 0.1108, 0.1269, 0.1461,\n",
       "         0.1134, 0.1232, 0.1024, 0.1224, 0.1222, 0.1214, 0.1049, 0.1375, 0.1145,\n",
       "         0.1377, 0.1071, 0.1217, 0.0969, 0.1015, 0.1366, 0.1533, 0.1007, 0.1362,\n",
       "         0.1463, 0.1825, 0.1446, 0.1090, 0.1141, 0.1044, 0.1113, 0.1344, 0.1984,\n",
       "         0.1170, 0.1430, 0.1806, 0.1306, 0.1170, 0.1120, 0.1103, 0.1531, 0.1834,\n",
       "         0.1219, 0.1361, 0.1399, 0.1017, 0.1843, 0.1198, 0.1065, 0.1406, 0.1286,\n",
       "         0.1405, 0.1874, 0.1322, 0.1133, 0.1097, 0.1013, 0.1081, 0.1356, 0.1034,\n",
       "         0.1458, 0.0963, 0.1242, 0.1211, 0.1182, 0.1032, 0.1064, 0.1048, 0.1109,\n",
       "         0.1114, 0.1174, 0.1955, 0.1532, 0.1178, 0.1064, 0.1637, 0.1161, 0.1553,\n",
       "         0.1316, 0.1125, 0.1234, 0.1388, 0.1112, 0.1087, 0.1605, 0.1675, 0.1199,\n",
       "         0.1462, 0.2008, 0.1091, 0.1097, 0.1654, 0.1446, 0.1304, 0.1437, 0.0997,\n",
       "         0.1103, 0.1201, 0.1189, 0.1416, 0.1155, 0.1133, 0.1916, 0.1656, 0.1895,\n",
       "         0.1145, 0.1110, 0.1181, 0.1225, 0.1166, 0.1229, 0.1217, 0.1191, 0.1055,\n",
       "         0.1236, 0.1339, 0.1190, 0.1260, 0.1158, 0.1133, 0.1177, 0.1734, 0.1517,\n",
       "         0.1050, 0.1280, 0.1470, 0.1115, 0.1511, 0.1085, 0.1134, 0.1205, 0.1238,\n",
       "         0.1092, 0.1087, 0.1587, 0.1008, 0.1043, 0.1270, 0.1439, 0.1216, 0.1619,\n",
       "         0.1743, 0.1029, 0.1027, 0.1356, 0.1434, 0.1138, 0.1415, 0.1313, 0.1967,\n",
       "         0.1483, 0.1134, 0.1116, 0.1194, 0.1564, 0.1106, 0.1310, 0.1244, 0.1125,\n",
       "         0.1043, 0.1279, 0.1084, 0.1211, 0.1225, 0.1085, 0.1072, 0.1267, 0.1202,\n",
       "         0.1110, 0.1289, 0.1550, 0.1099, 0.1181, 0.1113, 0.1213, 0.1841, 0.1441,\n",
       "         0.1084, 0.1608, 0.1610, 0.1487, 0.1284, 0.1257, 0.1184, 0.1003, 0.1315,\n",
       "         0.1066, 0.1209, 0.1400, 0.1494, 0.1221, 0.1697, 0.1215, 0.1222, 0.1563,\n",
       "         0.1263, 0.1858, 0.1362, 0.1097, 0.1286, 0.1191, 0.1113, 0.1228, 0.1430,\n",
       "         0.1039, 0.1199, 0.1569, 0.1363, 0.1536, 0.1241, 0.1264, 0.1594, 0.1465,\n",
       "         0.1360, 0.2030, 0.1162, 0.1956, 0.1771, 0.1134, 0.1113, 0.1467, 0.1102,\n",
       "         0.1105, 0.0982, 0.1086, 0.1120, 0.1260, 0.1605, 0.1481, 0.1485, 0.1069,\n",
       "         0.1081, 0.1053, 0.1057, 0.1189, 0.1404, 0.1040, 0.1135, 0.1328, 0.1515,\n",
       "         0.1562, 0.1414, 0.1320, 0.1100, 0.1091, 0.1715, 0.1183, 0.1171, 0.1295,\n",
       "         0.1092, 0.1626, 0.1414, 0.1165, 0.1116, 0.1262, 0.1049, 0.1216, 0.1014,\n",
       "         0.1175, 0.1116, 0.1098, 0.1791, 0.1054, 0.1291, 0.1361, 0.1456, 0.1596,\n",
       "         0.1164, 0.1418, 0.1636, 0.1225, 0.1656, 0.1243, 0.1115, 0.1121, 0.1349,\n",
       "         0.1116, 0.1450, 0.1392, 0.1197, 0.1094, 0.1272, 0.1964, 0.1168, 0.1263,\n",
       "         0.1127, 0.1118, 0.1110, 0.1729, 0.1305, 0.1238, 0.1594, 0.1437, 0.1333,\n",
       "         0.1457, 0.1330, 0.0998, 0.1221, 0.1476, 0.1120, 0.1350, 0.1281, 0.1322,\n",
       "         0.1151, 0.1278, 0.1588, 0.1537, 0.1092, 0.1107, 0.1256, 0.1550, 0.1599,\n",
       "         0.1121, 0.1448, 0.1082, 0.1188, 0.1577, 0.1239, 0.1187, 0.1224, 0.1092,\n",
       "         0.1706, 0.1023, 0.1431, 0.1302, 0.1138, 0.1119, 0.1075, 0.1205, 0.1098,\n",
       "         0.1163, 0.1142, 0.0980, 0.1307, 0.1198, 0.1324, 0.1206, 0.1498, 0.1101,\n",
       "         0.1197, 0.1390, 0.1116, 0.1360, 0.1867, 0.1227, 0.1594, 0.1415, 0.1038,\n",
       "         0.1267, 0.1206, 0.1115, 0.1406, 0.1536, 0.1118, 0.1171, 0.1375, 0.1152,\n",
       "         0.1317, 0.1064, 0.1008, 0.1145, 0.1180, 0.1110, 0.1035, 0.1089, 0.1223,\n",
       "         0.1042, 0.1154, 0.1071, 0.1210, 0.1136, 0.1078, 0.1893, 0.1288, 0.1456,\n",
       "         0.1249, 0.1284, 0.1540, 0.1284, 0.1628, 0.1337, 0.1224, 0.1338, 0.1401,\n",
       "         0.1086, 0.1285, 0.1804, 0.1391, 0.1452, 0.1775, 0.1033, 0.1187, 0.1509,\n",
       "         0.1379, 0.1183, 0.1169, 0.1130, 0.1180, 0.1256, 0.1337, 0.1137, 0.1356,\n",
       "         0.1297, 0.1220, 0.1289, 0.1121, 0.1260, 0.1040, 0.1349, 0.1464, 0.1118,\n",
       "         0.1112, 0.1008, 0.1603, 0.1004, 0.1047, 0.1283, 0.1049, 0.1536, 0.1122,\n",
       "         0.1293, 0.1178, 0.1254, 0.1094, 0.1068, 0.1063, 0.1223, 0.1163, 0.1082,\n",
       "         0.1141, 0.1541, 0.1091, 0.1338, 0.1513, 0.1306, 0.1388, 0.1185, 0.1063,\n",
       "         0.1035, 0.1310, 0.1735, 0.1214, 0.1241, 0.1265, 0.1142, 0.1407, 0.1940,\n",
       "         0.1241, 0.1403, 0.1334, 0.1167, 0.1565, 0.1519, 0.1181, 0.1489, 0.1788,\n",
       "         0.1155, 0.1258, 0.1364, 0.1225, 0.1106, 0.1035, 0.1254, 0.1015, 0.1067,\n",
       "         0.1061, 0.1512, 0.1057, 0.1017, 0.1068, 0.1101, 0.1152, 0.1100, 0.1356,\n",
       "         0.1145, 0.1368, 0.1122, 0.1098, 0.1267, 0.1129, 0.1426, 0.1344, 0.1279,\n",
       "         0.1376, 0.1570, 0.1913, 0.1294, 0.1240, 0.1126, 0.1395, 0.1112, 0.1119,\n",
       "         0.1440, 0.1111, 0.1241, 0.0962, 0.1123, 0.1292, 0.1137, 0.1434, 0.1092,\n",
       "         0.1188, 0.1075, 0.1056, 0.0992, 0.1785, 0.1301, 0.1436, 0.1285, 0.1415,\n",
       "         0.1117, 0.1736, 0.1226, 0.1081, 0.1165, 0.1358, 0.1399, 0.1326, 0.1295,\n",
       "         0.1411, 0.1540, 0.1234, 0.1354, 0.1183, 0.1221, 0.1097, 0.1185, 0.1207,\n",
       "         0.1193, 0.1166, 0.1311, 0.1348, 0.1253, 0.1099, 0.1062, 0.1177, 0.1066,\n",
       "         0.1099, 0.1261, 0.1005, 0.1030, 0.1224, 0.1162, 0.1242, 0.1187, 0.1006,\n",
       "         0.1023, 0.1244, 0.1327, 0.1103, 0.1203, 0.1164, 0.1098, 0.0995, 0.1089,\n",
       "         0.1128, 0.1163, 0.1167, 0.1052, 0.1013, 0.1210, 0.1254, 0.1184, 0.1083,\n",
       "         0.1210, 0.1201, 0.1217, 0.1161, 0.1193, 0.1102, 0.1306, 0.1075, 0.1123,\n",
       "         0.1215, 0.1082, 0.1187, 0.1180, 0.1171, 0.1512, 0.1097, 0.1180, 0.1085,\n",
       "         0.1078, 0.1115, 0.1718, 0.1198, 0.1087, 0.1139, 0.1126, 0.1087, 0.1138,\n",
       "         0.1051, 0.1072, 0.1107, 0.1130, 0.1157, 0.1382, 0.1167, 0.1198, 0.1369,\n",
       "         0.1112, 0.1167, 0.1027, 0.1073, 0.1094, 0.1176, 0.1081, 0.1022, 0.1096,\n",
       "         0.1339, 0.1073, 0.1573, 0.1287, 0.1026, 0.1147, 0.1124, 0.1048, 0.1568,\n",
       "         0.1833, 0.1767, 0.1395, 0.1368, 0.1263, 0.1296, 0.1211, 0.1281, 0.1137,\n",
       "         0.1295, 0.1418, 0.1594, 0.1342, 0.1609, 0.1564, 0.1672, 0.1230, 0.1747,\n",
       "         0.1200, 0.1574, 0.1443, 0.1808, 0.1356, 0.1527, 0.1698, 0.1551, 0.1127,\n",
       "         0.1104, 0.1341, 0.1076, 0.1196, 0.1896, 0.1191, 0.1142, 0.1288, 0.1081,\n",
       "         0.1027, 0.1243, 0.1160, 0.1093, 0.1185, 0.1086, 0.1208, 0.1396, 0.1612,\n",
       "         0.1348, 0.1171, 0.1059, 0.1520, 0.1185, 0.1475, 0.1483, 0.1357, 0.1261,\n",
       "         0.1705, 0.1645, 0.1125, 0.1499, 0.1240, 0.1238, 0.1277, 0.1577, 0.1289,\n",
       "         0.1221, 0.1178, 0.1429, 0.1495, 0.1367, 0.1420, 0.1235, 0.1392, 0.1470,\n",
       "         0.1094, 0.1334, 0.1182, 0.1210, 0.1019, 0.1220, 0.1222, 0.1210, 0.1148,\n",
       "         0.1438, 0.1802, 0.1265, 0.1125, 0.1272, 0.1426, 0.1383, 0.1441, 0.1141,\n",
       "         0.1218, 0.1547, 0.1295, 0.1458, 0.1520, 0.1104, 0.1493, 0.1303, 0.1183,\n",
       "         0.1198, 0.1138, 0.1273, 0.1862, 0.1093, 0.1105, 0.1396, 0.1160, 0.1059,\n",
       "         0.1117, 0.1248, 0.1181, 0.1417, 0.1217, 0.1082, 0.1065, 0.1242, 0.1077,\n",
       "         0.1179, 0.1283, 0.1319, 0.1008, 0.1018, 0.1227, 0.1003, 0.0972, 0.1044,\n",
       "         0.1131, 0.1146, 0.1341, 0.1241, 0.1201, 0.1077, 0.1326, 0.1075, 0.1245,\n",
       "         0.1019, 0.1246, 0.1132, 0.1095, 0.1031, 0.1251, 0.1032, 0.1310, 0.1437,\n",
       "         0.1294, 0.1486, 0.1405, 0.1272, 0.1364, 0.1143, 0.1167, 0.1182, 0.1383,\n",
       "         0.1249, 0.1475, 0.1183, 0.0971, 0.1040, 0.1097, 0.1439, 0.1276, 0.1178,\n",
       "         0.1029, 0.1047, 0.1277, 0.1109, 0.1186, 0.1087, 0.1249, 0.1231, 0.1317,\n",
       "         0.1340, 0.1236, 0.1266, 0.1016, 0.1202, 0.1455, 0.0989, 0.1262, 0.0984,\n",
       "         0.1057, 0.1136, 0.1106, 0.1078, 0.1151, 0.1729, 0.1254, 0.1393, 0.1429,\n",
       "         0.1123, 0.1149, 0.1112, 0.1231, 0.1182, 0.1325, 0.1116, 0.1215, 0.1183,\n",
       "         0.1296, 0.1669, 0.1796, 0.1784, 0.1204, 0.1319, 0.1160, 0.1131, 0.1378,\n",
       "         0.1138, 0.1246, 0.1233, 0.1361, 0.1400, 0.1387, 0.1330, 0.1301, 0.1464,\n",
       "         0.1363, 0.1322, 0.1307, 0.1273, 0.1266, 0.1240, 0.1563, 0.1442, 0.1421,\n",
       "         0.1396, 0.1337, 0.1312, 0.1381, 0.1173, 0.1410, 0.1346, 0.1330, 0.1351,\n",
       "         0.1239, 0.1199, 0.1085, 0.1191, 0.1341, 0.1064, 0.1288, 0.1191, 0.1300,\n",
       "         0.1173, 0.1093, 0.1244, 0.1105, 0.1312, 0.1258, 0.1371, 0.0968, 0.1183,\n",
       "         0.1172, 0.1311, 0.1180, 0.1322]),\n",
       " torch.Size([958]))"
      ]
     },
     "execution_count": 33,
     "metadata": {},
     "output_type": "execute_result"
    }
   ],
   "source": [
    "valid_6_dist = mnist_distance(valid_6_tens, mean6)\n",
    "valid_6_dist, valid_6_dist.shape"
   ]
  },
  {
   "cell_type": "code",
   "execution_count": 34,
   "metadata": {},
   "outputs": [
    {
     "data": {
      "text/plain": [
       "(tensor([0.0874, 0.0971, 0.1050,  ..., 0.0893, 0.0983, 0.0977]),\n",
       " torch.Size([1028]))"
      ]
     },
     "execution_count": 34,
     "metadata": {},
     "output_type": "execute_result"
    }
   ],
   "source": [
    "valid_7_dist = mnist_distance(valid_7_tens, mean7)\n",
    "valid_7_dist, valid_7_dist.shape"
   ]
  },
  {
   "cell_type": "code",
   "execution_count": 35,
   "metadata": {},
   "outputs": [
    {
     "data": {
      "text/plain": [
       "(tensor([0.1124, 0.1237, 0.1195, 0.1166, 0.1408, 0.1455, 0.1231, 0.1321, 0.1159,\n",
       "         0.1227, 0.2015, 0.1268, 0.1143, 0.1172, 0.1459, 0.1318, 0.1665, 0.1310,\n",
       "         0.1608, 0.1306, 0.1464, 0.1334, 0.1182, 0.1222, 0.1444, 0.1555, 0.1145,\n",
       "         0.1424, 0.1526, 0.1326, 0.1290, 0.1148, 0.1180, 0.1255, 0.1797, 0.1179,\n",
       "         0.1186, 0.1618, 0.1123, 0.1225, 0.1334, 0.1293, 0.1100, 0.1542, 0.1363,\n",
       "         0.1393, 0.1406, 0.1348, 0.1401, 0.1111, 0.1179, 0.1446, 0.1362, 0.1190,\n",
       "         0.1723, 0.1286, 0.1385, 0.1238, 0.1647, 0.1190, 0.1483, 0.1107, 0.1415,\n",
       "         0.1635, 0.1324, 0.1104, 0.1152, 0.1249, 0.1122, 0.1416, 0.1101, 0.1436,\n",
       "         0.1250, 0.1190, 0.1246, 0.1430, 0.1188, 0.1291, 0.1303, 0.1605, 0.1052,\n",
       "         0.1380, 0.1118, 0.1633, 0.1444, 0.1181, 0.1311, 0.1787, 0.1205, 0.1290,\n",
       "         0.1654, 0.1189, 0.1403, 0.1213, 0.1308, 0.1254, 0.1617, 0.1145, 0.1478,\n",
       "         0.1689, 0.1490, 0.1453, 0.1258, 0.1198, 0.1212, 0.1181, 0.1434, 0.1220,\n",
       "         0.1201, 0.1315, 0.1432, 0.1401, 0.1139, 0.1239, 0.1384, 0.1117, 0.1259,\n",
       "         0.1494, 0.1641, 0.1119, 0.1845, 0.1165, 0.1170, 0.1204, 0.1390, 0.1312,\n",
       "         0.1260, 0.1224, 0.1265, 0.1474, 0.1235, 0.1662, 0.1224, 0.1307, 0.1233,\n",
       "         0.1227, 0.1143, 0.1257, 0.1169, 0.1590, 0.1171, 0.1282, 0.1173, 0.1732,\n",
       "         0.1173, 0.1213, 0.1326, 0.1159, 0.1293, 0.1373, 0.1162, 0.1179, 0.1227,\n",
       "         0.1231, 0.1455, 0.1668, 0.1492, 0.1124, 0.1517, 0.1330, 0.1503, 0.1240,\n",
       "         0.1224, 0.1157, 0.1577, 0.1268, 0.1320, 0.1428, 0.1188, 0.1313, 0.1148,\n",
       "         0.1245, 0.1155, 0.1242, 0.1292, 0.1295, 0.1341, 0.1157, 0.1200, 0.1127,\n",
       "         0.1534, 0.1143, 0.1121, 0.1341, 0.1145, 0.1528, 0.1186, 0.1201, 0.1134,\n",
       "         0.1159, 0.1921, 0.1328, 0.1387, 0.1108, 0.1166, 0.1244, 0.1313, 0.1536,\n",
       "         0.1133, 0.1265, 0.1100, 0.1229, 0.1132, 0.1444, 0.1119, 0.1927, 0.1202,\n",
       "         0.1585, 0.1542, 0.1189, 0.1157, 0.1147, 0.1360, 0.1346, 0.1228, 0.1564,\n",
       "         0.1127, 0.1176, 0.1513, 0.1372, 0.1212, 0.1168, 0.1224, 0.1263, 0.1157,\n",
       "         0.1164, 0.1370, 0.1326, 0.1269, 0.1369, 0.1142, 0.1265, 0.1188, 0.1474,\n",
       "         0.1220, 0.1493, 0.1487, 0.1321, 0.1157, 0.1214, 0.1238, 0.1435, 0.1102,\n",
       "         0.1387, 0.1445, 0.1114, 0.1357, 0.1510, 0.1267, 0.1157, 0.1136, 0.1625,\n",
       "         0.1908, 0.1076, 0.1759, 0.1370, 0.1312, 0.1263, 0.1286, 0.1146, 0.1312,\n",
       "         0.1168, 0.1230, 0.1419, 0.1411, 0.1165, 0.1334, 0.1743, 0.1190, 0.1230,\n",
       "         0.1445, 0.1442, 0.1465, 0.1285, 0.1323, 0.1024, 0.1491, 0.1393, 0.1433,\n",
       "         0.1145, 0.1570, 0.1138, 0.1638, 0.1331, 0.1168, 0.1587, 0.1146, 0.1505,\n",
       "         0.2169, 0.1322, 0.1193, 0.1386, 0.1173, 0.1499, 0.1251, 0.1204, 0.1365,\n",
       "         0.1495, 0.1167, 0.1648, 0.1188, 0.1508, 0.1195, 0.1079, 0.1108, 0.1186,\n",
       "         0.1285, 0.1131, 0.1352, 0.1177, 0.1326, 0.1235, 0.1251, 0.1125, 0.1277,\n",
       "         0.1267, 0.1304, 0.1278, 0.1300, 0.1183, 0.1150, 0.1528, 0.1416, 0.1319,\n",
       "         0.1661, 0.1141, 0.1494, 0.1626, 0.2187, 0.1212, 0.1313, 0.1380, 0.1630,\n",
       "         0.1259, 0.1199, 0.1289, 0.1247, 0.1196, 0.1138, 0.1208, 0.1732, 0.1235,\n",
       "         0.1432, 0.1528, 0.1306, 0.1264, 0.1281, 0.1532, 0.1206, 0.1501, 0.1142,\n",
       "         0.1513, 0.1373, 0.1253, 0.1305, 0.1291, 0.1226, 0.1143, 0.1140, 0.1152,\n",
       "         0.1204, 0.1122, 0.1330, 0.1280, 0.1207, 0.1279, 0.1399, 0.1347, 0.1211,\n",
       "         0.1303, 0.1235, 0.1436, 0.1141, 0.1720, 0.1368, 0.1280, 0.1314, 0.1718,\n",
       "         0.1417, 0.1147, 0.1252, 0.1298, 0.1236, 0.1131, 0.1401, 0.1172, 0.1960,\n",
       "         0.1266, 0.1231, 0.1351, 0.1274, 0.1501, 0.1223, 0.1384, 0.1196, 0.1482,\n",
       "         0.1832, 0.1115, 0.1101, 0.1844, 0.1242, 0.1254, 0.1201, 0.1270, 0.2013,\n",
       "         0.1133, 0.1543, 0.1353, 0.1150, 0.1323, 0.1210, 0.1393, 0.1211, 0.1193,\n",
       "         0.1445, 0.1186, 0.1378, 0.1166, 0.1266, 0.1511, 0.1299, 0.1237, 0.1152,\n",
       "         0.1067, 0.1505, 0.1512, 0.1288, 0.1276, 0.1576, 0.1260, 0.1322, 0.1265,\n",
       "         0.1648, 0.1521, 0.1557, 0.1352, 0.1339, 0.1315, 0.1290, 0.1210, 0.1205,\n",
       "         0.1153, 0.1216, 0.1173, 0.1177, 0.1241, 0.1158, 0.1244, 0.1333, 0.1288,\n",
       "         0.1382, 0.1252, 0.1335, 0.1276, 0.1443, 0.1305, 0.1201, 0.1221, 0.1230,\n",
       "         0.1173, 0.1188, 0.1423, 0.1208, 0.1269, 0.1175, 0.1714, 0.1373, 0.1498,\n",
       "         0.1604, 0.1104, 0.1165, 0.1117, 0.1191, 0.1311, 0.1158, 0.1299, 0.1227,\n",
       "         0.1281, 0.1123, 0.1234, 0.1162, 0.1135, 0.1277, 0.1118, 0.1531, 0.1083,\n",
       "         0.1165, 0.1111, 0.1213, 0.1106, 0.1056, 0.1359, 0.1397, 0.1691, 0.1501,\n",
       "         0.1446, 0.1380, 0.1567, 0.1376, 0.1683, 0.1210, 0.1311, 0.1137, 0.1210,\n",
       "         0.1262, 0.1286, 0.1103, 0.1392, 0.1426, 0.1313, 0.1519, 0.1133, 0.1232,\n",
       "         0.1270, 0.1361, 0.1238, 0.1227, 0.1186, 0.1103, 0.1222, 0.1471, 0.1283,\n",
       "         0.1446, 0.1278, 0.1382, 0.1378, 0.1214, 0.1448, 0.1285, 0.1354, 0.1389,\n",
       "         0.1241, 0.1354, 0.1148, 0.1067, 0.1202, 0.1112, 0.1167, 0.1361, 0.1141,\n",
       "         0.1529, 0.1340, 0.1313, 0.1450, 0.1719, 0.1445, 0.1449, 0.1271, 0.1165,\n",
       "         0.1719, 0.1206, 0.1360, 0.1445, 0.1207, 0.1265, 0.1460, 0.1273, 0.1499,\n",
       "         0.2060, 0.1731, 0.1429, 0.1496, 0.1159, 0.1619, 0.1739, 0.1666, 0.2143,\n",
       "         0.1668, 0.1303, 0.1316, 0.1144, 0.1137, 0.1157, 0.1109, 0.1396, 0.1173,\n",
       "         0.1093, 0.1246, 0.1029, 0.1163, 0.1251, 0.1254, 0.1404, 0.1206, 0.1308,\n",
       "         0.1104, 0.1093, 0.1355, 0.1359, 0.1338, 0.1151, 0.1155, 0.1363, 0.1275,\n",
       "         0.1203, 0.1202, 0.1211, 0.1155, 0.1141, 0.1365, 0.1225, 0.1217, 0.1181,\n",
       "         0.1200, 0.1175, 0.1328, 0.1208, 0.1712, 0.1136, 0.1238, 0.1463, 0.1421,\n",
       "         0.1164, 0.1201, 0.1162, 0.1476, 0.1025, 0.1148, 0.1368, 0.1298, 0.1096,\n",
       "         0.1387, 0.1454, 0.1248, 0.1406, 0.1376, 0.1344, 0.1320, 0.1462, 0.1456,\n",
       "         0.1395, 0.1572, 0.1539, 0.1249, 0.1261, 0.1317, 0.1392, 0.1318, 0.1240,\n",
       "         0.1489, 0.1321, 0.1247, 0.1189, 0.1302, 0.1145, 0.1305, 0.1301, 0.1111,\n",
       "         0.1837, 0.1214, 0.1225, 0.1676, 0.1421, 0.1195, 0.1216, 0.1103, 0.1211,\n",
       "         0.1196, 0.1178, 0.1136, 0.1301, 0.1141, 0.1096, 0.1373, 0.1086, 0.1106,\n",
       "         0.1246, 0.1127, 0.1128, 0.1090, 0.1231, 0.1120, 0.1175, 0.1464, 0.1237,\n",
       "         0.1195, 0.1140, 0.1154, 0.1160, 0.1447, 0.1124, 0.1381, 0.1339, 0.1458,\n",
       "         0.1454, 0.1512, 0.1638, 0.1206, 0.1388, 0.1187, 0.1112, 0.1451, 0.1108,\n",
       "         0.1097, 0.1154, 0.1369, 0.1511, 0.1354, 0.1242, 0.1114, 0.1215, 0.1169,\n",
       "         0.1436, 0.1308, 0.1198, 0.1149, 0.1272, 0.1143, 0.1380, 0.1487, 0.1579,\n",
       "         0.1367, 0.1497, 0.1214, 0.1225, 0.1318, 0.1279, 0.1497, 0.1592, 0.1299,\n",
       "         0.1131, 0.1151, 0.1124, 0.1180, 0.1166, 0.1067, 0.1123, 0.1301, 0.1460,\n",
       "         0.1416, 0.1413, 0.1380, 0.1401, 0.1403, 0.1492, 0.1358, 0.1131, 0.1353,\n",
       "         0.1224, 0.1581, 0.1297, 0.1373, 0.1615, 0.1372, 0.1427, 0.1584, 0.1628,\n",
       "         0.1844, 0.1632, 0.1829, 0.1626, 0.1858, 0.1540, 0.1597, 0.1666, 0.1750,\n",
       "         0.1392, 0.1582, 0.1694, 0.1314, 0.1284, 0.1260, 0.1168, 0.1322, 0.1401,\n",
       "         0.1336, 0.1645, 0.1401, 0.1291, 0.1636, 0.1885, 0.1287, 0.1538, 0.1213,\n",
       "         0.1132, 0.1412, 0.1263, 0.1190, 0.1783, 0.1326, 0.1529, 0.1378, 0.1415,\n",
       "         0.1191, 0.1428, 0.1399, 0.1223, 0.1249, 0.1328, 0.1357, 0.1529, 0.1338,\n",
       "         0.1345, 0.1429, 0.1312, 0.1395, 0.1536, 0.1518, 0.1240, 0.1441, 0.1294,\n",
       "         0.1586, 0.1495, 0.1336, 0.1254, 0.1472, 0.1394, 0.1405, 0.1406, 0.1299,\n",
       "         0.1380, 0.1105, 0.1513, 0.1332, 0.1727, 0.1498, 0.1805, 0.1602, 0.1373,\n",
       "         0.1614, 0.1280, 0.1790, 0.1537, 0.1139, 0.1124, 0.1203, 0.1076, 0.1107,\n",
       "         0.1083, 0.1123, 0.1298, 0.1708, 0.1099, 0.1136, 0.1139, 0.1290, 0.1424,\n",
       "         0.1224, 0.1287, 0.1173, 0.1209, 0.1203, 0.1233, 0.1357, 0.1265, 0.1278,\n",
       "         0.1258, 0.1800, 0.1837, 0.1444, 0.1708, 0.1192, 0.1258, 0.1185, 0.1340,\n",
       "         0.1277, 0.1406, 0.1234, 0.1161, 0.1452, 0.1158, 0.1161, 0.1394, 0.1135,\n",
       "         0.1262, 0.1381, 0.1103, 0.1255, 0.1222, 0.1268, 0.1252, 0.1183, 0.1406,\n",
       "         0.1244, 0.1255, 0.1426, 0.1564, 0.1600, 0.1581, 0.1503, 0.1544, 0.1886,\n",
       "         0.1645, 0.1482, 0.1480, 0.1544, 0.1186, 0.1238, 0.1488, 0.1585, 0.1242,\n",
       "         0.1302, 0.1372, 0.1564, 0.1326, 0.1467, 0.1372, 0.1530, 0.1168, 0.1418,\n",
       "         0.1162, 0.1204, 0.1367, 0.1208, 0.1135, 0.1136, 0.1064, 0.1227, 0.1297,\n",
       "         0.1447, 0.1220, 0.1297, 0.1166, 0.1225, 0.1236, 0.1042, 0.1548, 0.1208,\n",
       "         0.1265, 0.1323, 0.1140, 0.1424, 0.1263, 0.1369, 0.1190, 0.1334, 0.1406,\n",
       "         0.1465, 0.1243, 0.1315, 0.1363, 0.1746, 0.1435, 0.1096, 0.1432, 0.1271,\n",
       "         0.1090, 0.1220, 0.1512, 0.1142, 0.1142, 0.1266, 0.1269, 0.1455, 0.1429,\n",
       "         0.1588, 0.1277, 0.1467, 0.1506, 0.1214, 0.1456, 0.1110, 0.1181, 0.1064,\n",
       "         0.1101, 0.1108, 0.1125, 0.1141, 0.1186, 0.1190, 0.1183, 0.1177, 0.1220,\n",
       "         0.1125, 0.1439, 0.1307, 0.1103, 0.1397, 0.1154, 0.1222, 0.1251, 0.1339,\n",
       "         0.1777, 0.1471]),\n",
       " torch.Size([974]))"
      ]
     },
     "execution_count": 35,
     "metadata": {},
     "output_type": "execute_result"
    }
   ],
   "source": [
    "valid_8_dist = mnist_distance(valid_8_tens, mean8)\n",
    "valid_8_dist, valid_8_dist.shape"
   ]
  },
  {
   "cell_type": "code",
   "execution_count": 36,
   "metadata": {},
   "outputs": [
    {
     "data": {
      "text/plain": [
       "(tensor([0.1106, 0.0893, 0.0964,  ..., 0.1153, 0.1071, 0.1164]),\n",
       " torch.Size([1009]))"
      ]
     },
     "execution_count": 36,
     "metadata": {},
     "output_type": "execute_result"
    }
   ],
   "source": [
    "valid_9_dist = mnist_distance(valid_9_tens, mean9)\n",
    "valid_9_dist, valid_9_dist.shape"
   ]
  },
  {
   "cell_type": "code",
   "execution_count": 37,
   "metadata": {},
   "outputs": [
    {
     "data": {
      "text/plain": [
       "(tensor([0.1298, 0.1337, 0.1540, 0.1250, 0.1302, 0.1468, 0.1473, 0.1413, 0.1394,\n",
       "         0.1521, 0.1197, 0.1534, 0.1626, 0.1220, 0.1701, 0.1334, 0.1571, 0.1269,\n",
       "         0.1490, 0.1591, 0.1765, 0.1235, 0.1488, 0.1718, 0.1143, 0.1653, 0.1636,\n",
       "         0.1639, 0.1193, 0.1192, 0.1279, 0.1214, 0.1359, 0.1426, 0.1404, 0.1509,\n",
       "         0.1654, 0.1431, 0.1387, 0.1333, 0.1218, 0.1225, 0.1491, 0.1592, 0.1622,\n",
       "         0.1220, 0.1390, 0.1264, 0.1172, 0.1826, 0.1295, 0.1467, 0.1348, 0.1576,\n",
       "         0.1359, 0.1375, 0.1423, 0.1759, 0.1350, 0.1939, 0.1397, 0.1559, 0.1598,\n",
       "         0.1581, 0.1274, 0.1749, 0.1487, 0.1430, 0.1593, 0.1408, 0.1148, 0.1343,\n",
       "         0.1228, 0.1763, 0.1416, 0.1578, 0.1357, 0.1334, 0.1457, 0.1270, 0.1329,\n",
       "         0.1438, 0.1521, 0.1653, 0.1191, 0.1610, 0.1607, 0.1551, 0.1525, 0.1352,\n",
       "         0.1769, 0.1640, 0.1272, 0.1402, 0.1441, 0.1281, 0.1413, 0.1373, 0.1212,\n",
       "         0.1536, 0.1650, 0.1493, 0.1546, 0.1239, 0.1667, 0.1354, 0.1472, 0.1313,\n",
       "         0.1205, 0.1188, 0.1316, 0.1285, 0.1452, 0.1257, 0.1261, 0.1654, 0.1647,\n",
       "         0.1401, 0.1505, 0.1380, 0.1516, 0.1175, 0.1232, 0.1572, 0.1520, 0.1610,\n",
       "         0.1370, 0.1566, 0.1465, 0.1524, 0.1410, 0.1731, 0.1562, 0.1825, 0.1319,\n",
       "         0.1437, 0.1274, 0.1409, 0.1444, 0.1396, 0.1518, 0.1454, 0.1776, 0.1389,\n",
       "         0.1419, 0.1622, 0.1379, 0.1494, 0.1275, 0.1283, 0.1256, 0.1510, 0.1324,\n",
       "         0.1687, 0.1476, 0.1216, 0.1311, 0.1220, 0.1522, 0.1639, 0.1459, 0.1561,\n",
       "         0.1701, 0.1507, 0.1147, 0.1383, 0.1436, 0.1457, 0.1421, 0.1146, 0.1300,\n",
       "         0.1740, 0.1269, 0.1199, 0.1419, 0.1689, 0.1461, 0.1245, 0.1247, 0.1386,\n",
       "         0.1205, 0.1217, 0.1671, 0.1484, 0.1300, 0.1477, 0.1470, 0.1220, 0.1348,\n",
       "         0.1616, 0.1164, 0.1738, 0.1379, 0.1716, 0.1486, 0.1344, 0.1244, 0.1413,\n",
       "         0.1546, 0.1324, 0.1341, 0.1526, 0.1641, 0.1306, 0.1709, 0.1458, 0.1284,\n",
       "         0.1420, 0.1913, 0.1544, 0.1358, 0.1273, 0.1480, 0.1865, 0.1158, 0.1340,\n",
       "         0.1372, 0.1450, 0.1622, 0.1266, 0.1353, 0.1844, 0.1625, 0.1338, 0.1342,\n",
       "         0.1357, 0.1456, 0.1153, 0.1331, 0.1406, 0.1548, 0.1605, 0.1423, 0.1673,\n",
       "         0.1264, 0.1569, 0.1275, 0.1187, 0.1362, 0.1521, 0.1236, 0.1193, 0.1602,\n",
       "         0.1526, 0.1386, 0.1188, 0.1161, 0.1827, 0.1622, 0.1312, 0.1497, 0.1188,\n",
       "         0.1558, 0.1743, 0.1393, 0.1358, 0.1404, 0.1361, 0.1318, 0.1759, 0.1209,\n",
       "         0.1515, 0.1579, 0.1259, 0.1360, 0.1185, 0.1411, 0.1615, 0.1352, 0.1272,\n",
       "         0.1378, 0.1497, 0.1302, 0.1476, 0.1383, 0.1343, 0.1561, 0.1355, 0.1219,\n",
       "         0.1377, 0.1398, 0.1316, 0.1465, 0.1380, 0.1195, 0.1572, 0.1635, 0.1368,\n",
       "         0.1796, 0.1720, 0.1538, 0.1881, 0.1534, 0.1433, 0.1947, 0.1375, 0.1260,\n",
       "         0.1325, 0.1932, 0.1442, 0.1354, 0.1731, 0.1281, 0.1571, 0.1297, 0.1362,\n",
       "         0.1271, 0.1183, 0.1472, 0.1655, 0.1576, 0.1172, 0.1403, 0.1620, 0.1594,\n",
       "         0.1502, 0.1413, 0.1439, 0.1709, 0.1588, 0.1296, 0.1753, 0.1430, 0.1357,\n",
       "         0.1577, 0.1535, 0.1690, 0.1382, 0.1558, 0.1456, 0.1318, 0.1655, 0.1496,\n",
       "         0.1431, 0.1244, 0.1497, 0.1560, 0.1511, 0.1414, 0.1277, 0.1276, 0.1366,\n",
       "         0.1330, 0.1672, 0.1397, 0.1716, 0.1448, 0.1395, 0.1424, 0.1356, 0.1468,\n",
       "         0.1527, 0.1227, 0.1387, 0.1717, 0.1510, 0.1786, 0.1415, 0.1259, 0.1556,\n",
       "         0.1213, 0.1301, 0.1172, 0.1241, 0.1512, 0.1287, 0.1418, 0.1698, 0.1288,\n",
       "         0.1430, 0.1236, 0.1417, 0.1073, 0.1586, 0.1530, 0.1900, 0.1305, 0.1608,\n",
       "         0.1560, 0.1638, 0.1150, 0.1568, 0.1347, 0.1533, 0.1305, 0.1234, 0.1443,\n",
       "         0.1451, 0.1596, 0.1498, 0.1312, 0.1528, 0.1297, 0.1336, 0.1660, 0.1332,\n",
       "         0.1449, 0.1693, 0.1237, 0.1546, 0.1837, 0.1573, 0.1574, 0.1616, 0.1538,\n",
       "         0.1600, 0.1189, 0.1547, 0.1450, 0.1215, 0.1524, 0.1500, 0.1656, 0.1819,\n",
       "         0.1436, 0.1605, 0.1426, 0.1481, 0.1538, 0.1383, 0.1590, 0.1325, 0.1443,\n",
       "         0.1441, 0.1542, 0.1397, 0.1347, 0.1440, 0.1297, 0.1481, 0.1333, 0.1650,\n",
       "         0.1613, 0.1361, 0.1474, 0.1543, 0.1364, 0.1284, 0.1502, 0.1415, 0.1447,\n",
       "         0.1416, 0.1408, 0.1341, 0.1203, 0.1225, 0.1488, 0.1132, 0.1309, 0.1361,\n",
       "         0.1241, 0.1278, 0.1222, 0.1197, 0.1258, 0.1372, 0.1346, 0.1513, 0.1417,\n",
       "         0.1241, 0.1302, 0.1394, 0.1322, 0.1303, 0.1463, 0.1414, 0.1550, 0.1368,\n",
       "         0.1221, 0.1455, 0.1256, 0.1454, 0.1448, 0.1271, 0.1570, 0.1689, 0.1479,\n",
       "         0.1512, 0.1229, 0.1361, 0.1608, 0.1359, 0.1302, 0.1719, 0.1697, 0.1561,\n",
       "         0.1601, 0.1425, 0.1271, 0.1627, 0.1093, 0.1737, 0.1334, 0.1732, 0.1496,\n",
       "         0.1548, 0.1574, 0.1749, 0.1531, 0.1223, 0.1281, 0.1623, 0.1502, 0.1361,\n",
       "         0.1284, 0.1615, 0.1200, 0.1506, 0.1355, 0.1288, 0.1309, 0.1451, 0.1422,\n",
       "         0.1485, 0.1520, 0.1241, 0.1177, 0.1502, 0.1621, 0.1340, 0.1498, 0.1157,\n",
       "         0.1538, 0.1260, 0.1638, 0.1564, 0.1521, 0.1846, 0.1634, 0.1531, 0.1620,\n",
       "         0.1799, 0.1510, 0.1527, 0.1717, 0.1802, 0.1564, 0.1543, 0.1405, 0.1549,\n",
       "         0.1497, 0.1595, 0.1375, 0.1472, 0.1635, 0.1278, 0.1414, 0.1578, 0.1704,\n",
       "         0.1435, 0.1316, 0.1487, 0.1477, 0.1487, 0.1418, 0.1262, 0.1097, 0.1167,\n",
       "         0.1321, 0.1236, 0.1467, 0.1413, 0.1202, 0.1353, 0.1348, 0.1159, 0.1096,\n",
       "         0.1161, 0.1294, 0.1193, 0.1257, 0.1326, 0.1441, 0.1447, 0.1347, 0.1534,\n",
       "         0.1583, 0.1396, 0.1451, 0.1443, 0.1547, 0.1302, 0.1259, 0.1207, 0.1234,\n",
       "         0.1139, 0.1605, 0.1549, 0.1262, 0.1339, 0.1332, 0.1404, 0.1709, 0.1540,\n",
       "         0.1310, 0.1598, 0.1317, 0.1542, 0.1336, 0.1267, 0.1673, 0.1514, 0.1248,\n",
       "         0.1639, 0.1338, 0.1354, 0.1804, 0.1895, 0.1591, 0.1212, 0.1463, 0.1469,\n",
       "         0.1483, 0.1334, 0.1318, 0.1392, 0.1306, 0.1293, 0.1443, 0.1434, 0.1223,\n",
       "         0.1334, 0.1463, 0.1334, 0.1713, 0.1410, 0.1858, 0.1371, 0.1569, 0.1439,\n",
       "         0.1321, 0.1791, 0.1499, 0.1209, 0.1406, 0.1504, 0.1316, 0.1225, 0.1349,\n",
       "         0.1328, 0.1548, 0.1354, 0.1571, 0.1360, 0.1489, 0.1375, 0.1329, 0.1333,\n",
       "         0.1225, 0.1382, 0.1733, 0.1250, 0.1217, 0.1123, 0.1596, 0.1231, 0.1341,\n",
       "         0.1242, 0.1293, 0.1479, 0.1524, 0.1395, 0.1487, 0.1599, 0.1461, 0.1781,\n",
       "         0.1535, 0.1410, 0.1550, 0.1257, 0.1598, 0.1597, 0.1290, 0.1173, 0.1405,\n",
       "         0.1368, 0.1293, 0.1369, 0.1391, 0.1408, 0.1200, 0.1115, 0.1437, 0.1309,\n",
       "         0.1622, 0.1352, 0.1516, 0.1495, 0.1452, 0.1427, 0.1660, 0.1275, 0.1588,\n",
       "         0.1311, 0.1522, 0.1701, 0.1652, 0.1574, 0.1560, 0.1402, 0.1658, 0.1314,\n",
       "         0.1644, 0.1286, 0.1390, 0.1347, 0.1457, 0.1320, 0.1274, 0.1690, 0.1359,\n",
       "         0.1408, 0.1487, 0.1168, 0.1235, 0.1469, 0.1270, 0.1535, 0.1210, 0.1210,\n",
       "         0.1649, 0.1225, 0.1284, 0.1222, 0.1300, 0.1342, 0.1453, 0.1502, 0.1255,\n",
       "         0.1371, 0.1428, 0.1325, 0.1476, 0.1454, 0.1422, 0.1374, 0.1459, 0.1521,\n",
       "         0.1438, 0.1682, 0.1563, 0.1446, 0.1456, 0.1608, 0.1410, 0.1427, 0.1545,\n",
       "         0.1475, 0.1637, 0.1513, 0.1481, 0.1475, 0.1149, 0.1572, 0.1361, 0.1273,\n",
       "         0.1475, 0.1282, 0.1496, 0.1595, 0.1379, 0.1564, 0.1518, 0.1776, 0.1417,\n",
       "         0.1522, 0.1650, 0.1545, 0.1524, 0.1342, 0.1675, 0.1643, 0.1457, 0.1516,\n",
       "         0.1114, 0.1246, 0.1351, 0.1429, 0.1341, 0.1351, 0.1597, 0.1283, 0.1467,\n",
       "         0.1412, 0.1601, 0.1234, 0.1546, 0.1514, 0.1345, 0.1499, 0.1608, 0.1622,\n",
       "         0.1568, 0.1328, 0.1628, 0.1445, 0.1442, 0.1401, 0.1305, 0.1525, 0.1365,\n",
       "         0.1426, 0.1639, 0.1445, 0.1466, 0.1462, 0.1311, 0.1448, 0.1392, 0.1489,\n",
       "         0.1392, 0.1567, 0.1508, 0.1459, 0.1265, 0.1241, 0.1682, 0.1452, 0.1741,\n",
       "         0.1735, 0.1312, 0.1558, 0.1427, 0.1469, 0.1238, 0.1221, 0.1244, 0.1320,\n",
       "         0.1227, 0.1308, 0.1253, 0.1277, 0.1352, 0.1484, 0.1180, 0.1367, 0.1553,\n",
       "         0.1225, 0.1130, 0.1174, 0.1322, 0.1232, 0.1592, 0.1255, 0.1324, 0.1321,\n",
       "         0.1203, 0.1269, 0.1309, 0.1367, 0.1417, 0.1450, 0.1283, 0.1418, 0.1327,\n",
       "         0.1217, 0.1313, 0.1253, 0.1219, 0.1319, 0.1343, 0.1277, 0.1269, 0.1344,\n",
       "         0.1569, 0.1300, 0.1615, 0.1223, 0.1376, 0.1375, 0.1293, 0.1355, 0.1598,\n",
       "         0.1774, 0.1423, 0.1580, 0.1604, 0.1589, 0.1651, 0.1446, 0.1337, 0.1593,\n",
       "         0.1350, 0.1380, 0.1362, 0.1533, 0.1465, 0.1448, 0.1315, 0.1387, 0.1455,\n",
       "         0.1496, 0.1310, 0.1479, 0.1392, 0.1388, 0.1455, 0.1307, 0.1342, 0.1356,\n",
       "         0.1415, 0.1462, 0.1563, 0.1515, 0.1410, 0.1426, 0.1522, 0.1458, 0.1598,\n",
       "         0.1555, 0.1426, 0.1263, 0.1551, 0.1364, 0.1466, 0.1659, 0.1366, 0.1725,\n",
       "         0.1314, 0.1415, 0.1531, 0.1583, 0.1224, 0.1434, 0.1462, 0.1436, 0.1674,\n",
       "         0.1137, 0.1595, 0.1245, 0.1584, 0.1581, 0.1245, 0.1397, 0.1315, 0.1389,\n",
       "         0.1324, 0.1459, 0.1882, 0.1386, 0.1388, 0.1504, 0.1706, 0.1599, 0.1466,\n",
       "         0.1436, 0.1323, 0.1297, 0.1421, 0.1524, 0.1611, 0.1542, 0.1384, 0.1513,\n",
       "         0.1564, 0.1563, 0.1612, 0.1599, 0.1510, 0.1184, 0.1702, 0.1598, 0.1571,\n",
       "         0.1544, 0.1697, 0.1528, 0.1362, 0.1545, 0.1499, 0.1283, 0.1279, 0.1397,\n",
       "         0.1459, 0.1451, 0.1413, 0.1504, 0.1476, 0.1307, 0.1248, 0.1627]),\n",
       " torch.Size([980]))"
      ]
     },
     "execution_count": 37,
     "metadata": {},
     "output_type": "execute_result"
    }
   ],
   "source": [
    "valid_0_dist = mnist_distance(valid_0_tens, mean0)\n",
    "valid_0_dist, valid_0_dist.shape"
   ]
  },
  {
   "cell_type": "code",
   "execution_count": 38,
   "metadata": {},
   "outputs": [
    {
     "data": {
      "text/plain": [
       "tensor([2, 3, 4])"
      ]
     },
     "execution_count": 38,
     "metadata": {},
     "output_type": "execute_result"
    }
   ],
   "source": [
    "torch.tensor([1,2,3]) + torch.tensor([1,1,1])"
   ]
  },
  {
   "cell_type": "code",
   "execution_count": 39,
   "metadata": {},
   "outputs": [
    {
     "data": {
      "text/plain": [
       "torch.Size([1010, 28, 28])"
      ]
     },
     "execution_count": 39,
     "metadata": {},
     "output_type": "execute_result"
    }
   ],
   "source": [
    "(valid_3_tens-mean3).shape"
   ]
  },
  {
   "cell_type": "markdown",
   "metadata": {},
   "source": [
    "We can use mnist_distance to figure out whether an image is a 3 by using the fol‐\n",
    "lowing logic: if the distance between the digit in question and the ideal 3 is less than\n",
    "the distance to the ideal 7, then it’s a 3. This function will automatically do broadcast‐\n",
    "ing and be applied elementwise, just like all PyTorch functions and operators:"
   ]
  },
  {
   "cell_type": "code",
   "execution_count": 40,
   "metadata": {},
   "outputs": [],
   "source": [
    "def is_3(x): return mnist_distance(x,mean3) < mnist_distance(x,mean7)"
   ]
  },
  {
   "cell_type": "code",
   "execution_count": 41,
   "metadata": {},
   "outputs": [],
   "source": [
    "def is_0(x): \n",
    "    return mnist_distance(x, mean0) < mnist_distance(x, mean1)\n",
    "\n",
    "def is_1(x): \n",
    "    return mnist_distance(x, mean1) < mnist_distance(x, mean2)\n",
    "\n",
    "def is_2(x): \n",
    "    return mnist_distance(x, mean2) < mnist_distance(x, mean3)\n",
    "def is_3(x): \n",
    "    return mnist_distance(x, mean3) < mnist_distance(x, mean4)\n",
    "\n",
    "def is_4(x): \n",
    "    return mnist_distance(x, mean4) < mnist_distance(x, mean5)\n",
    "\n",
    "def is_5(x): \n",
    "    return mnist_distance(x, mean5) < mnist_distance(x, mean6)\n",
    "\n",
    "def is_6(x): \n",
    "    return mnist_distance(x, mean6) < mnist_distance(x, mean7)\n",
    "\n",
    "def is_7(x): \n",
    "    return mnist_distance(x, mean7) < mnist_distance(x, mean8)\n",
    "\n",
    "def is_8(x): \n",
    "    return mnist_distance(x, mean8) < mnist_distance(x, mean9)\n",
    "\n",
    "def is_9(x): \n",
    "    return mnist_distance(x, mean9) < mnist_distance(x, mean0)"
   ]
  },
  {
   "cell_type": "markdown",
   "metadata": {},
   "source": [
    "Let’s test it on our example case:"
   ]
  },
  {
   "cell_type": "code",
   "execution_count": 42,
   "metadata": {},
   "outputs": [
    {
     "data": {
      "text/plain": [
       "(tensor(True), tensor(1.))"
      ]
     },
     "execution_count": 42,
     "metadata": {},
     "output_type": "execute_result"
    }
   ],
   "source": [
    "is_3(a_3), is_3(a_3).float()"
   ]
  },
  {
   "cell_type": "markdown",
   "metadata": {},
   "source": [
    "Note that when we convert the Boolean response to a float, we get 1.0 for True and\n",
    "0.0 for False.\n",
    "Thanks to broadcasting, we can also test it on the full validation set of 3s:"
   ]
  },
  {
   "cell_type": "code",
   "execution_count": 43,
   "metadata": {},
   "outputs": [
    {
     "data": {
      "text/plain": [
       "tensor([ True,  True,  True,  ..., False,  True,  True])"
      ]
     },
     "execution_count": 43,
     "metadata": {},
     "output_type": "execute_result"
    }
   ],
   "source": [
    "is_3(valid_3_tens)"
   ]
  },
  {
   "cell_type": "markdown",
   "metadata": {},
   "source": [
    "Now we can calculate the accuracy for each of the 3s and 7s, by taking the average of\n",
    "that function for all 3s and its inverse for all 7s:"
   ]
  },
  {
   "cell_type": "code",
   "execution_count": 44,
   "metadata": {},
   "outputs": [
    {
     "data": {
      "text/plain": [
       "(tensor(0.9604), tensor(0.9708), tensor(0.9656))"
      ]
     },
     "execution_count": 44,
     "metadata": {},
     "output_type": "execute_result"
    }
   ],
   "source": [
    "accuracy_1s = is_1(valid_1_tens).float() .mean()\n",
    "accuracy_2s = is_2(valid_2_tens).float() .mean()\n",
    "accuracy_3s = is_3(valid_3_tens).float() .mean()\n",
    "accuracy_4s = is_4(valid_4_tens).float() .mean()\n",
    "accuracy_5s = is_5(valid_5_tens).float() .mean()\n",
    "accuracy_6s = is_6(valid_6_tens).float() .mean()\n",
    "accuracy_7s = is_7(valid_7_tens).float() .mean()\n",
    "accuracy_8s = is_8(valid_8_tens).float() .mean()\n",
    "accuracy_9s = is_9(valid_9_tens).float() .mean()\n",
    "accuracy_0s = is_0(valid_0_tens).float() .mean()\n",
    "accuracy_3s,accuracy_7s,(accuracy_3s+accuracy_7s)/2"
   ]
  },
  {
   "cell_type": "markdown",
   "metadata": {},
   "source": [
    "## Stochastic Gradient Descent"
   ]
  },
  {
   "cell_type": "code",
   "execution_count": 45,
   "metadata": {},
   "outputs": [],
   "source": [
    "def f(x): return x**2"
   ]
  },
  {
   "cell_type": "code",
   "execution_count": 46,
   "metadata": {},
   "outputs": [],
   "source": [
    "import matplotlib.pyplot as plt\n",
    "\n",
    "def plot_function(f, tx=None, ty=None, title=None, min=-2, max=2, steps=100, figsize=(6,4)):\n",
    "    x = torch.linspace(min, max, steps=steps)\n",
    "    fig, ax = plt.subplots(figsize=figsize)\n",
    "    ax.plot(x, f(x))\n",
    "    if tx is not None:\n",
    "        ax.set_xlabel(tx)\n",
    "    if ty is not None:\n",
    "        ax.set_ylabel(ty)\n",
    "    if title is not None:\n",
    "        ax.set_title(title)"
   ]
  },
  {
   "cell_type": "code",
   "execution_count": 47,
   "metadata": {},
   "outputs": [
    {
     "ename": "ModuleNotFoundError",
     "evalue": "No module named 'utils'",
     "output_type": "error",
     "traceback": [
      "\u001b[1;31m---------------------------------------------------------------------------\u001b[0m",
      "\u001b[1;31mModuleNotFoundError\u001b[0m                       Traceback (most recent call last)",
      "Cell \u001b[1;32mIn[47], line 1\u001b[0m\n\u001b[1;32m----> 1\u001b[0m \u001b[38;5;28;01mfrom\u001b[39;00m \u001b[38;5;21;01mutils\u001b[39;00m \u001b[38;5;28;01mimport\u001b[39;00m \u001b[38;5;241m*\u001b[39m\n\u001b[0;32m      3\u001b[0m plot_function(f, \u001b[38;5;124m'\u001b[39m\u001b[38;5;124mx\u001b[39m\u001b[38;5;124m'\u001b[39m, \u001b[38;5;124m'\u001b[39m\u001b[38;5;124mx**2\u001b[39m\u001b[38;5;124m'\u001b[39m)\n",
      "\u001b[1;31mModuleNotFoundError\u001b[0m: No module named 'utils'"
     ]
    }
   ],
   "source": [
    "from utils import *\n",
    "\n",
    "plot_function(f, 'x', 'x**2')"
   ]
  },
  {
   "cell_type": "markdown",
   "metadata": {},
   "source": [
    "The sequence of steps we described earlier starts by picking a random value for a\n",
    "parameter, and calculating the value of the loss:"
   ]
  },
  {
   "cell_type": "code",
   "execution_count": null,
   "metadata": {},
   "outputs": [
    {
     "data": {
      "image/png": "[encoded data removed]",
      "text/plain": [
       "<Figure size 600x400 with 1 Axes>"
      ]
     },
     "metadata": {},
     "output_type": "display_data"
    }
   ],
   "source": [
    "plot_function(f, 'x', 'x**2')\n",
    "plt.scatter(-1.5, f(-1.5), color='red');"
   ]
  },
  {
   "cell_type": "markdown",
   "metadata": {},
   "source": [
    "## Calculating Gradients"
   ]
  },
  {
   "cell_type": "code",
   "execution_count": null,
   "metadata": {},
   "outputs": [],
   "source": [
    "xt = torch.tensor(3.).requires_grad_()"
   ]
  },
  {
   "cell_type": "markdown",
   "metadata": {},
   "source": [
    "Now we calculate our function with that value. Notice how PyTorch prints not just\n",
    "the value calculated, but also a note that it has a gradient function it’ll be using to cal‐\n",
    "culate our gradients when needed:"
   ]
  },
  {
   "cell_type": "code",
   "execution_count": null,
   "metadata": {},
   "outputs": [
    {
     "data": {
      "text/plain": [
       "tensor(9., grad_fn=<PowBackward0>)"
      ]
     },
     "execution_count": 50,
     "metadata": {},
     "output_type": "execute_result"
    }
   ],
   "source": [
    "yt = f(xt)\n",
    "yt"
   ]
  },
  {
   "cell_type": "code",
   "execution_count": null,
   "metadata": {},
   "outputs": [],
   "source": [
    "yt.backward()"
   ]
  },
  {
   "cell_type": "code",
   "execution_count": null,
   "metadata": {},
   "outputs": [
    {
     "data": {
      "text/plain": [
       "tensor(6.)"
      ]
     },
     "execution_count": 52,
     "metadata": {},
     "output_type": "execute_result"
    }
   ],
   "source": [
    "xt.grad"
   ]
  },
  {
   "cell_type": "code",
   "execution_count": null,
   "metadata": {},
   "outputs": [
    {
     "data": {
      "text/plain": [
       "tensor([ 3.,  4., 10.], requires_grad=True)"
      ]
     },
     "execution_count": 53,
     "metadata": {},
     "output_type": "execute_result"
    }
   ],
   "source": [
    "xt = torch.tensor([3.,4.,10.]).requires_grad_()\n",
    "xt"
   ]
  },
  {
   "cell_type": "code",
   "execution_count": null,
   "metadata": {},
   "outputs": [
    {
     "data": {
      "text/plain": [
       "tensor(125., grad_fn=<SumBackward0>)"
      ]
     },
     "execution_count": 54,
     "metadata": {},
     "output_type": "execute_result"
    }
   ],
   "source": [
    "def f(x): return (x**2).sum()\n",
    "yt = f(xt)\n",
    "yt"
   ]
  },
  {
   "cell_type": "code",
   "execution_count": null,
   "metadata": {},
   "outputs": [
    {
     "data": {
      "text/plain": [
       "tensor([ 6.,  8., 20.])"
      ]
     },
     "execution_count": 55,
     "metadata": {},
     "output_type": "execute_result"
    }
   ],
   "source": [
    "yt.backward()\n",
    "xt.grad"
   ]
  },
  {
   "cell_type": "markdown",
   "metadata": {},
   "source": [
    "## An End-to-End SGD Example"
   ]
  },
  {
   "cell_type": "code",
   "execution_count": null,
   "metadata": {},
   "outputs": [
    {
     "data": {
      "text/plain": [
       "tensor([ 0.,  1.,  2.,  3.,  4.,  5.,  6.,  7.,  8.,  9., 10., 11., 12., 13.,\n",
       "        14., 15., 16., 17., 18., 19.])"
      ]
     },
     "execution_count": 56,
     "metadata": {},
     "output_type": "execute_result"
    }
   ],
   "source": [
    "time = torch.arange(0,20).float(); time"
   ]
  },
  {
   "cell_type": "code",
   "execution_count": null,
   "metadata": {},
   "outputs": [
    {
     "data": {
      "image/png": "[encoded data removed]",
      "text/plain": [
       "<Figure size 640x480 with 1 Axes>"
      ]
     },
     "metadata": {},
     "output_type": "display_data"
    }
   ],
   "source": [
    "speed = torch.randn(20)*3 + 0.75*(time-9.5)**2 + 1\n",
    "plt.scatter(time,speed);"
   ]
  },
  {
   "cell_type": "code",
   "execution_count": null,
   "metadata": {},
   "outputs": [],
   "source": [
    "def f(t, params):\n",
    " a,b,c = params\n",
    " return a*(t**2) + (b*t) + c"
   ]
  },
  {
   "cell_type": "code",
   "execution_count": null,
   "metadata": {},
   "outputs": [],
   "source": [
    "def mse(preds, targets): return ((preds-targets)**2).mean()"
   ]
  },
  {
   "cell_type": "markdown",
   "metadata": {},
   "source": [
    "**Step 1: Initialize the parameters**<br>\n",
    "First, we initialize the parameters to random values and tell PyTorch that we want to\n",
    "track their gradients using requires_grad_:"
   ]
  },
  {
   "cell_type": "code",
   "execution_count": null,
   "metadata": {},
   "outputs": [],
   "source": [
    "params = torch.randn(3).requires_grad_()"
   ]
  },
  {
   "cell_type": "markdown",
   "metadata": {},
   "source": [
    "**Step 2: Calculate the predictions**<br>\n",
    "Next, we calculate the predictions:"
   ]
  },
  {
   "cell_type": "code",
   "execution_count": null,
   "metadata": {},
   "outputs": [],
   "source": [
    "preds = f(time, params)"
   ]
  },
  {
   "cell_type": "markdown",
   "metadata": {},
   "source": [
    "Let’s create a little function to see how close our predictions are to our targets, and\n",
    "take a look:"
   ]
  },
  {
   "cell_type": "code",
   "execution_count": null,
   "metadata": {},
   "outputs": [
    {
     "data": {
      "image/png": "[encoded data removed]",
      "text/plain": [
       "<Figure size 640x480 with 1 Axes>"
      ]
     },
     "metadata": {},
     "output_type": "display_data"
    }
   ],
   "source": [
    "def show_preds(preds, ax=None):\n",
    " if ax is None: ax=plt.subplots()[1]\n",
    " ax.scatter(time, speed)\n",
    " ax.scatter(time, preds.detach().numpy(), color='red')\n",
    " ax.set_ylim(-300,100)\n",
    "show_preds(preds)"
   ]
  },
  {
   "cell_type": "markdown",
   "metadata": {},
   "source": [
    "**Step 3: Calculate the loss**<br>\n",
    "We calculate the loss as follows:"
   ]
  },
  {
   "cell_type": "code",
   "execution_count": null,
   "metadata": {},
   "outputs": [
    {
     "data": {
      "text/plain": [
       "tensor(2653.5601, grad_fn=<MeanBackward0>)"
      ]
     },
     "execution_count": 63,
     "metadata": {},
     "output_type": "execute_result"
    }
   ],
   "source": [
    "loss = mse(preds, speed)\n",
    "loss"
   ]
  },
  {
   "cell_type": "markdown",
   "metadata": {},
   "source": [
    "**Step 4: Calculate the gradients**<br>\n",
    "The next step is to calculate the gradients, or an approximation of how the parame‐\n",
    "ters need to change:\n"
   ]
  },
  {
   "cell_type": "code",
   "execution_count": null,
   "metadata": {},
   "outputs": [
    {
     "data": {
      "text/plain": [
       "tensor([14815.5527,   954.9662,    46.6225])"
      ]
     },
     "execution_count": 64,
     "metadata": {},
     "output_type": "execute_result"
    }
   ],
   "source": [
    "loss.backward()\n",
    "params.grad"
   ]
  },
  {
   "cell_type": "code",
   "execution_count": null,
   "metadata": {},
   "outputs": [
    {
     "data": {
      "text/plain": [
       "tensor([0.1482, 0.0095, 0.0005])"
      ]
     },
     "execution_count": 65,
     "metadata": {},
     "output_type": "execute_result"
    }
   ],
   "source": [
    "params.grad * 1e-5"
   ]
  },
  {
   "cell_type": "markdown",
   "metadata": {},
   "source": [
    "We can use these gradients to improve our parameters. We’ll need to pick a learning\n",
    "rate (we’ll discuss how to do that in practice in the next chapter; for now, we’ll just use\n",
    "1e-5 or 0.00001):"
   ]
  },
  {
   "cell_type": "code",
   "execution_count": null,
   "metadata": {},
   "outputs": [
    {
     "data": {
      "text/plain": [
       "tensor([ 0.4233, -0.3679,  0.8913], requires_grad=True)"
      ]
     },
     "execution_count": 66,
     "metadata": {},
     "output_type": "execute_result"
    }
   ],
   "source": [
    "params"
   ]
  },
  {
   "cell_type": "markdown",
   "metadata": {},
   "source": [
    "**Step 5: Step the weights**<br>\n",
    "Now we need to update the parameters based on the gradients we just calculated:"
   ]
  },
  {
   "cell_type": "code",
   "execution_count": null,
   "metadata": {},
   "outputs": [],
   "source": [
    "lr = 1e-5\n",
    "params.data -= lr * params.grad.data\n",
    "params.grad = None"
   ]
  },
  {
   "cell_type": "markdown",
   "metadata": {},
   "source": [
    "Let’s see if the loss has improved:"
   ]
  },
  {
   "cell_type": "code",
   "execution_count": null,
   "metadata": {},
   "outputs": [
    {
     "data": {
      "text/plain": [
       "tensor(1072.0758, grad_fn=<MeanBackward0>)"
      ]
     },
     "execution_count": 68,
     "metadata": {},
     "output_type": "execute_result"
    }
   ],
   "source": [
    "preds = f(time,params)\n",
    "mse(preds, speed)"
   ]
  },
  {
   "cell_type": "markdown",
   "metadata": {},
   "source": [
    "And take a look at the plot:\n"
   ]
  },
  {
   "cell_type": "code",
   "execution_count": null,
   "metadata": {},
   "outputs": [
    {
     "data": {
      "image/png": "[encoded data removed]",
      "text/plain": [
       "<Figure size 640x480 with 1 Axes>"
      ]
     },
     "metadata": {},
     "output_type": "display_data"
    }
   ],
   "source": [
    "show_preds(preds)"
   ]
  },
  {
   "cell_type": "markdown",
   "metadata": {},
   "source": [
    "We need to repeat this a few times, so we’ll create a function to apply one step:"
   ]
  },
  {
   "cell_type": "code",
   "execution_count": null,
   "metadata": {},
   "outputs": [],
   "source": [
    "def apply_step(params, prn=True):\n",
    " preds = f(time, params)\n",
    " loss = mse(preds, speed)\n",
    " loss.backward()\n",
    " params.data -= lr * params.grad.data\n",
    " params.grad = None\n",
    " if prn: print(loss.item())\n",
    " return preds"
   ]
  },
  {
   "cell_type": "markdown",
   "metadata": {},
   "source": [
    "**Step 6: Repeat the process**<br>\n",
    "Now we iterate. By looping and performing many improvements, we hope to reach a\n",
    "good result:"
   ]
  },
  {
   "cell_type": "code",
   "execution_count": null,
   "metadata": {},
   "outputs": [
    {
     "name": "stdout",
     "output_type": "stream",
     "text": [
      "1072.0758056640625\n",
      "772.807861328125\n",
      "716.17431640625\n",
      "705.45458984375\n",
      "703.4232177734375\n",
      "703.0358276367188\n",
      "702.9596557617188\n",
      "702.9423217773438\n",
      "702.9361572265625\n",
      "702.9320068359375\n"
     ]
    }
   ],
   "source": [
    "for i in range(10): apply_step(params)"
   ]
  },
  {
   "cell_type": "code",
   "execution_count": null,
   "metadata": {},
   "outputs": [
    {
     "data": {
      "image/png": "[encoded data removed]",
      "text/plain": [
       "<Figure size 1200x300 with 4 Axes>"
      ]
     },
     "metadata": {},
     "output_type": "display_data"
    }
   ],
   "source": [
    "_,axs = plt.subplots(1,4,figsize=(12,3))\n",
    "for ax in axs: show_preds(apply_step(params, False), ax)\n",
    "plt.tight_layout()"
   ]
  },
  {
   "cell_type": "markdown",
   "metadata": {},
   "source": [
    "**Step 7: Stop**<br>\n",
    "We just decided to stop after 10 epochs arbitrarily. In practice, we would watch the\n",
    "training and validation losses and our metrics to decide when to stop, as we’ve\n",
    "discussed."
   ]
  },
  {
   "cell_type": "markdown",
   "metadata": {},
   "source": [
    "## The MNIST Loss Function"
   ]
  },
  {
   "cell_type": "code",
   "execution_count": null,
   "metadata": {},
   "outputs": [],
   "source": [
    "train_x = torch.cat([stacked_threes, stacked_sevens]).view(-1, 28*28)"
   ]
  },
  {
   "cell_type": "markdown",
   "metadata": {},
   "source": [
    "We need a label for each image. We’ll use 1 for 3s and 0 for 7s:"
   ]
  },
  {
   "cell_type": "code",
   "execution_count": null,
   "metadata": {},
   "outputs": [
    {
     "data": {
      "text/plain": [
       "(torch.Size([12396, 784]), torch.Size([12396, 1]))"
      ]
     },
     "execution_count": 74,
     "metadata": {},
     "output_type": "execute_result"
    }
   ],
   "source": [
    "train_y = torch.tensor([1]*len(threes) + [0]*len(sevens)).unsqueeze(1)\n",
    "train_x.shape,train_y.shape"
   ]
  },
  {
   "cell_type": "markdown",
   "metadata": {},
   "source": [
    "A Dataset in PyTorch is required to return a tuple of (x,y) when indexed. Python\n",
    "provides a zip function that, when combined with list, provides a simple way to get\n",
    "this functionality:"
   ]
  },
  {
   "cell_type": "code",
   "execution_count": null,
   "metadata": {},
   "outputs": [
    {
     "data": {
      "text/plain": [
       "(torch.Size([784]), tensor([1]))"
      ]
     },
     "execution_count": 75,
     "metadata": {},
     "output_type": "execute_result"
    }
   ],
   "source": [
    "dset = list(zip(train_x,train_y))\n",
    "x,y = dset[0]\n",
    "x.shape,y"
   ]
  },
  {
   "cell_type": "code",
   "execution_count": null,
   "metadata": {},
   "outputs": [],
   "source": [
    "valid_x = torch.cat([valid_3_tens, valid_7_tens]).view(-1, 28*28)\n",
    "valid_y = torch.tensor([1]*len(valid_3_tens) + [0]*len(valid_7_tens)).unsqueeze(1)\n",
    "valid_dset = list(zip(valid_x,valid_y))\n"
   ]
  },
  {
   "cell_type": "markdown",
   "metadata": {},
   "source": [
    "Now we need an (initially random) weight for every pixel (this is the initialize step in\n",
    "our seven-step process):"
   ]
  },
  {
   "cell_type": "code",
   "execution_count": null,
   "metadata": {},
   "outputs": [],
   "source": [
    "def init_params(size, std=1.0): return (torch.randn(size)*std).requires_grad_()\n",
    "weights = init_params((28*28,1))"
   ]
  },
  {
   "cell_type": "markdown",
   "metadata": {},
   "source": [
    "The function weights*pixels won’t be flexible enough—it is always equal to 0 when\n",
    "the pixels are equal to 0 (i.e., its intercept is 0). You might remember from high school\n",
    "math that the formula for a line is y=w*x+b; we still need the b. We’ll initialize it to a\n",
    "random number too:"
   ]
  },
  {
   "cell_type": "code",
   "execution_count": null,
   "metadata": {},
   "outputs": [],
   "source": [
    "bias = init_params(1)"
   ]
  },
  {
   "cell_type": "markdown",
   "metadata": {},
   "source": [
    "We can now calculate a prediction for one image:"
   ]
  },
  {
   "cell_type": "code",
   "execution_count": null,
   "metadata": {},
   "outputs": [
    {
     "data": {
      "text/plain": [
       "tensor([-11.5825], grad_fn=<AddBackward0>)"
      ]
     },
     "execution_count": 79,
     "metadata": {},
     "output_type": "execute_result"
    }
   ],
   "source": [
    "(train_x[0]*weights.T).sum() + bias"
   ]
  },
  {
   "cell_type": "markdown",
   "metadata": {},
   "source": [
    "In Python, matrix multiplication is represented with the @ operator. Let’s try it:"
   ]
  },
  {
   "cell_type": "code",
   "execution_count": null,
   "metadata": {},
   "outputs": [
    {
     "data": {
      "text/plain": [
       "tensor([[-11.5825],\n",
       "        [ -7.6336],\n",
       "        [ -6.2774],\n",
       "        ...,\n",
       "        [  0.2534],\n",
       "        [ -0.8120],\n",
       "        [ -9.5626]], grad_fn=<AddBackward0>)"
      ]
     },
     "execution_count": 80,
     "metadata": {},
     "output_type": "execute_result"
    }
   ],
   "source": [
    "def linear1(xb): return xb@weights + bias\n",
    "preds = linear1(train_x)\n",
    "preds"
   ]
  },
  {
   "cell_type": "code",
   "execution_count": null,
   "metadata": {},
   "outputs": [
    {
     "data": {
      "text/plain": [
       "tensor([[False],\n",
       "        [False],\n",
       "        [False],\n",
       "        ...,\n",
       "        [False],\n",
       "        [ True],\n",
       "        [ True]])"
      ]
     },
     "execution_count": 81,
     "metadata": {},
     "output_type": "execute_result"
    }
   ],
   "source": [
    "corrects = (preds>0.0).float() == train_y\n",
    "corrects"
   ]
  },
  {
   "cell_type": "code",
   "execution_count": null,
   "metadata": {},
   "outputs": [
    {
     "data": {
      "text/plain": [
       "0.5769603252410889"
      ]
     },
     "execution_count": 82,
     "metadata": {},
     "output_type": "execute_result"
    }
   ],
   "source": [
    "corrects.float().mean().item()"
   ]
  },
  {
   "cell_type": "markdown",
   "metadata": {},
   "source": [
    "Now let’s see what the change in accuracy is for a small change in one of the weights:"
   ]
  },
  {
   "cell_type": "code",
   "execution_count": null,
   "metadata": {},
   "outputs": [
    {
     "ename": "RuntimeError",
     "evalue": "a view of a leaf Variable that requires grad is being used in an in-place operation.",
     "output_type": "error",
     "traceback": [
      "\u001b[1;31m---------------------------------------------------------------------------\u001b[0m",
      "\u001b[1;31mRuntimeError\u001b[0m                              Traceback (most recent call last)",
      "Cell \u001b[1;32mIn[83], line 1\u001b[0m\n\u001b[1;32m----> 1\u001b[0m weights[\u001b[38;5;241m0\u001b[39m] \u001b[38;5;241m*\u001b[39m\u001b[38;5;241m=\u001b[39m \u001b[38;5;241m1.0001\u001b[39m\n\u001b[0;32m      2\u001b[0m preds \u001b[38;5;241m=\u001b[39m linear1(train_x)\n\u001b[0;32m      3\u001b[0m ((preds\u001b[38;5;241m>\u001b[39m\u001b[38;5;241m0.0\u001b[39m)\u001b[38;5;241m.\u001b[39mfloat() \u001b[38;5;241m==\u001b[39m train_y)\u001b[38;5;241m.\u001b[39mfloat()\u001b[38;5;241m.\u001b[39mmean()\u001b[38;5;241m.\u001b[39mitem()\n",
      "\u001b[1;31mRuntimeError\u001b[0m: a view of a leaf Variable that requires grad is being used in an in-place operation."
     ]
    }
   ],
   "source": [
    "weights[0] *= 1.0001\n",
    "preds = linear1(train_x)\n",
    "((preds>0.0).float() == train_y).float().mean().item()"
   ]
  },
  {
   "cell_type": "code",
   "execution_count": null,
   "metadata": {},
   "outputs": [],
   "source": [
    "trgts = torch.tensor([1,0,1])\n",
    "prds = torch.tensor([0.9, 0.4, 0.2])"
   ]
  },
  {
   "cell_type": "code",
   "execution_count": null,
   "metadata": {},
   "outputs": [],
   "source": [
    "def mnist_loss(predictions, targets):\n",
    " return torch.where(targets==1, 1-predictions, predictions).mean()"
   ]
  },
  {
   "cell_type": "code",
   "execution_count": null,
   "metadata": {},
   "outputs": [
    {
     "data": {
      "text/plain": [
       "tensor([0.1000, 0.4000, 0.8000])"
      ]
     },
     "execution_count": 86,
     "metadata": {},
     "output_type": "execute_result"
    }
   ],
   "source": [
    "torch.where(trgts==1, 1-prds, prds)"
   ]
  },
  {
   "cell_type": "code",
   "execution_count": null,
   "metadata": {},
   "outputs": [
    {
     "data": {
      "text/plain": [
       "tensor(0.4333)"
      ]
     },
     "execution_count": 87,
     "metadata": {},
     "output_type": "execute_result"
    }
   ],
   "source": [
    "mnist_loss(prds,trgts)"
   ]
  },
  {
   "cell_type": "code",
   "execution_count": null,
   "metadata": {},
   "outputs": [
    {
     "data": {
      "text/plain": [
       "tensor(0.2333)"
      ]
     },
     "execution_count": 88,
     "metadata": {},
     "output_type": "execute_result"
    }
   ],
   "source": [
    "mnist_loss(torch.tensor([0.9, 0.4, 0.8]),trgts)"
   ]
  },
  {
   "cell_type": "markdown",
   "metadata": {},
   "source": [
    "## Sigmoid"
   ]
  },
  {
   "cell_type": "code",
   "execution_count": null,
   "metadata": {},
   "outputs": [],
   "source": [
    "def sigmoid(x): return 1/(1+torch.exp(-x))"
   ]
  },
  {
   "cell_type": "code",
   "execution_count": null,
   "metadata": {},
   "outputs": [
    {
     "data": {
      "image/png": "[encoded data removed]",
      "text/plain": [
       "<Figure size 600x400 with 1 Axes>"
      ]
     },
     "metadata": {},
     "output_type": "display_data"
    }
   ],
   "source": [
    "plot_function(torch.sigmoid, title='Sigmoid', min=-4, max=4)"
   ]
  },
  {
   "cell_type": "code",
   "execution_count": null,
   "metadata": {},
   "outputs": [],
   "source": [
    "def mnist_loss(predictions, targets):\n",
    " predictions = predictions.sigmoid()\n",
    " return torch.where(targets==1, 1-predictions, predictions).mean()"
   ]
  },
  {
   "cell_type": "markdown",
   "metadata": {},
   "source": [
    "## SGD and Mini-Batches"
   ]
  },
  {
   "cell_type": "markdown",
   "metadata": {},
   "source": [
    "A DataLoader can take any Python collection and turn it into an iterator over many\n",
    "batches, like so:"
   ]
  },
  {
   "cell_type": "code",
   "execution_count": null,
   "metadata": {},
   "outputs": [
    {
     "data": {
      "text/plain": [
       "[tensor([ 2, 14,  3,  5, 12]),\n",
       " tensor([ 8,  0, 10, 11,  9]),\n",
       " tensor([ 1,  7,  6, 13,  4])]"
      ]
     },
     "execution_count": 92,
     "metadata": {},
     "output_type": "execute_result"
    }
   ],
   "source": [
    "from torch.utils.data import DataLoader\n",
    "\n",
    "coll = range(15)\n",
    "dl = DataLoader(coll, batch_size=5, shuffle=True)\n",
    "list(dl)"
   ]
  },
  {
   "cell_type": "code",
   "execution_count": null,
   "metadata": {},
   "outputs": [
    {
     "data": {
      "text/plain": [
       "(#26) [(0, 'a'),(1, 'b'),(2, 'c'),(3, 'd'),(4, 'e'),(5, 'f'),(6, 'g'),(7, 'h'),(8, 'i'),(9, 'j')...]"
      ]
     },
     "execution_count": 93,
     "metadata": {},
     "output_type": "execute_result"
    }
   ],
   "source": [
    "from fastai.data.core import L\n",
    "import string\n",
    "\n",
    "ds = L(enumerate(string.ascii_lowercase))\n",
    "ds"
   ]
  },
  {
   "cell_type": "markdown",
   "metadata": {},
   "source": [
    "When we pass a Dataset to a DataLoader we will get back many batches that are\n",
    "themselves tuples of tensors representing batches of independent and dependent\n",
    "variables:"
   ]
  },
  {
   "cell_type": "code",
   "execution_count": null,
   "metadata": {},
   "outputs": [
    {
     "data": {
      "text/plain": [
       "[[tensor([21,  4,  1, 10,  0, 20]), ('v', 'e', 'b', 'k', 'a', 'u')],\n",
       " [tensor([ 2,  5, 22, 17,  6, 19]), ('c', 'f', 'w', 'r', 'g', 't')],\n",
       " [tensor([11, 14, 15, 12, 24, 18]), ('l', 'o', 'p', 'm', 'y', 's')],\n",
       " [tensor([16,  9, 23,  3, 25,  8]), ('q', 'j', 'x', 'd', 'z', 'i')],\n",
       " [tensor([ 7, 13]), ('h', 'n')]]"
      ]
     },
     "execution_count": 94,
     "metadata": {},
     "output_type": "execute_result"
    }
   ],
   "source": [
    "dl = DataLoader(ds, batch_size=6, shuffle=True)\n",
    "list(dl)"
   ]
  },
  {
   "cell_type": "markdown",
   "metadata": {},
   "source": [
    "## Putting It All Together"
   ]
  },
  {
   "cell_type": "markdown",
   "metadata": {},
   "source": [
    "It’s time to implement the process we saw in Figure 4-1. In code, our process will be\n",
    "implemented something like this for each epoch:"
   ]
  },
  {
   "cell_type": "markdown",
   "metadata": {},
   "source": [
    "for x,y in dl:\n",
    " pred = model(x)\n",
    " loss = loss_func(pred, y)\n",
    " loss.backward()\n",
    " parameters -= parameters.grad * lr"
   ]
  },
  {
   "cell_type": "markdown",
   "metadata": {},
   "source": [
    "First, let’s reinitialize our parameters:"
   ]
  },
  {
   "cell_type": "code",
   "execution_count": null,
   "metadata": {},
   "outputs": [],
   "source": [
    "weights = init_params((28*28,1))\n",
    "bias = init_params(1)"
   ]
  },
  {
   "cell_type": "markdown",
   "metadata": {},
   "source": [
    "A DataLoader can be created from a Dataset:"
   ]
  },
  {
   "cell_type": "code",
   "execution_count": null,
   "metadata": {},
   "outputs": [
    {
     "data": {
      "text/plain": [
       "(torch.Size([256, 784]), torch.Size([256, 1]))"
      ]
     },
     "execution_count": 96,
     "metadata": {},
     "output_type": "execute_result"
    }
   ],
   "source": [
    "dl = DataLoader(dset, batch_size=256)\n",
    "xb,yb = next(iter(dl))\n",
    "xb.shape,yb.shape"
   ]
  },
  {
   "cell_type": "markdown",
   "metadata": {},
   "source": [
    "We’ll do the same for the validation set:"
   ]
  },
  {
   "cell_type": "code",
   "execution_count": null,
   "metadata": {},
   "outputs": [],
   "source": [
    "valid_dl = DataLoader(valid_dset, batch_size=256)"
   ]
  },
  {
   "cell_type": "markdown",
   "metadata": {},
   "source": [
    "Let’s create a mini-batch of size 4 for testing:"
   ]
  },
  {
   "cell_type": "code",
   "execution_count": null,
   "metadata": {},
   "outputs": [
    {
     "data": {
      "text/plain": [
       "torch.Size([4, 784])"
      ]
     },
     "execution_count": 98,
     "metadata": {},
     "output_type": "execute_result"
    }
   ],
   "source": [
    "batch = train_x[:4]\n",
    "batch.shape"
   ]
  },
  {
   "cell_type": "code",
   "execution_count": null,
   "metadata": {},
   "outputs": [
    {
     "data": {
      "text/plain": [
       "tensor([[ 7.5226],\n",
       "        [-0.8355],\n",
       "        [11.4844],\n",
       "        [ 1.2401]], grad_fn=<AddBackward0>)"
      ]
     },
     "execution_count": 99,
     "metadata": {},
     "output_type": "execute_result"
    }
   ],
   "source": [
    "preds = linear1(batch)\n",
    "preds"
   ]
  },
  {
   "cell_type": "code",
   "execution_count": null,
   "metadata": {},
   "outputs": [
    {
     "data": {
      "text/plain": [
       "tensor(0.2306, grad_fn=<MeanBackward0>)"
      ]
     },
     "execution_count": 100,
     "metadata": {},
     "output_type": "execute_result"
    }
   ],
   "source": [
    "loss = mnist_loss(preds, train_y[:4])\n",
    "loss"
   ]
  },
  {
   "cell_type": "markdown",
   "metadata": {},
   "source": [
    "Now we can calculate the gradients:"
   ]
  },
  {
   "cell_type": "code",
   "execution_count": null,
   "metadata": {},
   "outputs": [
    {
     "data": {
      "text/plain": [
       "(torch.Size([784, 1]), tensor(-0.0152), tensor([-0.0964]))"
      ]
     },
     "execution_count": 101,
     "metadata": {},
     "output_type": "execute_result"
    }
   ],
   "source": [
    "loss.backward()\n",
    "weights.grad.shape,weights.grad.mean(),bias.grad"
   ]
  },
  {
   "cell_type": "markdown",
   "metadata": {},
   "source": [
    "Let’s put that all in a function:"
   ]
  },
  {
   "cell_type": "code",
   "execution_count": null,
   "metadata": {},
   "outputs": [],
   "source": [
    "def calc_grad(xb, yb, model):\n",
    " preds = model(xb)\n",
    " loss = mnist_loss(preds, yb)\n",
    " loss.backward()"
   ]
  },
  {
   "cell_type": "markdown",
   "metadata": {},
   "source": [
    "And test it:"
   ]
  },
  {
   "cell_type": "code",
   "execution_count": null,
   "metadata": {},
   "outputs": [
    {
     "data": {
      "text/plain": [
       "(tensor(-0.0304), tensor([-0.1928]))"
      ]
     },
     "execution_count": 103,
     "metadata": {},
     "output_type": "execute_result"
    }
   ],
   "source": [
    "calc_grad(batch, train_y[:4], linear1)\n",
    "weights.grad.mean(),bias.grad"
   ]
  },
  {
   "cell_type": "markdown",
   "metadata": {},
   "source": [
    "But look what happens if we call it twice:"
   ]
  },
  {
   "cell_type": "code",
   "execution_count": null,
   "metadata": {},
   "outputs": [
    {
     "data": {
      "text/plain": [
       "(tensor(-0.0455), tensor([-0.2892]))"
      ]
     },
     "execution_count": 104,
     "metadata": {},
     "output_type": "execute_result"
    }
   ],
   "source": [
    "calc_grad(batch, train_y[:4], linear1)\n",
    "weights.grad.mean(),bias.grad"
   ]
  },
  {
   "cell_type": "markdown",
   "metadata": {},
   "source": [
    "The gradients have changed! The reason for this is that loss.backward adds the gra‐\n",
    "dients of loss to any gradients that are currently stored. So, we have to set the current\n",
    "gradients to 0 first:"
   ]
  },
  {
   "cell_type": "code",
   "execution_count": null,
   "metadata": {},
   "outputs": [],
   "source": [
    "weights.grad.zero_()\n",
    "bias.grad.zero_();"
   ]
  },
  {
   "cell_type": "markdown",
   "metadata": {},
   "source": [
    "Our only remaining step is to update the weights and biases based on the gradient\n",
    "and learning rate. When we do so, we have to tell PyTorch not to take the gradient of\n",
    "this step too—otherwise, things will get confusing when we try to compute the deriv‐\n",
    "ative at the next batch! If we assign to the data attribute of a tensor, PyTorch will not\n",
    "take the gradient of that step. Here’s our basic training loop for an epoch:"
   ]
  },
  {
   "cell_type": "code",
   "execution_count": null,
   "metadata": {},
   "outputs": [],
   "source": [
    "def train_epoch(model, lr, params):\n",
    " for xb,yb in dl:\n",
    "    calc_grad(xb, yb, model)\n",
    "    for p in params:\n",
    "        p.data -= p.grad*lr\n",
    "        p.grad.zero_()"
   ]
  },
  {
   "cell_type": "markdown",
   "metadata": {},
   "source": [
    "We also want to check how we’re doing, by looking at the accuracy of the validation\n",
    "set. To decide if an output represents a 3 or a 7, we can just check whether it’s greater\n",
    "than 0. So our accuracy for each item can be calculated (using broadcasting, so no\n",
    "loops!) as follows:"
   ]
  },
  {
   "cell_type": "code",
   "execution_count": null,
   "metadata": {},
   "outputs": [
    {
     "data": {
      "text/plain": [
       "tensor([[ True],\n",
       "        [False],\n",
       "        [ True],\n",
       "        [ True]])"
      ]
     },
     "execution_count": 107,
     "metadata": {},
     "output_type": "execute_result"
    }
   ],
   "source": [
    "(preds>0.0).float() == train_y[:4]"
   ]
  },
  {
   "cell_type": "markdown",
   "metadata": {},
   "source": [
    "That gives us this function to calculate our validation accuracy:"
   ]
  },
  {
   "cell_type": "code",
   "execution_count": null,
   "metadata": {},
   "outputs": [],
   "source": [
    "def batch_accuracy(xb, yb):\n",
    " preds = xb.sigmoid()\n",
    " correct = (preds>0.5) == yb\n",
    " return correct.float().mean()"
   ]
  },
  {
   "cell_type": "markdown",
   "metadata": {},
   "source": [
    "We can check it works:"
   ]
  },
  {
   "cell_type": "code",
   "execution_count": null,
   "metadata": {},
   "outputs": [
    {
     "data": {
      "text/plain": [
       "tensor(0.7500)"
      ]
     },
     "execution_count": 109,
     "metadata": {},
     "output_type": "execute_result"
    }
   ],
   "source": [
    "batch_accuracy(linear1(batch), train_y[:4])"
   ]
  },
  {
   "cell_type": "markdown",
   "metadata": {},
   "source": [
    "And then put the batches together:"
   ]
  },
  {
   "cell_type": "code",
   "execution_count": null,
   "metadata": {},
   "outputs": [
    {
     "data": {
      "text/plain": [
       "0.7467"
      ]
     },
     "execution_count": 110,
     "metadata": {},
     "output_type": "execute_result"
    }
   ],
   "source": [
    "def validate_epoch(model):\n",
    " accs = [batch_accuracy(model(xb), yb) for xb,yb in valid_dl]\n",
    " return round(torch.stack(accs).mean().item(), 4)\n",
    "validate_epoch(linear1)"
   ]
  },
  {
   "cell_type": "markdown",
   "metadata": {},
   "source": [
    "That’s our starting point. Let’s train for one epoch and see if the accuracy improves:"
   ]
  },
  {
   "cell_type": "code",
   "execution_count": null,
   "metadata": {},
   "outputs": [
    {
     "data": {
      "text/plain": [
       "0.7558"
      ]
     },
     "execution_count": 111,
     "metadata": {},
     "output_type": "execute_result"
    }
   ],
   "source": [
    "lr = 1.\n",
    "params = weights,bias\n",
    "train_epoch(linear1, lr, params)\n",
    "validate_epoch(linear1)"
   ]
  },
  {
   "cell_type": "markdown",
   "metadata": {},
   "source": [
    "Then do a few more:"
   ]
  },
  {
   "cell_type": "code",
   "execution_count": null,
   "metadata": {},
   "outputs": [
    {
     "name": "stdout",
     "output_type": "stream",
     "text": [
      "0.8813 0.9164 0.936 0.9477 0.9545 0.9599 0.9623 0.9658 0.9672 0.9692 0.9692 0.9711 0.9716 0.9721 0.9736 0.9736 0.9736 0.9745 0.9745 0.9745 "
     ]
    }
   ],
   "source": [
    "for i in range(20):\n",
    " train_epoch(linear1, lr, params)\n",
    " print(validate_epoch(linear1), end=' ')"
   ]
  },
  {
   "cell_type": "markdown",
   "metadata": {},
   "source": [
    "## Creating an Optimizer"
   ]
  },
  {
   "cell_type": "markdown",
   "metadata": {},
   "source": [
    "nn.Linear does the same thing as our init_params and linear together. It contains\n",
    "both the weights and biases in a single class. Here’s how we replicate our model from\n",
    "the previous section:"
   ]
  },
  {
   "cell_type": "code",
   "execution_count": null,
   "metadata": {},
   "outputs": [],
   "source": [
    "import torch.nn as nn\n",
    "\n",
    "linear_model = nn.Linear(28*28,1)"
   ]
  },
  {
   "cell_type": "markdown",
   "metadata": {},
   "source": [
    "Every PyTorch module knows what parameters it has that can be trained; they are\n",
    "available through the parameters method:"
   ]
  },
  {
   "cell_type": "code",
   "execution_count": null,
   "metadata": {},
   "outputs": [
    {
     "data": {
      "text/plain": [
       "(torch.Size([1, 784]), torch.Size([1]))"
      ]
     },
     "execution_count": 114,
     "metadata": {},
     "output_type": "execute_result"
    }
   ],
   "source": [
    "w,b = linear_model.parameters()\n",
    "w.shape,b.shape"
   ]
  },
  {
   "cell_type": "markdown",
   "metadata": {},
   "source": [
    "We can use this information to create an optimizer:"
   ]
  },
  {
   "cell_type": "code",
   "execution_count": null,
   "metadata": {},
   "outputs": [],
   "source": [
    "class BasicOptim:\n",
    " def __init__(self,params,lr): self.params,self.lr = list(params),lr\n",
    " def step(self, *args, **kwargs):\n",
    "    for p in self.params: p.data -= p.grad.data * self.lr\n",
    " def zero_grad(self, *args, **kwargs):\n",
    "    for p in self.params: p.grad = None"
   ]
  },
  {
   "cell_type": "markdown",
   "metadata": {},
   "source": [
    "We can create our optimizer by passing in the model’s parameters:"
   ]
  },
  {
   "cell_type": "code",
   "execution_count": null,
   "metadata": {},
   "outputs": [],
   "source": [
    "opt = BasicOptim(linear_model.parameters(), lr)"
   ]
  },
  {
   "cell_type": "markdown",
   "metadata": {},
   "source": [
    "Our training loop can now be simplified:"
   ]
  },
  {
   "cell_type": "code",
   "execution_count": null,
   "metadata": {},
   "outputs": [],
   "source": [
    "def train_epoch(model):\n",
    " for xb,yb in dl:\n",
    "    calc_grad(xb, yb, model)\n",
    "    opt.step()\n",
    "    opt.zero_grad()"
   ]
  },
  {
   "cell_type": "markdown",
   "metadata": {},
   "source": [
    "Our validation function doesn’t need to change at all:"
   ]
  },
  {
   "cell_type": "code",
   "execution_count": null,
   "metadata": {},
   "outputs": [
    {
     "data": {
      "text/plain": [
       "0.3716"
      ]
     },
     "execution_count": 118,
     "metadata": {},
     "output_type": "execute_result"
    }
   ],
   "source": [
    "validate_epoch(linear_model)"
   ]
  },
  {
   "cell_type": "markdown",
   "metadata": {},
   "source": [
    "Let’s put our little training loop in a function, to make things simpler:"
   ]
  },
  {
   "cell_type": "code",
   "execution_count": null,
   "metadata": {},
   "outputs": [],
   "source": [
    "def train_model(model, epochs):\n",
    " for i in range(epochs):\n",
    "    train_epoch(model)\n",
    "    print(validate_epoch(model), end=' ')"
   ]
  },
  {
   "cell_type": "markdown",
   "metadata": {},
   "source": [
    "The results are the same as in the previous section:"
   ]
  },
  {
   "cell_type": "code",
   "execution_count": null,
   "metadata": {},
   "outputs": [
    {
     "name": "stdout",
     "output_type": "stream",
     "text": [
      "0.4932 0.4932 0.665 0.8682 0.9199 0.9365 0.9507 0.959 0.9629 0.9658 0.9678 0.9697 0.9721 0.9731 0.9751 0.9761 0.977 0.9775 0.978 0.9785 "
     ]
    }
   ],
   "source": [
    "train_model(linear_model, 20)"
   ]
  },
  {
   "cell_type": "markdown",
   "metadata": {},
   "source": [
    "fastai provides the SGD class that, by default, does the same thing as our BasicOptim:"
   ]
  },
  {
   "cell_type": "code",
   "execution_count": null,
   "metadata": {},
   "outputs": [
    {
     "name": "stdout",
     "output_type": "stream",
     "text": [
      "0.4932 0.8828 0.8179 0.9072 0.9321 0.9458 0.9555 0.9619 0.9653 0.9678 0.9692 0.9712 0.9726 0.9741 0.9756 0.9765 0.9775 0.978 0.9785 0.9785 "
     ]
    }
   ],
   "source": [
    "import torch.optim as optim\n",
    "\n",
    "linear_model = nn.Linear(28*28,1)\n",
    "opt = optim.SGD(linear_model.parameters(), lr)\n",
    "train_model(linear_model, 20)"
   ]
  },
  {
   "cell_type": "markdown",
   "metadata": {},
   "source": [
    "fastai also provides Learner.fit, which we can use instead of train_model. To create\n",
    "a Learner, we first need to create a DataLoaders, by passing in our training and vali‐\n",
    "dation DataLoaders:"
   ]
  },
  {
   "cell_type": "code",
   "execution_count": null,
   "metadata": {},
   "outputs": [],
   "source": [
    "from fastai.data.core import DataLoaders\n",
    "\n",
    "dls = DataLoaders(dl, valid_dl)"
   ]
  },
  {
   "cell_type": "markdown",
   "metadata": {},
   "source": [
    "To create a Learner without using an application (such as cnn_learner), we need to\n",
    "pass in all the elements that we’ve created in this chapter: the DataLoaders, the\n",
    "model, the optimization function (which will be passed the parameters), the loss\n",
    "function, and optionally any metrics to print:"
   ]
  },
  {
   "cell_type": "code",
   "execution_count": null,
   "metadata": {},
   "outputs": [],
   "source": [
    "from fastai.learner import Learner\n",
    "\n",
    "learn = Learner(dls, nn.Linear(28*28,1), opt_func=optim.SGD,\n",
    " loss_func=mnist_loss, metrics=batch_accuracy)"
   ]
  },
  {
   "cell_type": "markdown",
   "metadata": {},
   "source": [
    "Now we can call fit:"
   ]
  },
  {
   "cell_type": "code",
   "execution_count": null,
   "metadata": {},
   "outputs": [
    {
     "ename": "AttributeError",
     "evalue": "'SGD' object has no attribute 'set_hypers'",
     "output_type": "error",
     "traceback": [
      "\u001b[1;31m---------------------------------------------------------------------------\u001b[0m",
      "\u001b[1;31mAttributeError\u001b[0m                            Traceback (most recent call last)",
      "Cell \u001b[1;32mIn[135], line 1\u001b[0m\n\u001b[1;32m----> 1\u001b[0m \u001b[43mlearn\u001b[49m\u001b[38;5;241;43m.\u001b[39;49m\u001b[43mfit\u001b[49m\u001b[43m(\u001b[49m\u001b[38;5;241;43m10\u001b[39;49m\u001b[43m,\u001b[49m\u001b[43m \u001b[49m\u001b[43mlr\u001b[49m\u001b[38;5;241;43m=\u001b[39;49m\u001b[43mlr\u001b[49m\u001b[43m)\u001b[49m\n",
      "File \u001b[1;32mc:\\Users\\TAGCH\\OneDrive\\Desktop\\Gen Ai\\Assignment3\\Basic_FastAI_Model\\env\\lib\\site-packages\\fastai\\learner.py:262\u001b[0m, in \u001b[0;36mLearner.fit\u001b[1;34m(self, n_epoch, lr, wd, cbs, reset_opt, start_epoch)\u001b[0m\n\u001b[0;32m    260\u001b[0m \u001b[38;5;28;01mif\u001b[39;00m wd \u001b[38;5;129;01mis\u001b[39;00m \u001b[38;5;28;01mNone\u001b[39;00m: wd \u001b[38;5;241m=\u001b[39m \u001b[38;5;28mself\u001b[39m\u001b[38;5;241m.\u001b[39mwd\n\u001b[0;32m    261\u001b[0m \u001b[38;5;28;01mif\u001b[39;00m wd \u001b[38;5;129;01mis\u001b[39;00m \u001b[38;5;129;01mnot\u001b[39;00m \u001b[38;5;28;01mNone\u001b[39;00m: \u001b[38;5;28mself\u001b[39m\u001b[38;5;241m.\u001b[39mopt\u001b[38;5;241m.\u001b[39mset_hypers(wd\u001b[38;5;241m=\u001b[39mwd)\n\u001b[1;32m--> 262\u001b[0m \u001b[38;5;28;43mself\u001b[39;49m\u001b[38;5;241;43m.\u001b[39;49m\u001b[43mopt\u001b[49m\u001b[38;5;241;43m.\u001b[39;49m\u001b[43mset_hypers\u001b[49m(lr\u001b[38;5;241m=\u001b[39m\u001b[38;5;28mself\u001b[39m\u001b[38;5;241m.\u001b[39mlr \u001b[38;5;28;01mif\u001b[39;00m lr \u001b[38;5;129;01mis\u001b[39;00m \u001b[38;5;28;01mNone\u001b[39;00m \u001b[38;5;28;01melse\u001b[39;00m lr)\n\u001b[0;32m    263\u001b[0m \u001b[38;5;28mself\u001b[39m\u001b[38;5;241m.\u001b[39mn_epoch \u001b[38;5;241m=\u001b[39m n_epoch\n\u001b[0;32m    264\u001b[0m \u001b[38;5;28mself\u001b[39m\u001b[38;5;241m.\u001b[39m_with_events(\u001b[38;5;28mself\u001b[39m\u001b[38;5;241m.\u001b[39m_do_fit, \u001b[38;5;124m'\u001b[39m\u001b[38;5;124mfit\u001b[39m\u001b[38;5;124m'\u001b[39m, CancelFitException, \u001b[38;5;28mself\u001b[39m\u001b[38;5;241m.\u001b[39m_end_cleanup)\n",
      "\u001b[1;31mAttributeError\u001b[0m: 'SGD' object has no attribute 'set_hypers'"
     ]
    }
   ],
   "source": [
    "learn.fit(10, lr=lr)"
   ]
  },
  {
   "cell_type": "markdown",
   "metadata": {},
   "source": [
    "## Adding a Nonlinearity"
   ]
  },
  {
   "cell_type": "markdown",
   "metadata": {},
   "source": [
    "Here is the entire definition of a basic neural network:"
   ]
  },
  {
   "cell_type": "code",
   "execution_count": null,
   "metadata": {},
   "outputs": [],
   "source": [
    "def simple_net(xb):\n",
    " res = xb@w1 + b1\n",
    " res = res.max(tensor(0.0))\n",
    " res = res@w2 + b2\n",
    " return res"
   ]
  },
  {
   "cell_type": "markdown",
   "metadata": {},
   "source": [
    "That’s it! All we have in simple_net is two linear classifiers with a max function\n",
    "between them.\n",
    "Here, w1 and w2 are weight tensors, and b1 and b2 are bias tensors; that is, parameters\n",
    "that are initially randomly initialized, just as we did in the previous section:"
   ]
  },
  {
   "cell_type": "code",
   "execution_count": null,
   "metadata": {},
   "outputs": [],
   "source": [
    "w1 = init_params((28*28,30))\n",
    "b1 = init_params(30)\n",
    "w2 = init_params((30,1))\n",
    "b2 = init_params(1)"
   ]
  },
  {
   "cell_type": "code",
   "execution_count": null,
   "metadata": {},
   "outputs": [
    {
     "data": {
      "image/png": "[encoded data removed]",
      "text/plain": [
       "<Figure size 600x400 with 1 Axes>"
      ]
     },
     "metadata": {},
     "output_type": "display_data"
    }
   ],
   "source": [
    "plot_function(F.relu)"
   ]
  },
  {
   "cell_type": "markdown",
   "metadata": {},
   "source": [
    "Just as in the previous section, we can replace this code with something a bit simpler\n",
    "by taking advantage of PyTorch:"
   ]
  },
  {
   "cell_type": "code",
   "execution_count": null,
   "metadata": {},
   "outputs": [],
   "source": [
    "simple_net = nn.Sequential(\n",
    " nn.Linear(28*28,30),\n",
    " nn.ReLU(),\n",
    " nn.Linear(30,1)\n",
    ")"
   ]
  },
  {
   "cell_type": "markdown",
   "metadata": {},
   "source": [
    "Because nn.Sequential is a module, we can get its parameters, which will return a\n",
    "list of all the parameters of all the modules it contains. Let’s try it out! As this is a\n",
    "deeper model, we’ll use a lower learning rate and a few more epochs:"
   ]
  },
  {
   "cell_type": "code",
   "execution_count": 48,
   "metadata": {},
   "outputs": [
    {
     "ename": "NameError",
     "evalue": "name 'Learner' is not defined",
     "output_type": "error",
     "traceback": [
      "\u001b[1;31m---------------------------------------------------------------------------\u001b[0m",
      "\u001b[1;31mNameError\u001b[0m                                 Traceback (most recent call last)",
      "Cell \u001b[1;32mIn[48], line 1\u001b[0m\n\u001b[1;32m----> 1\u001b[0m learn \u001b[38;5;241m=\u001b[39m \u001b[43mLearner\u001b[49m(dls, simple_net, opt_func\u001b[38;5;241m=\u001b[39moptim\u001b[38;5;241m.\u001b[39mSGD,\n\u001b[0;32m      2\u001b[0m  loss_func\u001b[38;5;241m=\u001b[39mmnist_loss, metrics\u001b[38;5;241m=\u001b[39mbatch_accuracy)\n\u001b[0;32m      3\u001b[0m learn\u001b[38;5;241m.\u001b[39mfit_one_cycle(\u001b[38;5;241m40\u001b[39m, lr\u001b[38;5;241m=\u001b[39m\u001b[38;5;241m0.1\u001b[39m)\n",
      "\u001b[1;31mNameError\u001b[0m: name 'Learner' is not defined"
     ]
    }
   ],
   "source": [
    "learn = Learner(dls, simple_net, opt_func=optim.SGD,\n",
    " loss_func=mnist_loss, metrics=batch_accuracy)\n",
    "learn.fit_one_cycle(40, lr=0.1)"
   ]
  },
  {
   "cell_type": "markdown",
   "metadata": {},
   "source": [
    "We’re not showing the 40 lines of output here to save room; the training process is\n",
    "recorded in learn.recorder, with the table of output stored in the values attribute,\n",
    "so we can plot the accuracy over training:"
   ]
  },
  {
   "cell_type": "code",
   "execution_count": null,
   "metadata": {},
   "outputs": [
    {
     "ename": "AttributeError",
     "evalue": "'Sequential' object has no attribute 'values'",
     "output_type": "error",
     "traceback": [
      "\u001b[1;31m---------------------------------------------------------------------------\u001b[0m",
      "\u001b[1;31mAttributeError\u001b[0m                            Traceback (most recent call last)",
      "Cell \u001b[1;32mIn[142], line 1\u001b[0m\n\u001b[1;32m----> 1\u001b[0m plt\u001b[38;5;241m.\u001b[39mplot(L(\u001b[43mlearn\u001b[49m\u001b[38;5;241;43m.\u001b[39;49m\u001b[43mrecorder\u001b[49m\u001b[38;5;241;43m.\u001b[39;49m\u001b[43mvalues\u001b[49m)\u001b[38;5;241m.\u001b[39mitemgot(\u001b[38;5;241m2\u001b[39m));\n",
      "File \u001b[1;32mc:\\Users\\TAGCH\\OneDrive\\Desktop\\Gen Ai\\Assignment3\\Basic_FastAI_Model\\env\\lib\\site-packages\\fastcore\\basics.py:496\u001b[0m, in \u001b[0;36mGetAttr.__getattr__\u001b[1;34m(self, k)\u001b[0m\n\u001b[0;32m    494\u001b[0m \u001b[38;5;28;01mif\u001b[39;00m \u001b[38;5;28mself\u001b[39m\u001b[38;5;241m.\u001b[39m_component_attr_filter(k):\n\u001b[0;32m    495\u001b[0m     attr \u001b[38;5;241m=\u001b[39m \u001b[38;5;28mgetattr\u001b[39m(\u001b[38;5;28mself\u001b[39m,\u001b[38;5;28mself\u001b[39m\u001b[38;5;241m.\u001b[39m_default,\u001b[38;5;28;01mNone\u001b[39;00m)\n\u001b[1;32m--> 496\u001b[0m     \u001b[38;5;28;01mif\u001b[39;00m attr \u001b[38;5;129;01mis\u001b[39;00m \u001b[38;5;129;01mnot\u001b[39;00m \u001b[38;5;28;01mNone\u001b[39;00m: \u001b[38;5;28;01mreturn\u001b[39;00m \u001b[38;5;28;43mgetattr\u001b[39;49m\u001b[43m(\u001b[49m\u001b[43mattr\u001b[49m\u001b[43m,\u001b[49m\u001b[43mk\u001b[49m\u001b[43m)\u001b[49m\n\u001b[0;32m    497\u001b[0m \u001b[38;5;28;01mraise\u001b[39;00m \u001b[38;5;167;01mAttributeError\u001b[39;00m(k)\n",
      "File \u001b[1;32mc:\\Users\\TAGCH\\OneDrive\\Desktop\\Gen Ai\\Assignment3\\Basic_FastAI_Model\\env\\lib\\site-packages\\fastcore\\basics.py:496\u001b[0m, in \u001b[0;36mGetAttr.__getattr__\u001b[1;34m(self, k)\u001b[0m\n\u001b[0;32m    494\u001b[0m \u001b[38;5;28;01mif\u001b[39;00m \u001b[38;5;28mself\u001b[39m\u001b[38;5;241m.\u001b[39m_component_attr_filter(k):\n\u001b[0;32m    495\u001b[0m     attr \u001b[38;5;241m=\u001b[39m \u001b[38;5;28mgetattr\u001b[39m(\u001b[38;5;28mself\u001b[39m,\u001b[38;5;28mself\u001b[39m\u001b[38;5;241m.\u001b[39m_default,\u001b[38;5;28;01mNone\u001b[39;00m)\n\u001b[1;32m--> 496\u001b[0m     \u001b[38;5;28;01mif\u001b[39;00m attr \u001b[38;5;129;01mis\u001b[39;00m \u001b[38;5;129;01mnot\u001b[39;00m \u001b[38;5;28;01mNone\u001b[39;00m: \u001b[38;5;28;01mreturn\u001b[39;00m \u001b[38;5;28;43mgetattr\u001b[39;49m\u001b[43m(\u001b[49m\u001b[43mattr\u001b[49m\u001b[43m,\u001b[49m\u001b[43mk\u001b[49m\u001b[43m)\u001b[49m\n\u001b[0;32m    497\u001b[0m \u001b[38;5;28;01mraise\u001b[39;00m \u001b[38;5;167;01mAttributeError\u001b[39;00m(k)\n",
      "File \u001b[1;32mc:\\Users\\TAGCH\\OneDrive\\Desktop\\Gen Ai\\Assignment3\\Basic_FastAI_Model\\env\\lib\\site-packages\\torch\\nn\\modules\\module.py:1695\u001b[0m, in \u001b[0;36mModule.__getattr__\u001b[1;34m(self, name)\u001b[0m\n\u001b[0;32m   1693\u001b[0m     \u001b[38;5;28;01mif\u001b[39;00m name \u001b[38;5;129;01min\u001b[39;00m modules:\n\u001b[0;32m   1694\u001b[0m         \u001b[38;5;28;01mreturn\u001b[39;00m modules[name]\n\u001b[1;32m-> 1695\u001b[0m \u001b[38;5;28;01mraise\u001b[39;00m \u001b[38;5;167;01mAttributeError\u001b[39;00m(\u001b[38;5;124mf\u001b[39m\u001b[38;5;124m\"\u001b[39m\u001b[38;5;124m'\u001b[39m\u001b[38;5;132;01m{\u001b[39;00m\u001b[38;5;28mtype\u001b[39m(\u001b[38;5;28mself\u001b[39m)\u001b[38;5;241m.\u001b[39m\u001b[38;5;18m__name__\u001b[39m\u001b[38;5;132;01m}\u001b[39;00m\u001b[38;5;124m'\u001b[39m\u001b[38;5;124m object has no attribute \u001b[39m\u001b[38;5;124m'\u001b[39m\u001b[38;5;132;01m{\u001b[39;00mname\u001b[38;5;132;01m}\u001b[39;00m\u001b[38;5;124m'\u001b[39m\u001b[38;5;124m\"\u001b[39m)\n",
      "\u001b[1;31mAttributeError\u001b[0m: 'Sequential' object has no attribute 'values'"
     ]
    }
   ],
   "source": [
    "plt.plot(L(learn.recorder.values).itemgot(2));"
   ]
  },
  {
   "cell_type": "markdown",
   "metadata": {},
   "source": [
    "And we can view the final accuracy:"
   ]
  },
  {
   "cell_type": "code",
   "execution_count": null,
   "metadata": {},
   "outputs": [
    {
     "ename": "AttributeError",
     "evalue": "'Sequential' object has no attribute 'values'",
     "output_type": "error",
     "traceback": [
      "\u001b[1;31m---------------------------------------------------------------------------\u001b[0m",
      "\u001b[1;31mAttributeError\u001b[0m                            Traceback (most recent call last)",
      "Cell \u001b[1;32mIn[143], line 1\u001b[0m\n\u001b[1;32m----> 1\u001b[0m \u001b[43mlearn\u001b[49m\u001b[38;5;241;43m.\u001b[39;49m\u001b[43mrecorder\u001b[49m\u001b[38;5;241;43m.\u001b[39;49m\u001b[43mvalues\u001b[49m[\u001b[38;5;241m-\u001b[39m\u001b[38;5;241m1\u001b[39m][\u001b[38;5;241m2\u001b[39m]\n",
      "File \u001b[1;32mc:\\Users\\TAGCH\\OneDrive\\Desktop\\Gen Ai\\Assignment3\\Basic_FastAI_Model\\env\\lib\\site-packages\\fastcore\\basics.py:496\u001b[0m, in \u001b[0;36mGetAttr.__getattr__\u001b[1;34m(self, k)\u001b[0m\n\u001b[0;32m    494\u001b[0m \u001b[38;5;28;01mif\u001b[39;00m \u001b[38;5;28mself\u001b[39m\u001b[38;5;241m.\u001b[39m_component_attr_filter(k):\n\u001b[0;32m    495\u001b[0m     attr \u001b[38;5;241m=\u001b[39m \u001b[38;5;28mgetattr\u001b[39m(\u001b[38;5;28mself\u001b[39m,\u001b[38;5;28mself\u001b[39m\u001b[38;5;241m.\u001b[39m_default,\u001b[38;5;28;01mNone\u001b[39;00m)\n\u001b[1;32m--> 496\u001b[0m     \u001b[38;5;28;01mif\u001b[39;00m attr \u001b[38;5;129;01mis\u001b[39;00m \u001b[38;5;129;01mnot\u001b[39;00m \u001b[38;5;28;01mNone\u001b[39;00m: \u001b[38;5;28;01mreturn\u001b[39;00m \u001b[38;5;28;43mgetattr\u001b[39;49m\u001b[43m(\u001b[49m\u001b[43mattr\u001b[49m\u001b[43m,\u001b[49m\u001b[43mk\u001b[49m\u001b[43m)\u001b[49m\n\u001b[0;32m    497\u001b[0m \u001b[38;5;28;01mraise\u001b[39;00m \u001b[38;5;167;01mAttributeError\u001b[39;00m(k)\n",
      "File \u001b[1;32mc:\\Users\\TAGCH\\OneDrive\\Desktop\\Gen Ai\\Assignment3\\Basic_FastAI_Model\\env\\lib\\site-packages\\fastcore\\basics.py:496\u001b[0m, in \u001b[0;36mGetAttr.__getattr__\u001b[1;34m(self, k)\u001b[0m\n\u001b[0;32m    494\u001b[0m \u001b[38;5;28;01mif\u001b[39;00m \u001b[38;5;28mself\u001b[39m\u001b[38;5;241m.\u001b[39m_component_attr_filter(k):\n\u001b[0;32m    495\u001b[0m     attr \u001b[38;5;241m=\u001b[39m \u001b[38;5;28mgetattr\u001b[39m(\u001b[38;5;28mself\u001b[39m,\u001b[38;5;28mself\u001b[39m\u001b[38;5;241m.\u001b[39m_default,\u001b[38;5;28;01mNone\u001b[39;00m)\n\u001b[1;32m--> 496\u001b[0m     \u001b[38;5;28;01mif\u001b[39;00m attr \u001b[38;5;129;01mis\u001b[39;00m \u001b[38;5;129;01mnot\u001b[39;00m \u001b[38;5;28;01mNone\u001b[39;00m: \u001b[38;5;28;01mreturn\u001b[39;00m \u001b[38;5;28;43mgetattr\u001b[39;49m\u001b[43m(\u001b[49m\u001b[43mattr\u001b[49m\u001b[43m,\u001b[49m\u001b[43mk\u001b[49m\u001b[43m)\u001b[49m\n\u001b[0;32m    497\u001b[0m \u001b[38;5;28;01mraise\u001b[39;00m \u001b[38;5;167;01mAttributeError\u001b[39;00m(k)\n",
      "File \u001b[1;32mc:\\Users\\TAGCH\\OneDrive\\Desktop\\Gen Ai\\Assignment3\\Basic_FastAI_Model\\env\\lib\\site-packages\\torch\\nn\\modules\\module.py:1695\u001b[0m, in \u001b[0;36mModule.__getattr__\u001b[1;34m(self, name)\u001b[0m\n\u001b[0;32m   1693\u001b[0m     \u001b[38;5;28;01mif\u001b[39;00m name \u001b[38;5;129;01min\u001b[39;00m modules:\n\u001b[0;32m   1694\u001b[0m         \u001b[38;5;28;01mreturn\u001b[39;00m modules[name]\n\u001b[1;32m-> 1695\u001b[0m \u001b[38;5;28;01mraise\u001b[39;00m \u001b[38;5;167;01mAttributeError\u001b[39;00m(\u001b[38;5;124mf\u001b[39m\u001b[38;5;124m\"\u001b[39m\u001b[38;5;124m'\u001b[39m\u001b[38;5;132;01m{\u001b[39;00m\u001b[38;5;28mtype\u001b[39m(\u001b[38;5;28mself\u001b[39m)\u001b[38;5;241m.\u001b[39m\u001b[38;5;18m__name__\u001b[39m\u001b[38;5;132;01m}\u001b[39;00m\u001b[38;5;124m'\u001b[39m\u001b[38;5;124m object has no attribute \u001b[39m\u001b[38;5;124m'\u001b[39m\u001b[38;5;132;01m{\u001b[39;00mname\u001b[38;5;132;01m}\u001b[39;00m\u001b[38;5;124m'\u001b[39m\u001b[38;5;124m\"\u001b[39m)\n",
      "\u001b[1;31mAttributeError\u001b[0m: 'Sequential' object has no attribute 'values'"
     ]
    }
   ],
   "source": [
    "learn.recorder.values[-1][2]"
   ]
  },
  {
   "cell_type": "markdown",
   "metadata": {},
   "source": [
    "## Going Deeper"
   ]
  },
  {
   "cell_type": "code",
   "execution_count": null,
   "metadata": {},
   "outputs": [],
   "source": [
    "dls = ImageDataLoaders.from_folder(path)\n",
    "learn = cnn_learner(dls, resnet18, pretrained=False,\n",
    " loss_func=F.cross_entropy, metrics=accuracy)\n",
    "learn.fit_one_cycle(1, 0.1)"
   ]
  }
 ],
 "metadata": {
  "kernelspec": {
   "display_name": "env",
   "language": "python",
   "name": "python3"
  },
  "language_info": {
   "codemirror_mode": {
    "name": "ipython",
    "version": 3
   },
   "file_extension": ".py",
   "mimetype": "text/x-python",
   "name": "python",
   "nbconvert_exporter": "python",
   "pygments_lexer": "ipython3",
   "version": "3.10.0"
  }
 },
 "nbformat": 4,
 "nbformat_minor": 2
}
